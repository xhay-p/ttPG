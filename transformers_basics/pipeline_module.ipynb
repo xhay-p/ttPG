{
 "cells": [
  {
   "cell_type": "code",
   "execution_count": 1,
   "id": "39df63ea-e79a-4d5a-a075-f0ac2199939a",
   "metadata": {},
   "outputs": [],
   "source": [
    "from transformers import pipeline"
   ]
  },
  {
   "cell_type": "markdown",
   "id": "2f095afb-ae79-4051-a4e7-e8ca1a78fe8b",
   "metadata": {},
   "source": [
    "The [pipelines](https://huggingface.co/docs/transformers/main_classes/pipelines) are objects that abstract most of the complex code from the library, offering a simple API dedicated to several tasks, including Named Entity Recognition, Masked Language Modeling, Sentiment Analysis, Feature Extraction and Question Answering.\n",
    "\n",
    "It connects a model with its necessary preprocessing and postprocessing steps, allowing us to directly input any text and get an intelligible answer"
   ]
  },
  {
   "cell_type": "markdown",
   "id": "bf1f17b8-48f0-4055-8b19-dae3b35d98a8",
   "metadata": {},
   "source": [
    "## Sentiment Analysis\n",
    "\n",
    "Sentiment Analysis is the task of classifying the input text in the defined categories of sentiment. This is one of the most common NLP task commonly used for identifying user sentiments based on reviews. The common sentiment classes as *positive*, *negative*, and *neutral*.\n",
    "\n",
    "Here in the following examples, we are using sentiment analysis to identify sentiments for the news headlines."
   ]
  },
  {
   "cell_type": "code",
   "execution_count": 2,
   "id": "b5143ba6-f272-48f6-962e-bafe0d0735ef",
   "metadata": {},
   "outputs": [],
   "source": [
    "data = [\"LTIMindtree Q2FY24: Show of strength. Good revenue growth and resilient margin performance\",\n",
    "        \"The company expects furloughs to be more pronounced in Q3 and it is guiding to a very weak quarter, with revenue decline between 1.5 percent and 3.5 percent\",\n",
    "        \"Arkam Ventures is also an investor in Jai Kisan, one of India’s fastest-growing rural fintech platforms for farmers and retailers, and Jumbotail, India’s leading B2B food and grocery marketplace and retail platform\",\n",
    "        \n",
    "       ]"
   ]
  },
  {
   "cell_type": "code",
   "execution_count": 3,
   "id": "420753f9-19df-424f-8b79-c787e9da3ed6",
   "metadata": {},
   "outputs": [
    {
     "name": "stderr",
     "output_type": "stream",
     "text": [
      "No model was supplied, defaulted to distilbert-base-uncased-finetuned-sst-2-english and revision af0f99b (https://huggingface.co/distilbert-base-uncased-finetuned-sst-2-english).\n",
      "Using a pipeline without specifying a model name and revision in production is not recommended.\n"
     ]
    }
   ],
   "source": [
    "classifier = pipeline(\"sentiment-analysis\")"
   ]
  },
  {
   "cell_type": "markdown",
   "id": "36c49680-360b-427f-a86e-94f5e6261cff",
   "metadata": {},
   "source": [
    "#### What happens?\n",
    "\n",
    "The default model for sentiment analysis is downloaded (if no specific model is mentioned) into cache. This followed by 3 steps that are abstracted from the end-users:\n",
    "\n",
    "* Pre-processing of the input in required tensor.\n",
    "* Output generation using the task and model.\n",
    "* Post-processing the output for the end-users."
   ]
  },
  {
   "cell_type": "code",
   "execution_count": 4,
   "id": "8010aa77-e6f4-4b03-8220-2759f2f93b26",
   "metadata": {},
   "outputs": [
    {
     "data": {
      "text/plain": [
       "[{'label': 'POSITIVE', 'score': 0.9995540976524353},\n",
       " {'label': 'NEGATIVE', 'score': 0.9995874762535095},\n",
       " {'label': 'POSITIVE', 'score': 0.9979150891304016}]"
      ]
     },
     "execution_count": 4,
     "metadata": {},
     "output_type": "execute_result"
    }
   ],
   "source": [
    "classifier(data)"
   ]
  },
  {
   "cell_type": "markdown",
   "id": "8d33937a-b055-4cef-893e-69e63c4e1d79",
   "metadata": {},
   "source": [
    "## Text-generation Pipeline\n",
    "\n",
    "In [this pipeline](https://huggingface.co/docs/transformers/main_classes/pipelines#transformers.TextGenerationPipeline), we will provide a prompt, and the model will try to auto-complete the prompt by generating text in continuation. \n",
    "\n",
    "In the previous pipeline, we relied on the pipeline to use the default model for the task of sentiment analysis. Here, we are specifying the model to use **distilgpt2**. Also, we are specifying the task by appropriate parameter. "
   ]
  },
  {
   "cell_type": "code",
   "execution_count": 5,
   "id": "81b9d360-5c4d-4a76-82b4-cdbe0fe8c65c",
   "metadata": {},
   "outputs": [],
   "source": [
    "generator = pipeline(task='text-generation', model='distilgpt2')"
   ]
  },
  {
   "cell_type": "code",
   "execution_count": 6,
   "id": "b0514861-7de4-493a-b831-e5f069e85e3a",
   "metadata": {},
   "outputs": [
    {
     "name": "stderr",
     "output_type": "stream",
     "text": [
      "Setting `pad_token_id` to `eos_token_id`:50256 for open-end generation.\n"
     ]
    },
    {
     "data": {
      "text/plain": [
       "[{'generated_text': 'LTIMindtree Q2FY24: Show of strength. Good revenue growth and resilient margin performance. Thus indicating, investors can start on as low as possible. -0.50% -00.50% -00.50% -00'}]"
      ]
     },
     "execution_count": 6,
     "metadata": {},
     "output_type": "execute_result"
    }
   ],
   "source": [
    "generator(\"LTIMindtree Q2FY24: Show of strength. Good revenue growth and resilient margin performance. Thus indicating, investors can\")"
   ]
  },
  {
   "cell_type": "code",
   "execution_count": 7,
   "id": "368f6e5f-ab93-4800-8610-d5e4f6a4b319",
   "metadata": {},
   "outputs": [
    {
     "name": "stderr",
     "output_type": "stream",
     "text": [
      "Setting `pad_token_id` to `eos_token_id`:50256 for open-end generation.\n"
     ]
    },
    {
     "data": {
      "text/plain": [
       "[{'generated_text': 'LTIMindtree Q2FY24: Show of strength. Good revenue growth and resilient margin performance. Thus indicating, investors can leverage and generate some real value.\\n\\n\\nIn the face of this, there is also a need to diversify'},\n",
       " {'generated_text': 'LTIMindtree Q2FY24: Show of strength. Good revenue growth and resilient margin performance. Thus indicating, investors can now expect to see positive results from investment.\\n\\n\\n\\nThe company is now in some form of bankruptcy as it'}]"
      ]
     },
     "execution_count": 7,
     "metadata": {},
     "output_type": "execute_result"
    }
   ],
   "source": [
    "generator(\"LTIMindtree Q2FY24: Show of strength. Good revenue growth and resilient margin performance. Thus indicating, investors can\",\n",
    "         max_length=50,\n",
    "         num_return_sequences=2)"
   ]
  },
  {
   "cell_type": "markdown",
   "id": "cf7f2ab9-5ebe-4a57-978e-e3c628b9ca8c",
   "metadata": {},
   "source": [
    "The generated responses are always different because of the randomness introduced by probabilistic generation."
   ]
  },
  {
   "cell_type": "markdown",
   "id": "1f1b127c-8515-486c-aaa5-a08c9ca3bfa7",
   "metadata": {},
   "source": [
    "## Named Entity Recognition\n",
    "\n",
    "This [pipeline](https://huggingface.co/docs/transformers/main_classes/pipelines#transformers.TokenClassificationPipeline) is used to identify the named entities (i.e. real-world objects) present in the input text. Some of the examples of NER classes are *Person*, *Organization*, and *Location*. NER is one of the important tasks of Information Extraction. The identified information is further used in relation classification. Together entities and relations are used in populating knowledge bases/graphs, which can be utilized by any downstream application."
   ]
  },
  {
   "cell_type": "code",
   "execution_count": 8,
   "id": "ac1a4eb8-1d7c-4fcd-a75e-97986a825e1c",
   "metadata": {},
   "outputs": [
    {
     "name": "stderr",
     "output_type": "stream",
     "text": [
      "No model was supplied, defaulted to dbmdz/bert-large-cased-finetuned-conll03-english and revision f2482bf (https://huggingface.co/dbmdz/bert-large-cased-finetuned-conll03-english).\n",
      "Using a pipeline without specifying a model name and revision in production is not recommended.\n",
      "Some weights of the model checkpoint at dbmdz/bert-large-cased-finetuned-conll03-english were not used when initializing BertForTokenClassification: ['bert.pooler.dense.bias', 'bert.pooler.dense.weight']\n",
      "- This IS expected if you are initializing BertForTokenClassification from the checkpoint of a model trained on another task or with another architecture (e.g. initializing a BertForSequenceClassification model from a BertForPreTraining model).\n",
      "- This IS NOT expected if you are initializing BertForTokenClassification from the checkpoint of a model that you expect to be exactly identical (initializing a BertForSequenceClassification model from a BertForSequenceClassification model).\n",
      "/home/akshay/DLNLP/nlp_env/lib/python3.10/site-packages/transformers/pipelines/token_classification.py:169: UserWarning: `grouped_entities` is deprecated and will be removed in version v5.0.0, defaulted to `aggregation_strategy=\"simple\"` instead.\n",
      "  warnings.warn(\n"
     ]
    }
   ],
   "source": [
    "ner = pipeline('ner', grouped_entities=True)"
   ]
  },
  {
   "cell_type": "code",
   "execution_count": 9,
   "id": "f3ef2783-b155-4e48-9a48-b68c14881ffe",
   "metadata": {},
   "outputs": [
    {
     "data": {
      "text/plain": [
       "[{'entity_group': 'ORG',\n",
       "  'score': 0.99537367,\n",
       "  'word': 'Arkam Ventures',\n",
       "  'start': 0,\n",
       "  'end': 14},\n",
       " {'entity_group': 'ORG',\n",
       "  'score': 0.9757264,\n",
       "  'word': 'Jai Kisan',\n",
       "  'start': 38,\n",
       "  'end': 47},\n",
       " {'entity_group': 'LOC',\n",
       "  'score': 0.9988807,\n",
       "  'word': 'India',\n",
       "  'start': 56,\n",
       "  'end': 61},\n",
       " {'entity_group': 'ORG',\n",
       "  'score': 0.91945344,\n",
       "  'word': 'Jumbotail',\n",
       "  'start': 135,\n",
       "  'end': 144},\n",
       " {'entity_group': 'LOC',\n",
       "  'score': 0.9992254,\n",
       "  'word': 'India',\n",
       "  'start': 146,\n",
       "  'end': 151}]"
      ]
     },
     "execution_count": 9,
     "metadata": {},
     "output_type": "execute_result"
    }
   ],
   "source": [
    "ner(data[2])"
   ]
  },
  {
   "cell_type": "markdown",
   "id": "1833f73c-57ad-4fed-9c24-10c930cf967a",
   "metadata": {},
   "source": [
    "## Question Answering\n",
    "\n",
    "In this [pipeline](https://huggingface.co/docs/transformers/main_classes/pipelines#transformers.QuestionAnsweringPipeline) the model tries to generate answer for an input question from the provided context. This is more of an extractive question answering task."
   ]
  },
  {
   "cell_type": "code",
   "execution_count": 10,
   "id": "229f03ee-0edb-416f-a5d2-458c5fbdaabd",
   "metadata": {},
   "outputs": [
    {
     "name": "stderr",
     "output_type": "stream",
     "text": [
      "No model was supplied, defaulted to distilbert-base-cased-distilled-squad and revision 626af31 (https://huggingface.co/distilbert-base-cased-distilled-squad).\n",
      "Using a pipeline without specifying a model name and revision in production is not recommended.\n"
     ]
    }
   ],
   "source": [
    "qa = pipeline(\"question-answering\")"
   ]
  },
  {
   "cell_type": "code",
   "execution_count": 11,
   "id": "27b750ab-24e2-4c9a-8da5-462fae93b251",
   "metadata": {},
   "outputs": [
    {
     "data": {
      "text/plain": [
       "{'score': 0.17462730407714844, 'start': 38, 'end': 47, 'answer': 'Jai Kisan'}"
      ]
     },
     "execution_count": 11,
     "metadata": {},
     "output_type": "execute_result"
    }
   ],
   "source": [
    "qa(\n",
    "    question=\"In which companies Akram Ventures have invested?\",\n",
    "    context=data[2]\n",
    ")"
   ]
  },
  {
   "cell_type": "markdown",
   "id": "b47aa35f-148a-478b-a3a6-5d7ab73fe14c",
   "metadata": {},
   "source": [
    "**NOTE:** This pipeline works by extracting information from the provided context; it does not generate the answer."
   ]
  },
  {
   "cell_type": "markdown",
   "id": "aac76595-4e17-44cb-9786-19af98df087f",
   "metadata": {},
   "source": [
    "## Summarization\n",
    "\n",
    "This [pipeline](https://huggingface.co/docs/transformers/main_classes/pipelines#transformers.SummarizationPipeline) summarises the input text into smaller text keeping the important aspects (contexts) from the input text."
   ]
  },
  {
   "cell_type": "code",
   "execution_count": 12,
   "id": "7e94289a-2c19-473a-8924-8f3e005acf56",
   "metadata": {},
   "outputs": [],
   "source": [
    "input_text = \"\"\"Thus far, late stage start-ups, including the Unicorns, have faced the brunt of the funding winter. \n",
    "Early stage investment activity was relatively unaffected.  In fact, right through 2022, Angel, Seed and Series-A rounds were comparing quite favourably even to the dizzying heights of 2021.\n",
    "But almost all good things need to come to an end. Nine months into 2023, the funding winter is biting hard in the early stage funding segment. And the latest quarter - ending September 2023 - has been especially harsh.\n",
    "In the first nine months of 2023, Indian startups (overall) raised US$ 5.9 billion in funding. \n",
    "This his a 72 per cent decline compared to the US$21.3 billion they raised during the same period in 2022. \n",
    "Of this, Q3 CY223 saw 115 investments worth US$1.9 billion, marking a 61 decline from the 292 investments worth US$2.8 billion in the same period during 2022.\n",
    "\"\"\""
   ]
  },
  {
   "cell_type": "code",
   "execution_count": 13,
   "id": "344ab305-c353-4a09-8db8-4fee0382e533",
   "metadata": {},
   "outputs": [
    {
     "name": "stderr",
     "output_type": "stream",
     "text": [
      "No model was supplied, defaulted to sshleifer/distilbart-cnn-12-6 and revision a4f8f3e (https://huggingface.co/sshleifer/distilbart-cnn-12-6).\n",
      "Using a pipeline without specifying a model name and revision in production is not recommended.\n"
     ]
    }
   ],
   "source": [
    "summarizer = pipeline(\"summarization\")"
   ]
  },
  {
   "cell_type": "code",
   "execution_count": 14,
   "id": "afa2cbe4-7603-45c7-8e98-c60e7e426c99",
   "metadata": {},
   "outputs": [
    {
     "data": {
      "text/plain": [
       "[{'summary_text': ' In the first nine months of 2023, Indian startups (overall) raised US$ 5.9 billion in funding . This is a 72 per cent decline compared to the US$21.3 billion they raised during the same period'}]"
      ]
     },
     "execution_count": 14,
     "metadata": {},
     "output_type": "execute_result"
    }
   ],
   "source": [
    "summarizer(input_text, min_length=10, max_length=50)"
   ]
  },
  {
   "cell_type": "code",
   "execution_count": null,
   "id": "b4bf319a-3fd8-46a6-a2d5-eca7a94ec706",
   "metadata": {},
   "outputs": [],
   "source": []
  }
 ],
 "metadata": {
  "kernelspec": {
   "display_name": "Python 3 (ipykernel)",
   "language": "python",
   "name": "python3"
  },
  "language_info": {
   "codemirror_mode": {
    "name": "ipython",
    "version": 3
   },
   "file_extension": ".py",
   "mimetype": "text/x-python",
   "name": "python",
   "nbconvert_exporter": "python",
   "pygments_lexer": "ipython3",
   "version": "3.10.12"
  }
 },
 "nbformat": 4,
 "nbformat_minor": 5
}
