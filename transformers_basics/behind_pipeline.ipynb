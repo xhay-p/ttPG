{
 "cells": [
  {
   "cell_type": "markdown",
   "id": "3c2fdd94-56c0-4d6a-838f-7c75855364e9",
   "metadata": {},
   "source": [
    "# Sentiment Analysis Using the Pipeline"
   ]
  },
  {
   "cell_type": "code",
   "execution_count": 1,
   "id": "d83cd03f-3286-4e36-9a26-34c97b97fe2c",
   "metadata": {},
   "outputs": [],
   "source": [
    "from transformers import pipeline"
   ]
  },
  {
   "cell_type": "code",
   "execution_count": 2,
   "id": "8328a590-bf95-4587-8e60-c61543e23125",
   "metadata": {},
   "outputs": [],
   "source": [
    "data = [\"LTIMindtree Q2FY24: Show of strength. Good revenue growth and resilient margin performance\",\n",
    "        \"The company expects furloughs to be more pronounced in Q3 and it is guiding to a very weak quarter, with revenue decline between 1.5 percent and 3.5 percent\",\n",
    "        \"Arkam Ventures is also an investor in Jai Kisan, one of India’s fastest-growing rural fintech platforms for farmers and retailers, and Jumbotail, India’s leading B2B food and grocery marketplace and retail platform\",\n",
    "       ]"
   ]
  },
  {
   "cell_type": "code",
   "execution_count": 3,
   "id": "05c176e6-de27-4a39-8bdb-4a4a260592a3",
   "metadata": {},
   "outputs": [],
   "source": [
    "model_name = \"distilbert-base-uncased-finetuned-sst-2-english\""
   ]
  },
  {
   "cell_type": "code",
   "execution_count": 4,
   "id": "433115ea-562f-469e-a9a0-e7c858cfe71d",
   "metadata": {},
   "outputs": [],
   "source": [
    "classifier = pipeline('sentiment-analysis', model=model_name)"
   ]
  },
  {
   "cell_type": "code",
   "execution_count": 5,
   "id": "63d58963-ba68-4934-8991-ab96f57d7a06",
   "metadata": {},
   "outputs": [
    {
     "data": {
      "text/plain": [
       "[{'label': 'POSITIVE', 'score': 0.9995540976524353},\n",
       " {'label': 'NEGATIVE', 'score': 0.9995874762535095},\n",
       " {'label': 'POSITIVE', 'score': 0.9979150891304016}]"
      ]
     },
     "execution_count": 5,
     "metadata": {},
     "output_type": "execute_result"
    }
   ],
   "source": [
    "classifier(data)"
   ]
  },
  {
   "cell_type": "markdown",
   "id": "977f8bfe-05e4-49d2-aa7d-94eb54e218ea",
   "metadata": {},
   "source": [
    "The pipeline groups together:\n",
    "1. **Input Pre-processing:** Takes in raw text and converts it into vectors of input IDs using **Tokenizer**.\n",
    "2. **Generating output from model:** Takes in the input IDs, converts them into embedding vectors finally generates output logits using the specified **Model**.\n",
    "3. **Post-Processing Output:** Converts the logits into appropriate output. For sentiment analysis, the output will be class labels. "
   ]
  },
  {
   "cell_type": "markdown",
   "id": "e24bcf88-01c3-4986-9765-d573a1e54814",
   "metadata": {},
   "source": [
    "# Steps that goes behind the pipeline!"
   ]
  },
  {
   "cell_type": "markdown",
   "id": "b477602f-12b6-4bb6-adf4-0c1193888a32",
   "metadata": {},
   "source": [
    "## Input Pre-processing\n",
    "\n",
    "1. Splitting the input text into tokens (words, sub-words, or symbols).\n",
    "2. Mapping each token to integer from vocab."
   ]
  },
  {
   "cell_type": "code",
   "execution_count": 6,
   "id": "c13f166b-ce34-4670-871e-e1303ec02680",
   "metadata": {},
   "outputs": [],
   "source": [
    "from transformers import AutoTokenizer"
   ]
  },
  {
   "cell_type": "code",
   "execution_count": 7,
   "id": "93c95052-ebcb-4c70-97c7-5906f6506691",
   "metadata": {},
   "outputs": [],
   "source": [
    "tokenizer =  AutoTokenizer.from_pretrained(model_name)"
   ]
  },
  {
   "cell_type": "code",
   "execution_count": 8,
   "id": "5e1818f3-15cf-4520-be27-eaea9f22ab2e",
   "metadata": {},
   "outputs": [],
   "source": [
    "input = tokenizer(data, padding=True, truncation=True, return_tensors=\"pt\")"
   ]
  },
  {
   "cell_type": "code",
   "execution_count": 9,
   "id": "3e2adc22-fb9a-4761-b409-a6bc1f7b1a34",
   "metadata": {},
   "outputs": [
    {
     "data": {
      "text/plain": [
       "{'input_ids': tensor([[  101,  8318, 27605, 26379,  9910,  1053,  2475, 12031, 18827,  1024,\n",
       "          2265,  1997,  3997,  1012,  2204,  6599,  3930,  1998, 24501, 18622,\n",
       "          4765,  7785,  2836,   102,     0,     0,     0,     0,     0,     0,\n",
       "             0,     0,     0,     0,     0,     0,     0,     0,     0,     0,\n",
       "             0,     0,     0,     0,     0,     0,     0,     0,     0,     0],\n",
       "        [  101,  1996,  2194, 24273,  6519, 23743,  5603,  2015,  2000,  2022,\n",
       "          2062,  8793,  1999,  1053,  2509,  1998,  2009,  2003, 14669,  2000,\n",
       "          1037,  2200,  5410,  4284,  1010,  2007,  6599,  6689,  2090,  1015,\n",
       "          1012,  1019,  3867,  1998,  1017,  1012,  1019,  3867,   102,     0,\n",
       "             0,     0,     0,     0,     0,     0,     0,     0,     0,     0],\n",
       "        [  101, 15745,  3286, 13252,  2003,  2036,  2019, 14316,  1999, 17410,\n",
       "         11382,  8791,  1010,  2028,  1997,  2634,  1521,  1055,  7915,  1011,\n",
       "          3652,  3541, 10346, 15007,  7248,  2005,  6617,  1998, 16629,  1010,\n",
       "          1998, 18414, 13344, 14162,  1010,  2634,  1521,  1055,  2877,  1038,\n",
       "          2475,  2497,  2833,  1998, 13025, 18086,  1998,  7027,  4132,   102]]), 'attention_mask': tensor([[1, 1, 1, 1, 1, 1, 1, 1, 1, 1, 1, 1, 1, 1, 1, 1, 1, 1, 1, 1, 1, 1, 1, 1,\n",
       "         0, 0, 0, 0, 0, 0, 0, 0, 0, 0, 0, 0, 0, 0, 0, 0, 0, 0, 0, 0, 0, 0, 0, 0,\n",
       "         0, 0],\n",
       "        [1, 1, 1, 1, 1, 1, 1, 1, 1, 1, 1, 1, 1, 1, 1, 1, 1, 1, 1, 1, 1, 1, 1, 1,\n",
       "         1, 1, 1, 1, 1, 1, 1, 1, 1, 1, 1, 1, 1, 1, 1, 0, 0, 0, 0, 0, 0, 0, 0, 0,\n",
       "         0, 0],\n",
       "        [1, 1, 1, 1, 1, 1, 1, 1, 1, 1, 1, 1, 1, 1, 1, 1, 1, 1, 1, 1, 1, 1, 1, 1,\n",
       "         1, 1, 1, 1, 1, 1, 1, 1, 1, 1, 1, 1, 1, 1, 1, 1, 1, 1, 1, 1, 1, 1, 1, 1,\n",
       "         1, 1]])}"
      ]
     },
     "execution_count": 9,
     "metadata": {},
     "output_type": "execute_result"
    }
   ],
   "source": [
    "input"
   ]
  },
  {
   "cell_type": "markdown",
   "id": "5316e12b-936c-4c07-93f4-cac9e33e536b",
   "metadata": {},
   "source": [
    "## Generating output from the model"
   ]
  },
  {
   "cell_type": "code",
   "execution_count": 28,
   "id": "846ddca5-6240-4542-810c-337f6b240fdf",
   "metadata": {},
   "outputs": [],
   "source": [
    "from transformers import AutoModelForSequenceClassification"
   ]
  },
  {
   "cell_type": "code",
   "execution_count": 29,
   "id": "ec512ba0-4415-4f82-b2bb-c9826d1a2c15",
   "metadata": {},
   "outputs": [],
   "source": [
    "model = AutoModelForSequenceClassification.from_pretrained(model_name)"
   ]
  },
  {
   "cell_type": "code",
   "execution_count": 30,
   "id": "a71733dc-2dee-4000-ae16-07899b135d8b",
   "metadata": {},
   "outputs": [],
   "source": [
    "output = model(**input)"
   ]
  },
  {
   "cell_type": "code",
   "execution_count": 31,
   "id": "79dd8697-cd8e-44b6-8b6e-af5cdad921d5",
   "metadata": {},
   "outputs": [
    {
     "data": {
      "text/plain": [
       "SequenceClassifierOutput(loss=None, logits=tensor([[-3.7354,  3.9795],\n",
       "        [ 4.2851, -3.5077],\n",
       "        [-3.0048,  3.1662]], grad_fn=<AddmmBackward0>), hidden_states=None, attentions=None)"
      ]
     },
     "execution_count": 31,
     "metadata": {},
     "output_type": "execute_result"
    }
   ],
   "source": [
    "output"
   ]
  },
  {
   "cell_type": "markdown",
   "id": "b40a3d5d-14b6-4c8d-868d-4e437e346b03",
   "metadata": {},
   "source": [
    "These are raw, unprocessed score outputted by the model."
   ]
  },
  {
   "cell_type": "markdown",
   "id": "5ddb8e35-c707-47e7-99c8-906440f31c3f",
   "metadata": {},
   "source": [
    "## Post-processing output"
   ]
  },
  {
   "cell_type": "code",
   "execution_count": 32,
   "id": "48e8d54a-bc03-47e5-85a4-44266d1022d8",
   "metadata": {},
   "outputs": [],
   "source": [
    "import torch"
   ]
  },
  {
   "cell_type": "code",
   "execution_count": 34,
   "id": "9796faa5-0d48-4528-83e0-25135e698beb",
   "metadata": {},
   "outputs": [
    {
     "name": "stderr",
     "output_type": "stream",
     "text": [
      "/tmp/ipykernel_2825902/3956620316.py:1: UserWarning: Implicit dimension choice for softmax has been deprecated. Change the call to include dim=X as an argument.\n",
      "  probs = torch.nn.functional.softmax(output.logits)\n"
     ]
    },
    {
     "data": {
      "text/plain": [
       "tensor([[4.4594e-04, 9.9955e-01],\n",
       "        [9.9959e-01, 4.1254e-04],\n",
       "        [2.0849e-03, 9.9792e-01]], grad_fn=<SoftmaxBackward0>)"
      ]
     },
     "execution_count": 34,
     "metadata": {},
     "output_type": "execute_result"
    }
   ],
   "source": [
    "probs = torch.nn.functional.softmax(output.logits)\n",
    "probs"
   ]
  },
  {
   "cell_type": "code",
   "execution_count": 35,
   "id": "c1cf1a7f-e673-4ce2-abf8-dbdc1ce5e587",
   "metadata": {},
   "outputs": [
    {
     "data": {
      "text/plain": [
       "{0: 'NEGATIVE', 1: 'POSITIVE'}"
      ]
     },
     "execution_count": 35,
     "metadata": {},
     "output_type": "execute_result"
    }
   ],
   "source": [
    "model.config.id2label"
   ]
  },
  {
   "cell_type": "code",
   "execution_count": 46,
   "id": "6e76a326-71df-49ec-8fe2-326894fb6b0d",
   "metadata": {},
   "outputs": [
    {
     "data": {
      "text/plain": [
       "['POSITIVE', 'NEGATIVE', 'POSITIVE']"
      ]
     },
     "execution_count": 46,
     "metadata": {},
     "output_type": "execute_result"
    }
   ],
   "source": [
    "preds = list(map(lambda x: model.config.id2label[x], torch.argmax(probs, axis=1).tolist()))\n",
    "preds"
   ]
  },
  {
   "cell_type": "code",
   "execution_count": 47,
   "id": "99c2b551-5507-49e6-b39e-81c6949e8cc1",
   "metadata": {},
   "outputs": [
    {
     "data": {
      "text/plain": [
       "[0.9995540976524353, 0.9995874762535095, 0.9979150891304016]"
      ]
     },
     "execution_count": 47,
     "metadata": {},
     "output_type": "execute_result"
    }
   ],
   "source": [
    "max_probs = torch.max(probs, axis=1).values.tolist()\n",
    "max_probs"
   ]
  },
  {
   "cell_type": "code",
   "execution_count": 50,
   "id": "e5839d17-d981-4487-be27-f0247488fd4d",
   "metadata": {},
   "outputs": [],
   "source": [
    "predictions = []\n",
    "for l, p in zip(preds, max_probs):\n",
    "    predictions.append(\n",
    "        {\n",
    "            'label':l,\n",
    "            'score':p\n",
    "        }\n",
    "    )"
   ]
  },
  {
   "cell_type": "code",
   "execution_count": 52,
   "id": "85e77b6c-3776-455e-8f0a-c5b7c9635927",
   "metadata": {},
   "outputs": [
    {
     "data": {
      "text/plain": [
       "[{'label': 'POSITIVE', 'score': 0.9995540976524353},\n",
       " {'label': 'NEGATIVE', 'score': 0.9995874762535095},\n",
       " {'label': 'POSITIVE', 'score': 0.9979150891304016}]"
      ]
     },
     "execution_count": 52,
     "metadata": {},
     "output_type": "execute_result"
    }
   ],
   "source": [
    "predictions"
   ]
  },
  {
   "cell_type": "code",
   "execution_count": null,
   "id": "e37aade6-7f19-4f04-ba29-315b6d9c1ecc",
   "metadata": {},
   "outputs": [],
   "source": []
  }
 ],
 "metadata": {
  "kernelspec": {
   "display_name": "Python 3 (ipykernel)",
   "language": "python",
   "name": "python3"
  },
  "language_info": {
   "codemirror_mode": {
    "name": "ipython",
    "version": 3
   },
   "file_extension": ".py",
   "mimetype": "text/x-python",
   "name": "python",
   "nbconvert_exporter": "python",
   "pygments_lexer": "ipython3",
   "version": "3.10.12"
  }
 },
 "nbformat": 4,
 "nbformat_minor": 5
}
