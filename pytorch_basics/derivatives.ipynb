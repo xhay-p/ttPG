{
 "cells": [
  {
   "cell_type": "code",
   "execution_count": 1,
   "metadata": {},
   "outputs": [
    {
     "data": {
      "text/plain": [
       "'2.1.0+cu121'"
      ]
     },
     "execution_count": 1,
     "metadata": {},
     "output_type": "execute_result"
    }
   ],
   "source": [
    "import torch\n",
    "import numpy as np\n",
    "import matplotlib.pyplot as plt\n",
    "import pandas as pd\n",
    "\n",
    "# Ignore warnings\n",
    "import warnings\n",
    "warnings.filterwarnings(\"ignore\")\n",
    "\n",
    "torch.__version__"
   ]
  },
  {
   "cell_type": "markdown",
   "metadata": {},
   "source": [
    "## Derivatives and tensors"
   ]
  },
  {
   "cell_type": "code",
   "execution_count": 2,
   "metadata": {},
   "outputs": [
    {
     "name": "stdout",
     "output_type": "stream",
     "text": [
      "False\n",
      "tensor(25., dtype=torch.float64, requires_grad=True)\n",
      "tensor(625., dtype=torch.float64, grad_fn=<PowBackward0>)\n"
     ]
    }
   ],
   "source": [
    "t = torch.ones(2,5)\n",
    "print(t.requires_grad)\n",
    "\n",
    "#x is a tensor initialised with value 2\n",
    "#requires_grad as True, it starts to track all operations on it.\n",
    "x = torch.tensor(25, dtype=torch.float64, requires_grad=True)\n",
    "print(x)\n",
    "#y = f(x)\n",
    "y = x**2\n",
    "print(y)"
   ]
  },
  {
   "cell_type": "markdown",
   "metadata": {},
   "source": [
    "#### Calculating derivative using backward()"
   ]
  },
  {
   "cell_type": "code",
   "execution_count": 3,
   "metadata": {},
   "outputs": [
    {
     "name": "stdout",
     "output_type": "stream",
     "text": [
      "x :: tensor(25., dtype=torch.float64, requires_grad=True)\n",
      "x data ::  tensor(25., dtype=torch.float64)\n",
      "x  gradient ::  None\n",
      "x gradient function ::  None\n",
      "\n",
      "y :: tensor(625., dtype=torch.float64, grad_fn=<PowBackward0>)\n",
      "y data ::  tensor(625., dtype=torch.float64)\n",
      "y  gradient ::  None\n",
      "y gradient function ::  <PowBackward0 object at 0x7fbcc3774ca0>\n"
     ]
    }
   ],
   "source": [
    "print(\"x ::\", x)\n",
    "print(\"x data :: \", x.data)\n",
    "print(\"x  gradient :: \", x.grad)\n",
    "print(\"x gradient function :: \", x.grad_fn)\n",
    "\n",
    "print()\n",
    "\n",
    "print(\"y ::\", y)\n",
    "print(\"y data :: \", y.data)\n",
    "print(\"y  gradient :: \", y.grad)\n",
    "print(\"y gradient function :: \", y.grad_fn)\n",
    "\n",
    "#finish all computation then can call .backward() and have all the gradients computed automatically.\n",
    "y.backward()"
   ]
  },
  {
   "cell_type": "markdown",
   "metadata": {},
   "source": [
    "y = x ** 2 <br>\n",
    "dy/dx = 2 * x <br>\n",
    "dy/dx at x=25 :: 2 * 25 :: 50 => x.grad <br>\n",
    "The gradient for this tensor will be accumulated into .grad attribute. <br>\n",
    " .grad_fn attribute that references a Function that has created the Tensor"
   ]
  },
  {
   "cell_type": "code",
   "execution_count": 4,
   "metadata": {},
   "outputs": [
    {
     "name": "stdout",
     "output_type": "stream",
     "text": [
      "x :: tensor(25., dtype=torch.float64, requires_grad=True)\n",
      "x data ::  tensor(25., dtype=torch.float64)\n",
      "x  gradient ::  tensor(50., dtype=torch.float64)\n",
      "x gradient function ::  None\n",
      "\n",
      "y :: tensor(625., dtype=torch.float64, grad_fn=<PowBackward0>)\n",
      "y data ::  tensor(625., dtype=torch.float64)\n",
      "y  gradient ::  None\n",
      "y gradient function ::  <PowBackward0 object at 0x7fbcc06c4ac0>\n"
     ]
    }
   ],
   "source": [
    "print(\"x ::\", x)\n",
    "print(\"x data :: \", x.data)\n",
    "print(\"x  gradient :: \", x.grad)\n",
    "print(\"x gradient function :: \", x.grad_fn)\n",
    "\n",
    "print()\n",
    "\n",
    "print(\"y ::\", y)\n",
    "print(\"y data :: \", y.data)\n",
    "print(\"y  gradient :: \", y.grad)\n",
    "print(\"y gradient function :: \", y.grad_fn)"
   ]
  },
  {
   "cell_type": "markdown",
   "metadata": {},
   "source": [
    "### Chain Rule: dz/dx = dz/dy * dy/dx"
   ]
  },
  {
   "cell_type": "code",
   "execution_count": 5,
   "metadata": {},
   "outputs": [
    {
     "name": "stdout",
     "output_type": "stream",
     "text": [
      "x :: tensor(2., dtype=torch.float64, requires_grad=True)\n",
      "x data ::  tensor(2., dtype=torch.float64)\n",
      "x  gradient ::  tensor(576., dtype=torch.float64)\n",
      "x gradient function ::  None\n",
      "\n",
      "y :: tensor(4., dtype=torch.float64, grad_fn=<PowBackward0>)\n",
      "y data ::  tensor(4., dtype=torch.float64)\n",
      "y  gradient ::  None\n",
      "y gradient function ::  <PowBackward0 object at 0x7fbbe2537e80>\n",
      "\n",
      "z :: tensor(192., dtype=torch.float64, grad_fn=<MulBackward0>)\n",
      "z data ::  tensor(192., dtype=torch.float64)\n",
      "z  gradient ::  None\n",
      "z gradient function ::  <MulBackward0 object at 0x7fbbe2537e20>\n"
     ]
    }
   ],
   "source": [
    "x = torch.tensor(2, dtype=torch.float64, requires_grad=True)\n",
    "y = x ** 2\n",
    "z = (y ** 3) * 3\n",
    "\n",
    "z.backward()\n",
    "\n",
    "print(\"x ::\", x)\n",
    "print(\"x data :: \", x.data)\n",
    "print(\"x  gradient :: \", x.grad)\n",
    "print(\"x gradient function :: \", x.grad_fn)\n",
    "\n",
    "print()\n",
    "\n",
    "print(\"y ::\", y)\n",
    "print(\"y data :: \", y.data)\n",
    "print(\"y  gradient :: \", y.grad)\n",
    "print(\"y gradient function :: \", y.grad_fn)\n",
    "\n",
    "print()\n",
    "\n",
    "print(\"z ::\", z)\n",
    "print(\"z data :: \", z.data)\n",
    "print(\"z  gradient :: \", z.grad)\n",
    "print(\"z gradient function :: \", z.grad_fn)"
   ]
  },
  {
   "cell_type": "markdown",
   "metadata": {},
   "source": [
    "### Partial Derivatives"
   ]
  },
  {
   "cell_type": "code",
   "execution_count": 6,
   "metadata": {},
   "outputs": [
    {
     "name": "stdout",
     "output_type": "stream",
     "text": [
      "tensor(2., dtype=torch.float64, requires_grad=True)\n",
      "tensor(3., dtype=torch.float64, requires_grad=True)\n",
      "tensor(10., dtype=torch.float64, grad_fn=<AddBackward0>)\n"
     ]
    }
   ],
   "source": [
    "u = torch.tensor(2, dtype=torch.float64)\n",
    "u.requires_grad_(True)\n",
    "print(u)\n",
    "\n",
    "v = torch.tensor(3, dtype=torch.float64, requires_grad=True)\n",
    "print(v)\n",
    "\n",
    "# y = f(u, v)\n",
    "y = u*v + u**2\n",
    "print(y)\n",
    "\n",
    "y.backward()"
   ]
  },
  {
   "cell_type": "markdown",
   "metadata": {},
   "source": [
    "dy/du = df(u, v)/du = v + 2u = 3 + 2 * 2 = 7 => u.grad"
   ]
  },
  {
   "cell_type": "code",
   "execution_count": 7,
   "metadata": {},
   "outputs": [
    {
     "name": "stdout",
     "output_type": "stream",
     "text": [
      "u :: tensor(2., dtype=torch.float64, requires_grad=True)\n",
      "u data ::  tensor(2., dtype=torch.float64)\n",
      "u  gradient ::  tensor(7., dtype=torch.float64)\n",
      "u gradient function ::  None\n"
     ]
    }
   ],
   "source": [
    "print(\"u ::\", u)\n",
    "print(\"u data :: \", u.data)\n",
    "print(\"u  gradient :: \", u.grad)\n",
    "print(\"u gradient function :: \", u.grad_fn)"
   ]
  },
  {
   "cell_type": "markdown",
   "metadata": {},
   "source": [
    "dy/dv = df(u, v)/dv = u = 2 => v.grad"
   ]
  },
  {
   "cell_type": "code",
   "execution_count": 8,
   "metadata": {},
   "outputs": [
    {
     "name": "stdout",
     "output_type": "stream",
     "text": [
      "v :: tensor(3., dtype=torch.float64, requires_grad=True)\n",
      "v data ::  tensor(3., dtype=torch.float64)\n",
      "v  gradient ::  tensor(2., dtype=torch.float64)\n",
      "v gradient function ::  None\n"
     ]
    }
   ],
   "source": [
    "print(\"v ::\", v)\n",
    "print(\"v data :: \", v.data)\n",
    "print(\"v  gradient :: \", v.grad)\n",
    "print(\"v gradient function :: \", v.grad_fn)"
   ]
  },
  {
   "cell_type": "code",
   "execution_count": 9,
   "metadata": {},
   "outputs": [
    {
     "name": "stdout",
     "output_type": "stream",
     "text": [
      "y :: tensor(10., dtype=torch.float64, grad_fn=<AddBackward0>)\n",
      "y data ::  tensor(10., dtype=torch.float64)\n",
      "y  gradient ::  None\n",
      "y gradient function ::  <AddBackward0 object at 0x7fbcb17ef1f0>\n"
     ]
    }
   ],
   "source": [
    "print(\"y ::\", y)\n",
    "print(\"y data :: \", y.data)\n",
    "print(\"y  gradient :: \", y.grad)\n",
    "print(\"y gradient function :: \", y.grad_fn)"
   ]
  },
  {
   "cell_type": "markdown",
   "metadata": {},
   "source": [
    "#### Sometimes some parameters need not to be updated: Use with torch.no_grad()"
   ]
  },
  {
   "cell_type": "code",
   "execution_count": 10,
   "metadata": {},
   "outputs": [
    {
     "name": "stdout",
     "output_type": "stream",
     "text": [
      "tensor([[1., 1., 1., 1., 1.],\n",
      "        [1., 1., 1., 1., 1.]])\n",
      "tensor([[1., 1., 1., 1., 1.],\n",
      "        [1., 1., 1., 1., 1.]], requires_grad=True)\n",
      "False\n"
     ]
    }
   ],
   "source": [
    "print(t)\n",
    "\n",
    "t.requires_grad_(True)\n",
    "print(t)\n",
    "with torch.no_grad():\n",
    "    print((t**2).requires_grad)"
   ]
  },
  {
   "cell_type": "code",
   "execution_count": 11,
   "metadata": {},
   "outputs": [
    {
     "name": "stdout",
     "output_type": "stream",
     "text": [
      "tensor([[1., 1., 1., 1., 1.],\n",
      "        [1., 1., 1., 1., 1.]], requires_grad=True)\n",
      "tensor([[1., 1., 1., 1., 1.],\n",
      "        [1., 1., 1., 1., 1.]])\n"
     ]
    }
   ],
   "source": [
    "#To stop a tensor from tracking history, you can call .detach()\n",
    "#particularly helpful when evaluating a model \n",
    "#because the model may have trainable parameters with requires_grad=True, \n",
    "#but for which we don’t need the gradients.\n",
    "print(t)\n",
    "t.detach_()\n",
    "print(t)"
   ]
  },
  {
   "cell_type": "code",
   "execution_count": 12,
   "metadata": {},
   "outputs": [
    {
     "data": {
      "image/png": "[encoded data removed]",
      "text/plain": [
       "<Figure size 1200x500 with 2 Axes>"
      ]
     },
     "metadata": {},
     "output_type": "display_data"
    }
   ],
   "source": [
    "x = torch.linspace(-10, 10, 10, requires_grad = True)\n",
    "w = torch.linspace(-10, 10, 10, requires_grad = True)\n",
    "\n",
    "Y = x ** 2\n",
    "Z = torch.relu(w)\n",
    "\n",
    "y = torch.sum(Y)\n",
    "z = torch.mean(Z)\n",
    "\n",
    "#torch.autograd cannot compute full Jacobian directly\n",
    "#input to backward must be scalar.\n",
    "#if it is not scalar, need to pass a vector for vector jacobian product.\n",
    "y.backward()\n",
    "z.backward()\n",
    "\n",
    "plt.figure(figsize=(12, 5))\n",
    "\n",
    "ax0 = plt.subplot(121)\n",
    "ax0.plot(x.detach().numpy(), Y.detach().numpy(), label = 'function')\n",
    "ax0.plot(x.detach().numpy(), x.grad.detach().numpy(), label = 'derivative')\n",
    "ax0.set_xlabel('x')\n",
    "ax0.set_title('Square Function')\n",
    "\n",
    "ax1 = plt.subplot(122)\n",
    "ax1.plot(w.detach().numpy(), Z.detach().numpy(), label = 'function')\n",
    "ax1.plot(w.detach().numpy(), w.grad.detach().numpy(), label = 'derivative')\n",
    "ax1.set_xlabel('w')\n",
    "ax1.set_title('Relu Function')\n",
    "\n",
    "plt.legend()\n",
    "plt.show()"
   ]
  },
  {
   "cell_type": "markdown",
   "metadata": {},
   "source": [
    "Check this [link](https://pytorch.org/tutorials/beginner/blitz/autograd_tutorial.html) for detailed explaination."
   ]
  },
  {
   "cell_type": "code",
   "execution_count": null,
   "metadata": {},
   "outputs": [],
   "source": []
  }
 ],
 "metadata": {
  "kernelspec": {
   "display_name": "Python 3 (ipykernel)",
   "language": "python",
   "name": "python3"
  },
  "language_info": {
   "codemirror_mode": {
    "name": "ipython",
    "version": 3
   },
   "file_extension": ".py",
   "mimetype": "text/x-python",
   "name": "python",
   "nbconvert_exporter": "python",
   "pygments_lexer": "ipython3",
   "version": "3.10.12"
  }
 },
 "nbformat": 4,
 "nbformat_minor": 4
}
