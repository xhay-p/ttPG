{
 "cells": [
  {
   "cell_type": "code",
   "execution_count": null,
   "metadata": {
    "colab": {
     "base_uri": "https://localhost:8080/",
     "height": 35
    },
    "id": "u4LfrKIVVzBS",
    "outputId": "62a8ab00-5909-40e8-f3cb-835a7a9321e7"
   },
   "outputs": [],
   "source": [
    "import torch\n",
    "import numpy as np\n",
    "import matplotlib.pyplot as plt\n",
    "import pandas as pd\n",
    "\n",
    "# Ignore warnings\n",
    "import warnings\n",
    "warnings.filterwarnings(\"ignore\")\n",
    "\n",
    "torch.__version__"
   ]
  },
  {
   "cell_type": "code",
   "execution_count": 2,
   "metadata": {
    "id": "h2Ra0MMSVzBi"
   },
   "outputs": [],
   "source": [
    "#helper function to summarize the properties of a tensor\n",
    "def describe(x):\n",
    "    print(\"Python Type (type(x)) :: {}\".format(type(x)))\n",
    "    print(\"Type (x.type()) :: {}\".format(x.type()))\n",
    "    print(\"Data Type (x.dtype) :: {}\".format(x.dtype))\n",
    "    # torch.Size is in fact a tuple, so it supports all tuple operations.\n",
    "    print(\"Shape/Size (x.size()) :: {}\".format(x.size()))\n",
    "    print(\"Shape/Size (x.shape) :: {}\".format(x.shape))\n",
    "    print(\"Number of elements (x.numel()) :: {}\".format(x.numel()))\n",
    "    # Dimension :: x.ndimension()\n",
    "    print(\"Dimension (x.dim()) :: {}\".format(x.dim()))\n",
    "    print(\"Data :: \\n{}\".format(x))\n",
    "    print('-----'*5)"
   ]
  },
  {
   "cell_type": "markdown",
   "metadata": {
    "id": "VvK3OmVAVzBu"
   },
   "source": [
    "# Tensors\n",
    "\n",
    "A Pytorch tensor is a data structure that is similar to numpy arrays. It refers to the generalization of vector and matrices to an arbitrary number of dimensions. The dimensionality of a tensor corresponds to the number of indexes used to refer to scalar value within the tensor.\n",
    "\n",
    "Compared to numpy arrays, Pytorch tensors can also be used on GPUs for very fast operation, distribute operations on multiple devices, and keep track of the graph of computations that created them."
   ]
  },
  {
   "cell_type": "markdown",
   "metadata": {
    "id": "TMirw6BiVzBv"
   },
   "source": [
    "## Scalar (0-d Tensor)"
   ]
  },
  {
   "cell_type": "code",
   "execution_count": null,
   "metadata": {
    "colab": {
     "base_uri": "https://localhost:8080/",
     "height": 173
    },
    "id": "8NofePk5VzBx",
    "outputId": "6dbdea03-a325-4d96-f705-0778e6c1919f"
   },
   "outputs": [],
   "source": [
    "#Scalar (o-d Tensor)\n",
    "s = torch.tensor(2504)\n",
    "describe(s)"
   ]
  },
  {
   "cell_type": "markdown",
   "metadata": {
    "id": "maswCZpOVzB7"
   },
   "source": [
    "## Vector (1-d Tensor)"
   ]
  },
  {
   "cell_type": "markdown",
   "metadata": {
    "id": "SyeEsHf-VzB8"
   },
   "source": [
    "### Constructing a Tensor directly using python list\n",
    "\n",
    "#### Using `Tensor` object"
   ]
  },
  {
   "cell_type": "code",
   "execution_count": null,
   "metadata": {
    "colab": {
     "base_uri": "https://localhost:8080/",
     "height": 173
    },
    "id": "nPU-JWGrVzB-",
    "outputId": "dba853b1-b472-4fac-dcdd-af3bde647ead"
   },
   "outputs": [],
   "source": [
    "m = torch.Tensor([25, 4])\n",
    "describe(m)"
   ]
  },
  {
   "cell_type": "markdown",
   "metadata": {
    "id": "ACNRMR_eXG8S"
   },
   "source": [
    "**NOTE:** Tensor object will always create `FloatTensor`."
   ]
  },
  {
   "cell_type": "markdown",
   "metadata": {
    "id": "k1G7nVSBVzCG"
   },
   "source": [
    "#### Changing Data type of tensor using `tensor.type()`"
   ]
  },
  {
   "cell_type": "code",
   "execution_count": null,
   "metadata": {
    "colab": {
     "base_uri": "https://localhost:8080/",
     "height": 191
    },
    "id": "pai2t9ATVzCH",
    "outputId": "b14738bb-c18e-4b35-9a1d-6b50ef897023"
   },
   "outputs": [],
   "source": [
    "print(\"Original type of tensor m : \", m.type())\n",
    "print(\"\")\n",
    "m = m.type(torch.LongTensor)\n",
    "print(\"Changed type of tensor m : \", m.type())"
   ]
  },
  {
   "cell_type": "markdown",
   "metadata": {
    "id": "yczeShTdVzCQ"
   },
   "source": [
    "#### Using `tensor()` method"
   ]
  },
  {
   "cell_type": "code",
   "execution_count": null,
   "metadata": {
    "colab": {
     "base_uri": "https://localhost:8080/",
     "height": 173
    },
    "id": "g_5y89UUVzCS",
    "outputId": "01aafcc2-70ed-4f41-c059-d151e2c70683"
   },
   "outputs": [],
   "source": [
    "m = torch.tensor([25, 4])\n",
    "describe(m)"
   ]
  },
  {
   "cell_type": "markdown",
   "metadata": {
    "id": "rFTFI7PDVzCZ"
   },
   "source": [
    "`torch.tensor()` infer the type of the data automatically, <br>\n",
    "`torch.Tensor()` is an alias of `torch.FloatTensor()` <br>\n",
    "**prefer `torch.tensor()`**, Using torch.tensor(), can specify data types. If no dtype is assigned, it will infer from the data."
   ]
  },
  {
   "cell_type": "markdown",
   "metadata": {
    "id": "IJtUnB_8VzCa"
   },
   "source": [
    "#### Integer and Float lists to Tensor"
   ]
  },
  {
   "cell_type": "code",
   "execution_count": 7,
   "metadata": {
    "id": "jIOBNgB9VzCb"
   },
   "outputs": [],
   "source": [
    "int_list = [1,2,3,4,5]\n",
    "float_list = [1.0,2.0,3.0,4.0,5.0]"
   ]
  },
  {
   "cell_type": "code",
   "execution_count": null,
   "metadata": {
    "colab": {
     "base_uri": "https://localhost:8080/",
     "height": 173
    },
    "id": "NkHFDtZtYW4O",
    "outputId": "ca3239fa-b9e6-4e28-b600-d091bfbf4578"
   },
   "outputs": [],
   "source": [
    "int_tensor = torch.tensor(int_list)\n",
    "describe(int_tensor)"
   ]
  },
  {
   "cell_type": "code",
   "execution_count": null,
   "metadata": {
    "colab": {
     "base_uri": "https://localhost:8080/",
     "height": 173
    },
    "id": "1Q1JFivgYfes",
    "outputId": "b1c3dc3f-580d-4e4d-8b60-e552d5160700"
   },
   "outputs": [],
   "source": [
    "float_int_tensor = torch.tensor(float_list, dtype=torch.int64)\n",
    "describe(float_int_tensor)"
   ]
  },
  {
   "cell_type": "code",
   "execution_count": null,
   "metadata": {
    "colab": {
     "base_uri": "https://localhost:8080/",
     "height": 173
    },
    "id": "V-GT5iU4YrXP",
    "outputId": "b442922b-e26d-447a-e01e-8cc3199aa4ba"
   },
   "outputs": [],
   "source": [
    "int_float_tensor = torch.FloatTensor(int_list)\n",
    "describe(int_float_tensor)"
   ]
  },
  {
   "cell_type": "markdown",
   "metadata": {},
   "source": [
    "#### `dtype` conversion"
   ]
  },
  {
   "cell_type": "code",
   "execution_count": null,
   "metadata": {},
   "outputs": [],
   "source": [
    "int_tensor, int_tensor.dtype"
   ]
  },
  {
   "cell_type": "code",
   "execution_count": null,
   "metadata": {},
   "outputs": [],
   "source": [
    "int_tensor.double()"
   ]
  },
  {
   "cell_type": "code",
   "execution_count": null,
   "metadata": {},
   "outputs": [],
   "source": [
    "int_tensor.to(torch.short)"
   ]
  },
  {
   "cell_type": "markdown",
   "metadata": {
    "id": "dq18HViuVzCi"
   },
   "source": [
    "#### Tensor to list\n",
    "\n",
    "`to_list()`"
   ]
  },
  {
   "cell_type": "code",
   "execution_count": null,
   "metadata": {
    "colab": {
     "base_uri": "https://localhost:8080/",
     "height": 34
    },
    "id": "sNXyJO5JVzCj",
    "outputId": "cf7413bc-ac2f-41e8-be38-2bddccef8031"
   },
   "outputs": [],
   "source": [
    "int_tensor.tolist()"
   ]
  },
  {
   "cell_type": "markdown",
   "metadata": {
    "id": "QtqtjFpAVzCq"
   },
   "source": [
    "### Matrix (2-d)"
   ]
  },
  {
   "cell_type": "code",
   "execution_count": null,
   "metadata": {
    "colab": {
     "base_uri": "https://localhost:8080/",
     "height": 243
    },
    "id": "qyl-F7OKVzCs",
    "outputId": "980ee145-c0c2-4ba2-ca05-52b1a41a1acc"
   },
   "outputs": [],
   "source": [
    "#Constructing a Tensor directly \n",
    "#Creates an unitilised matrix of size 5x4\n",
    "c = torch.Tensor(5,4)\n",
    "describe(c)"
   ]
  },
  {
   "cell_type": "markdown",
   "metadata": {
    "id": "AKtNNRlXVzCz"
   },
   "source": [
    "### Initialising with a numpy array"
   ]
  },
  {
   "cell_type": "code",
   "execution_count": null,
   "metadata": {
    "colab": {
     "base_uri": "https://localhost:8080/",
     "height": 173
    },
    "id": "p3rdRYOfVzCz",
    "outputId": "0eed0b66-6e9d-4935-e316-d76c442867a8"
   },
   "outputs": [],
   "source": [
    "#Initialized with numpy array\n",
    "n = torch.tensor(np.array([25, 4], dtype=np.int32))\n",
    "describe(n)"
   ]
  },
  {
   "cell_type": "markdown",
   "metadata": {
    "id": "OuX9txMJVzC8"
   },
   "source": [
    "### Creating tensor from numpy array\n",
    "\n",
    "`.from_numpy()`"
   ]
  },
  {
   "cell_type": "code",
   "execution_count": null,
   "metadata": {
    "colab": {
     "base_uri": "https://localhost:8080/",
     "height": 243
    },
    "id": "es2ahvraVzC-",
    "outputId": "a2199c41-2a55-4df5-d3e9-a87aca437acc"
   },
   "outputs": [],
   "source": [
    "a = np.random.rand(10)\n",
    "print(a)\n",
    "print(type(a))\n",
    "print(\"\")\n",
    "tensor_a = torch.from_numpy(a)\n",
    "describe(tensor_a)"
   ]
  },
  {
   "cell_type": "markdown",
   "metadata": {
    "id": "Z_u_OA-jVzDF"
   },
   "source": [
    "### To numpy array\n",
    "\n",
    "`.numpy()`"
   ]
  },
  {
   "cell_type": "code",
   "execution_count": null,
   "metadata": {
    "colab": {
     "base_uri": "https://localhost:8080/",
     "height": 69
    },
    "id": "U7Fh5md7VzDG",
    "outputId": "52cdb851-3042-4757-dbc8-39a034555687"
   },
   "outputs": [],
   "source": [
    "back_to_numpy_a = tensor_a.numpy()\n",
    "back_to_numpy_a, back_to_numpy_a.dtype"
   ]
  },
  {
   "cell_type": "markdown",
   "metadata": {
    "id": "nwxCpCc9VzDN"
   },
   "source": [
    "### From Pandas Series & Dataframe"
   ]
  },
  {
   "cell_type": "markdown",
   "metadata": {},
   "source": [
    "#### Series --> nd-array --> tensor"
   ]
  },
  {
   "cell_type": "code",
   "execution_count": null,
   "metadata": {
    "colab": {
     "base_uri": "https://localhost:8080/",
     "height": 295
    },
    "id": "oEEpll_0VzDO",
    "outputId": "0ac862bf-0b00-471b-b809-784d934ce203"
   },
   "outputs": [],
   "source": [
    "pd_series = pd.Series(np.arange(1,11,2))\n",
    "print(pd_series)\n",
    "print(type(pd_series))\n",
    "print(\"\")\n",
    "tensor_from_series = torch.from_numpy(pd_series.values)\n",
    "describe(tensor_from_series)"
   ]
  },
  {
   "cell_type": "markdown",
   "metadata": {},
   "source": [
    "#### Dataframe --> nd array --> tensor"
   ]
  },
  {
   "cell_type": "code",
   "execution_count": null,
   "metadata": {
    "colab": {
     "base_uri": "https://localhost:8080/",
     "height": 295
    },
    "id": "YsVuJhZWVzDV",
    "outputId": "3bc5c685-9fa7-4fb2-a326-0982ec04f265"
   },
   "outputs": [],
   "source": [
    "df = pd.DataFrame({'a':[11,21,31],'b':[12,22,32], 'c':[13,23,33]})\n",
    "print(df)\n",
    "print(type(df))\n",
    "print(\"\")\n",
    "\n",
    "tensor_fron_dataframe = torch.from_numpy(df.values)\n",
    "describe(tensor_fron_dataframe)"
   ]
  },
  {
   "cell_type": "markdown",
   "metadata": {
    "id": "n30XOwUPVzDb"
   },
   "source": [
    "### Different Tensor Creation"
   ]
  },
  {
   "cell_type": "markdown",
   "metadata": {
    "id": "ERMMuB1HVzDc"
   },
   "source": [
    "#### Empty\n",
    "\n",
    "Creates an unitialised tensor"
   ]
  },
  {
   "cell_type": "code",
   "execution_count": null,
   "metadata": {
    "colab": {
     "base_uri": "https://localhost:8080/",
     "height": 191
    },
    "id": "E-Az7jWfVzDe",
    "outputId": "d1651712-3de4-4c02-b78b-f520e86cfd66"
   },
   "outputs": [],
   "source": [
    "empt = torch.empty(10)\n",
    "describe(empt)"
   ]
  },
  {
   "cell_type": "markdown",
   "metadata": {
    "id": "HyZGDR_GVzDk"
   },
   "source": [
    "#### Zeros\n",
    "\n",
    "Creates a tensor initialised with zeros"
   ]
  },
  {
   "cell_type": "code",
   "execution_count": null,
   "metadata": {
    "colab": {
     "base_uri": "https://localhost:8080/",
     "height": 278
    },
    "id": "D2j300Y6VzDl",
    "outputId": "a1fd7422-ca70-40a6-8653-ea17c9ccd994"
   },
   "outputs": [],
   "source": [
    "z = torch.zeros(2,3,4)\n",
    "describe(z)"
   ]
  },
  {
   "cell_type": "markdown",
   "metadata": {
    "id": "2DnhbYszVzDp"
   },
   "source": [
    "#### Ones\n",
    "\n",
    "Creates a tensor initialised with ones"
   ]
  },
  {
   "cell_type": "code",
   "execution_count": null,
   "metadata": {
    "colab": {
     "base_uri": "https://localhost:8080/",
     "height": 278
    },
    "id": "xsgiEr3oVzDq",
    "outputId": "f0561a1e-66dc-439e-93ab-8eaa88b468fb"
   },
   "outputs": [],
   "source": [
    "#torch.ones()\n",
    "#_like :: Creating a tensor using the existing Tensor; \n",
    "#         These methods will reuse properties of the input tensor, e.g. dtype, unless new values are provided\n",
    "o = torch.ones_like(z)\n",
    "describe(o)"
   ]
  },
  {
   "cell_type": "markdown",
   "metadata": {
    "id": "pxDmSh4wVzDw"
   },
   "source": [
    "#### Filled with a value\n",
    "\n",
    "Creates a tensor filled with the same value"
   ]
  },
  {
   "cell_type": "code",
   "execution_count": null,
   "metadata": {
    "colab": {
     "base_uri": "https://localhost:8080/",
     "height": 278
    },
    "id": "NMKq3Z73VzDx",
    "outputId": "d8340675-138e-4a6e-ea07-485d3a4e3fdb"
   },
   "outputs": [],
   "source": [
    "#torch.fill(shape, val)\n",
    "z.fill_(25) #_ ===> in-place operation\n",
    "describe(z)"
   ]
  },
  {
   "cell_type": "markdown",
   "metadata": {
    "id": "5p306-wWVzD1"
   },
   "source": [
    "#### Diagonal Matrix"
   ]
  },
  {
   "cell_type": "code",
   "execution_count": null,
   "metadata": {
    "colab": {
     "base_uri": "https://localhost:8080/",
     "height": 225
    },
    "id": "wUxpCs0CVzD2",
    "outputId": "59d0b909-b643-441e-b29c-d54e24c79b52"
   },
   "outputs": [],
   "source": [
    "#Creating a diagonal matrix tensor using the input data\n",
    "#input data must be a torch tensor\n",
    "d = torch.diag(torch.tensor([1,2,3,4]))\n",
    "describe(d)"
   ]
  },
  {
   "cell_type": "markdown",
   "metadata": {
    "id": "aPX3rED-VzD6"
   },
   "source": [
    "#### Identity Matrix"
   ]
  },
  {
   "cell_type": "code",
   "execution_count": null,
   "metadata": {
    "colab": {
     "base_uri": "https://localhost:8080/",
     "height": 243
    },
    "id": "jaRkgTrfVzD-",
    "outputId": "c9f4c8ac-e8be-42b1-dedd-98830641ca64"
   },
   "outputs": [],
   "source": [
    "#Creating an identity matrix\n",
    "#default dtype is float\n",
    "i = torch.eye(5,5, dtype=torch.int64)\n",
    "describe(i)"
   ]
  },
  {
   "cell_type": "markdown",
   "metadata": {
    "id": "DU3_GbF8VzED"
   },
   "source": [
    "#### Initialised with random values"
   ]
  },
  {
   "cell_type": "code",
   "execution_count": null,
   "metadata": {
    "colab": {
     "base_uri": "https://localhost:8080/",
     "height": 191
    },
    "id": "3KikOsIGVzEF",
    "outputId": "0005a1f1-b78d-4b38-88a1-ea2846701a86"
   },
   "outputs": [],
   "source": [
    "#Creates a tensor insitialised with 10 uniform random values\n",
    "x = torch.rand(2,5)\n",
    "describe(x)"
   ]
  },
  {
   "cell_type": "code",
   "execution_count": null,
   "metadata": {
    "colab": {
     "base_uri": "https://localhost:8080/",
     "height": 191
    },
    "id": "QPO7paK_VzEI",
    "outputId": "a1958ad5-7a20-4c3a-fc19-97a469cef2e2"
   },
   "outputs": [],
   "source": [
    "#Creating a normal distribution tensor of shape x\n",
    "#x_normal = torch.randn(shape)\n",
    "x_normal = torch.randn_like(x)\n",
    "describe(x_normal)"
   ]
  },
  {
   "cell_type": "code",
   "execution_count": null,
   "metadata": {
    "colab": {
     "base_uri": "https://localhost:8080/",
     "height": 243
    },
    "id": "rEj7acKaVzEO",
    "outputId": "63fee68a-8f4a-4a8d-a05f-039700fd2727"
   },
   "outputs": [],
   "source": [
    "# randint(start, end, size(must be a tuple))\n",
    "rand_ints = torch.randint(0, 100, (5, 4))\n",
    "describe(rand_ints)"
   ]
  },
  {
   "cell_type": "markdown",
   "metadata": {
    "id": "Yq6gIduqVzER"
   },
   "source": [
    "#### Using Sequences"
   ]
  },
  {
   "cell_type": "code",
   "execution_count": null,
   "metadata": {
    "colab": {
     "base_uri": "https://localhost:8080/",
     "height": 382
    },
    "id": "WN9QygXGVzES",
    "outputId": "3cf27c26-18f1-4e15-8cca-3b6bcfee1d7d"
   },
   "outputs": [],
   "source": [
    "#linspace(start, end, number of elements)\n",
    "# Linespace returns evenly spaced numbers over a specified interval.\n",
    "ls = torch.linspace(20, 30, 100)\n",
    "describe(ls)"
   ]
  },
  {
   "cell_type": "code",
   "execution_count": null,
   "metadata": {
    "colab": {
     "base_uri": "https://localhost:8080/",
     "height": 208
    },
    "id": "vVgnskDqVzEW",
    "outputId": "1b385954-6da2-49f7-c324-1ff566ef2365"
   },
   "outputs": [],
   "source": [
    "#range(start, end, skip)\n",
    "rg = torch.range(0, 100, 3)\n",
    "describe(rg)"
   ]
  },
  {
   "cell_type": "markdown",
   "metadata": {
    "id": "APXpPPkAVzEa"
   },
   "source": [
    "## Indexing & Slicing\n",
    "Accessing elements, rows, columns, sub-tensor from a tensor"
   ]
  },
  {
   "cell_type": "code",
   "execution_count": null,
   "metadata": {
    "colab": {
     "base_uri": "https://localhost:8080/",
     "height": 104
    },
    "id": "ImJc56ShVzEb",
    "outputId": "65878ea8-ecec-45dc-aa01-1a76520bc728"
   },
   "outputs": [],
   "source": [
    "rand_ints.data"
   ]
  },
  {
   "cell_type": "code",
   "execution_count": null,
   "metadata": {
    "colab": {
     "base_uri": "https://localhost:8080/",
     "height": 34
    },
    "id": "bcypNmokcfKR",
    "outputId": "f910f95b-5fac-4720-fcf0-1d1dcb6cabda"
   },
   "outputs": [],
   "source": [
    "rand_ints[0][2]"
   ]
  },
  {
   "cell_type": "code",
   "execution_count": null,
   "metadata": {},
   "outputs": [],
   "source": [
    "rand_ints[0,2]"
   ]
  },
  {
   "cell_type": "markdown",
   "metadata": {
    "id": "lbce4K-HclIp"
   },
   "source": [
    "Accessing an element from a tensor returns tensor object. To get the element use `.item()`"
   ]
  },
  {
   "cell_type": "code",
   "execution_count": null,
   "metadata": {
    "colab": {
     "base_uri": "https://localhost:8080/",
     "height": 34
    },
    "id": "X4Vvtgk7c3yl",
    "outputId": "13205a86-da10-4d5f-fef4-231bcaa60c72"
   },
   "outputs": [],
   "source": [
    "rand_ints[0][2].item()"
   ]
  },
  {
   "cell_type": "code",
   "execution_count": null,
   "metadata": {
    "colab": {
     "base_uri": "https://localhost:8080/",
     "height": 34
    },
    "id": "3kU7C7uxVzEg",
    "outputId": "d4d841dd-4852-44b0-d4ad-aba755c24112"
   },
   "outputs": [],
   "source": [
    "#Indexing and Slicing\n",
    "#3rd row, 2nd and 3rd column\n",
    "rand_ints[2, 1:3]"
   ]
  },
  {
   "cell_type": "code",
   "execution_count": null,
   "metadata": {
    "colab": {
     "base_uri": "https://localhost:8080/",
     "height": 104
    },
    "id": "XLztJGXxVzEl",
    "outputId": "cac42e25-444c-41b4-e6ce-637a3bb288ff"
   },
   "outputs": [],
   "source": [
    "#Updating the tensor\n",
    "rand_ints[2, 1:3] = torch.Tensor([19, 91])\n",
    "rand_ints.data"
   ]
  },
  {
   "cell_type": "code",
   "execution_count": null,
   "metadata": {
    "colab": {
     "base_uri": "https://localhost:8080/",
     "height": 34
    },
    "id": "0kACHZOCVzEn",
    "outputId": "ae713c21-c142-48bf-dcce-9e1cf7061778"
   },
   "outputs": [],
   "source": [
    "#first column\n",
    "rand_ints[:, 0]"
   ]
  },
  {
   "cell_type": "code",
   "execution_count": null,
   "metadata": {
    "colab": {
     "base_uri": "https://localhost:8080/",
     "height": 52
    },
    "id": "KG9hWXRBVzEr",
    "outputId": "a6eb1c8c-74b8-4ded-b5ff-52a3cc35d8ac"
   },
   "outputs": [],
   "source": [
    "#first 2 row\n",
    "rand_ints[:2,:]"
   ]
  },
  {
   "cell_type": "code",
   "execution_count": null,
   "metadata": {
    "colab": {
     "base_uri": "https://localhost:8080/",
     "height": 104
    },
    "id": "tKca1Q0oVzEx",
    "outputId": "5534331e-1a1e-449a-a6bf-e1d01673b6d5"
   },
   "outputs": [],
   "source": [
    "#last 3 column\n",
    "rand_ints[:,-3:]"
   ]
  },
  {
   "cell_type": "code",
   "execution_count": null,
   "metadata": {
    "colab": {
     "base_uri": "https://localhost:8080/",
     "height": 34
    },
    "id": "-SBACDKkVzE1",
    "outputId": "3590f751-c52f-4da8-8a26-78db299568a3"
   },
   "outputs": [],
   "source": [
    "#last row\n",
    "rand_ints[-1,:]"
   ]
  },
  {
   "cell_type": "markdown",
   "metadata": {
    "id": "Vnrn5OA4VzE5"
   },
   "source": [
    "#### Non-contiguous row/cols indexing using `torch.index_select()`"
   ]
  },
  {
   "cell_type": "code",
   "execution_count": null,
   "metadata": {
    "colab": {
     "base_uri": "https://localhost:8080/",
     "height": 243
    },
    "id": "at0N-nxhVzE6",
    "outputId": "f5840bc3-bac2-4e7c-d8fc-9aebfc2e3593"
   },
   "outputs": [],
   "source": [
    "#Access 2nd and 4th col\n",
    "indices = torch.LongTensor([1,3]) # Index must be integers\n",
    "describe(torch.index_select(rand_ints, dim=1, index=indices))"
   ]
  },
  {
   "cell_type": "code",
   "execution_count": null,
   "metadata": {},
   "outputs": [],
   "source": [
    "rand_ints[:,[1,3]]"
   ]
  },
  {
   "cell_type": "code",
   "execution_count": null,
   "metadata": {
    "colab": {
     "base_uri": "https://localhost:8080/",
     "height": 191
    },
    "id": "GFeAi3mRVzE9",
    "outputId": "57376d79-ec37-4549-e03e-168bb3494daf"
   },
   "outputs": [],
   "source": [
    "#access 2nd and 4th row\n",
    "describe(torch.index_select(rand_ints, dim=0, index=indices))"
   ]
  },
  {
   "cell_type": "code",
   "execution_count": null,
   "metadata": {},
   "outputs": [],
   "source": [
    "rand_ints[[1,3]]"
   ]
  },
  {
   "cell_type": "markdown",
   "metadata": {},
   "source": [
    "#### Non-contiguous cell indexing"
   ]
  },
  {
   "cell_type": "code",
   "execution_count": null,
   "metadata": {},
   "outputs": [],
   "source": [
    "print(rand_ints.data)\n",
    "idx = torch.LongTensor([[2,2], [1,3], [0,0], [3,1], [4,3]])\n",
    "rand_ints[list(idx.T)]"
   ]
  },
  {
   "cell_type": "markdown",
   "metadata": {},
   "source": [
    "### Joining tensors"
   ]
  },
  {
   "cell_type": "markdown",
   "metadata": {},
   "source": [
    "`torch.cat()`: Concatenating sequence of tensor along a given dimension (existing axis).\n",
    "\n",
    "All tensors must have same shape or be empty."
   ]
  },
  {
   "cell_type": "code",
   "execution_count": null,
   "metadata": {},
   "outputs": [],
   "source": [
    "t1 = torch.cat([rand_ints, rand_ints], dim=0)\n",
    "describe(t1)"
   ]
  },
  {
   "cell_type": "code",
   "execution_count": null,
   "metadata": {},
   "outputs": [],
   "source": [
    "t1 = torch.cat([rand_ints, rand_ints, rand_ints], dim=1)\n",
    "describe(t1)"
   ]
  },
  {
   "cell_type": "markdown",
   "metadata": {},
   "source": [
    "`torch.stack(tensors, dim=0, *, out=None)`: Concatenates a sequence of tensors along a new dimension (new axis)."
   ]
  },
  {
   "cell_type": "code",
   "execution_count": null,
   "metadata": {},
   "outputs": [],
   "source": [
    "stacked_t1 = torch.stack([rand_ints, rand_ints], dim=0)\n",
    "describe(stacked_t1)"
   ]
  },
  {
   "cell_type": "markdown",
   "metadata": {},
   "source": [
    "### Splitting the tensor"
   ]
  },
  {
   "cell_type": "markdown",
   "metadata": {},
   "source": [
    "`torch.chunk()`: Splits the tensor into a specific number of chunks."
   ]
  },
  {
   "cell_type": "code",
   "execution_count": null,
   "metadata": {},
   "outputs": [],
   "source": [
    "torch.chunk(t1, 3, dim=1)"
   ]
  },
  {
   "cell_type": "code",
   "execution_count": null,
   "metadata": {},
   "outputs": [],
   "source": [
    "torch.chunk(t1, 3, dim=0)"
   ]
  },
  {
   "cell_type": "markdown",
   "metadata": {},
   "source": [
    "`torch.split(tensor, split_size_or_sections, dim=0)`: Another function to split the tensor, insted of number of chunks, size of chunk needs to be passed. If the tensor_size is not divisible by split_size, last chunk will be smaller."
   ]
  },
  {
   "cell_type": "code",
   "execution_count": null,
   "metadata": {},
   "outputs": [],
   "source": [
    "torch.split(t1, 3, dim=0)"
   ]
  },
  {
   "cell_type": "markdown",
   "metadata": {},
   "source": [
    "if section, sum of section sizes must be equal to total (`3 + 2 + 3 + 4 = 12`, here number of columns)"
   ]
  },
  {
   "cell_type": "code",
   "execution_count": null,
   "metadata": {},
   "outputs": [],
   "source": [
    "torch.split(t1, [3,2,3,4], dim=1)"
   ]
  },
  {
   "cell_type": "markdown",
   "metadata": {},
   "source": [
    "### Squeeze and Unsqueeze"
   ]
  },
  {
   "cell_type": "markdown",
   "metadata": {},
   "source": [
    "`torch.squeeze()`:  Returns a tensor with all the dimensions of input of size 1 removed.\n",
    "\n",
    "For example, if input is of shape: (A×1×B×C×1×D) then the out tensor will be of shape: (A×B×C×D) "
   ]
  },
  {
   "cell_type": "code",
   "execution_count": null,
   "metadata": {},
   "outputs": [],
   "source": [
    "x = torch.zeros(2,1,2,1,2)\n",
    "print(x.size())\n",
    "print(\"\")\n",
    "y = torch.squeeze(x)\n",
    "print(y.size())\n",
    "print(\"\")\n",
    "y = torch.squeeze(x, dim=1)\n",
    "print(y.size())\n",
    "print(\"\")\n",
    "y = torch.squeeze(x, dim=3)\n",
    "print(y.size())"
   ]
  },
  {
   "cell_type": "markdown",
   "metadata": {},
   "source": [
    "`torch.unsqueeze(input, dim)`: Returns a new tensor with a dimension of size one inserted at the specified position.\n",
    "\n",
    "The returned tensor shares the same underlying data with this tensor."
   ]
  },
  {
   "cell_type": "code",
   "execution_count": null,
   "metadata": {},
   "outputs": [],
   "source": [
    "rand_ints"
   ]
  },
  {
   "cell_type": "code",
   "execution_count": null,
   "metadata": {},
   "outputs": [],
   "source": [
    "torch.unsqueeze(rand_ints, dim=0), torch.unsqueeze(rand_ints, dim=0).size()"
   ]
  },
  {
   "cell_type": "code",
   "execution_count": null,
   "metadata": {},
   "outputs": [],
   "source": [
    "torch.unsqueeze(rand_ints, dim=1), torch.unsqueeze(rand_ints, dim=1).size()"
   ]
  },
  {
   "cell_type": "markdown",
   "metadata": {
    "id": "quy_3o7mVzFA"
   },
   "source": [
    "### Reshaping"
   ]
  },
  {
   "cell_type": "code",
   "execution_count": null,
   "metadata": {
    "colab": {
     "base_uri": "https://localhost:8080/",
     "height": 416
    },
    "id": "CB7osVMOVzFB",
    "outputId": "fe8d12a8-6239-4fba-a5a1-5834e8be3cbe"
   },
   "outputs": [],
   "source": [
    "a = torch.arange(1, 21, dtype=torch.int32)\n",
    "describe(a)\n",
    "reshaped_a = a.view(2,2,5)\n",
    "describe(reshaped_a)"
   ]
  },
  {
   "cell_type": "code",
   "execution_count": null,
   "metadata": {
    "colab": {
     "base_uri": "https://localhost:8080/",
     "height": 816
    },
    "id": "IGkSDDzFVzFE",
    "outputId": "23c50c08-e545-49b6-86d6-76ce473f7259"
   },
   "outputs": [],
   "source": [
    "# For dynamic size arrays or when size is unknown\n",
    "# -1 is inferred from other dimension\n",
    "# Only one arguement can be set to -1\n",
    "reshaped_a = a.view(-1,4)\n",
    "describe(reshaped_a)\n",
    "reshaped_a = a.view(10,-1)\n",
    "describe(reshaped_a)"
   ]
  },
  {
   "cell_type": "markdown",
   "metadata": {
    "id": "RVgOiwPoVzFG"
   },
   "source": [
    "### Tensor Functions\n",
    "#### sum(), max(), mean(), median(), min(), std(), etc"
   ]
  },
  {
   "cell_type": "code",
   "execution_count": null,
   "metadata": {
    "colab": {
     "base_uri": "https://localhost:8080/",
     "height": 86
    },
    "id": "TWzh0wnOVzFH",
    "outputId": "614d0266-a17a-4b3f-afac-a1fea35773de"
   },
   "outputs": [],
   "source": [
    "# For 3d tensors, dim=0 represents 2D tenasors, dim=1 represents rows, dim=2 represents column\n",
    "a = a.view(2,5,2)\n",
    "print(a)\n",
    "print(\"\")\n",
    "print(a.sum()) \n",
    "print(\"\")\n",
    "print(a.sum(dim=0))\n",
    "print(\"\")\n",
    "print(a.sum(dim=1))\n",
    "print(\"\")\n",
    "print(a.sum(dim=2))"
   ]
  },
  {
   "cell_type": "code",
   "execution_count": null,
   "metadata": {},
   "outputs": [],
   "source": [
    "a.float().mean()"
   ]
  },
  {
   "cell_type": "code",
   "execution_count": null,
   "metadata": {},
   "outputs": [],
   "source": [
    "a.float().std()"
   ]
  },
  {
   "cell_type": "code",
   "execution_count": null,
   "metadata": {},
   "outputs": [],
   "source": [
    "a.max()"
   ]
  },
  {
   "cell_type": "code",
   "execution_count": null,
   "metadata": {},
   "outputs": [],
   "source": [
    "a.min()"
   ]
  },
  {
   "cell_type": "code",
   "execution_count": 65,
   "metadata": {
    "id": "YF20SBZ_VzFO"
   },
   "outputs": [],
   "source": [
    "tnsr = torch.linspace(0, 2*np.pi, 100)\n",
    "sin_tnsr = torch.sin(tnsr)"
   ]
  },
  {
   "cell_type": "code",
   "execution_count": 66,
   "metadata": {
    "id": "sbjV4zU8VzFR"
   },
   "outputs": [],
   "source": [
    "# command \"matplotlib inline\" to display the plot.\n",
    "%matplotlib inline"
   ]
  },
  {
   "cell_type": "code",
   "execution_count": null,
   "metadata": {
    "colab": {
     "base_uri": "https://localhost:8080/",
     "height": 282
    },
    "id": "mThL4KO7VzFW",
    "outputId": "2880096f-a3ec-4b62-f875-11102c7384e3"
   },
   "outputs": [],
   "source": [
    "plt.plot(tnsr.numpy(), sin_tnsr.numpy())"
   ]
  },
  {
   "cell_type": "markdown",
   "metadata": {},
   "source": [
    "Check this [link](https://pytorch.org/docs/stable/torch.html#) for more tensor operations."
   ]
  },
  {
   "cell_type": "markdown",
   "metadata": {
    "id": "LPaWdZ_wVzGA"
   },
   "source": [
    "### Arithmetic"
   ]
  },
  {
   "cell_type": "code",
   "execution_count": null,
   "metadata": {
    "colab": {
     "base_uri": "https://localhost:8080/",
     "height": 121
    },
    "id": "KKurX3ZeVzGB",
    "outputId": "6e5e7902-c5d6-43a4-9a51-ed558306bd66"
   },
   "outputs": [],
   "source": [
    "#Arithmetic operations +, -, *, /\n",
    "a = torch.randint(0,10,(2,2))\n",
    "print(a)\n",
    "b = torch.randint(0,10,(2,2))\n",
    "print(b)\n",
    "\n",
    "c = a+b\n",
    "c"
   ]
  },
  {
   "cell_type": "code",
   "execution_count": null,
   "metadata": {
    "colab": {
     "base_uri": "https://localhost:8080/",
     "height": 52
    },
    "id": "ksQk8U5RVzGE",
    "outputId": "b52cce8f-7767-4204-bfd4-5a243ee01b0e"
   },
   "outputs": [],
   "source": [
    "#_ signifies for inplace operation(Here, addition)\n",
    "a.add_(b)"
   ]
  },
  {
   "cell_type": "markdown",
   "metadata": {},
   "source": [
    "`*` or `mul()` signifies element wise multiplication operation. Also known as *Hamdard Product*"
   ]
  },
  {
   "cell_type": "code",
   "execution_count": null,
   "metadata": {},
   "outputs": [],
   "source": [
    "a"
   ]
  },
  {
   "cell_type": "code",
   "execution_count": null,
   "metadata": {},
   "outputs": [],
   "source": [
    "a * b"
   ]
  },
  {
   "cell_type": "code",
   "execution_count": null,
   "metadata": {},
   "outputs": [],
   "source": [
    "a * 4"
   ]
  },
  {
   "cell_type": "markdown",
   "metadata": {},
   "source": [
    "### Linear Algebra"
   ]
  },
  {
   "cell_type": "code",
   "execution_count": null,
   "metadata": {
    "colab": {
     "base_uri": "https://localhost:8080/",
     "height": 1000
    },
    "id": "NuAMlJC_VzGR",
    "outputId": "b25edf21-b25a-4930-acea-58ed942d55a0"
   },
   "outputs": [],
   "source": [
    "x1 = torch.arange(6).view(2,3)\n",
    "x2 = torch.randint(1, 11, (3,1))\n",
    "print(\"x1\", \"\\n============\")\n",
    "describe(x1)\n",
    "print(\"============\\n\")\n",
    "print(\"x2\", \"\\n============\")\n",
    "describe(x2)\n",
    "print(\"============\\n\")\n",
    "print(\"x1 matmul x2\", \"\\n============\")\n",
    "describe(torch.matmul(x1, x2))\n",
    "print(\"============\\n\")\n",
    "print(\"x1 transpose\", \"\\n============\")\n",
    "describe(torch.transpose(x1, 0, 1))\n",
    "print(\"============\\n\")"
   ]
  },
  {
   "cell_type": "code",
   "execution_count": null,
   "metadata": {
    "colab": {
     "base_uri": "https://localhost:8080/",
     "height": 34
    },
    "id": "bEPn0qV_VzGU",
    "outputId": "02ccabae-89db-40f0-9d36-c09e6f34b590"
   },
   "outputs": [],
   "source": [
    "#Vector Dot Product\n",
    "v1 = torch.tensor([1,2,3])\n",
    "v2 = torch.tensor([4,5,6])\n",
    "v1.dot(v2)"
   ]
  },
  {
   "cell_type": "code",
   "execution_count": null,
   "metadata": {},
   "outputs": [],
   "source": [
    "torch.dot(v1, v2)"
   ]
  },
  {
   "cell_type": "markdown",
   "metadata": {},
   "source": [
    "### Pytorch and Numpy Bridge"
   ]
  },
  {
   "cell_type": "code",
   "execution_count": null,
   "metadata": {},
   "outputs": [],
   "source": [
    "t = torch.ones(5)\n",
    "print(f\"t: {t}\")\n",
    "n = t.numpy()\n",
    "print(f\"n: {n}\")\n",
    "print(\"\")\n",
    "t.add_(1)\n",
    "print(f\"t: {t}\")\n",
    "print(f\"n: {n}\")"
   ]
  },
  {
   "cell_type": "markdown",
   "metadata": {},
   "source": [
    "A change in tensor implies change in the Numpy Array and vice-versa."
   ]
  },
  {
   "cell_type": "code",
   "execution_count": null,
   "metadata": {},
   "outputs": [],
   "source": [
    "n = np.ones(5)\n",
    "t = torch.from_numpy(n)\n",
    "print(f\"t: {t}\")\n",
    "n = t.numpy()\n",
    "print(f\"n: {n}\")\n",
    "print(\"\")\n",
    "np.add(n, 1, out=n)\n",
    "print(f\"t: {t}\")\n",
    "print(f\"n: {n}\")"
   ]
  },
  {
   "cell_type": "markdown",
   "metadata": {
    "id": "HKHErHniVzHk"
   },
   "source": [
    "## Variables"
   ]
  },
  {
   "cell_type": "code",
   "execution_count": null,
   "metadata": {
    "colab": {
     "base_uri": "https://localhost:8080/",
     "height": 52
    },
    "id": "sO_3Va-sVzHk",
    "outputId": "09a042d1-b000-42b4-e6e2-c6dcdc2a4eba"
   },
   "outputs": [],
   "source": [
    "# Variables are wrapper around the tensor ith gradient and reference to a function that created it.\n",
    "from torch.autograd import Variable\n",
    "x = Variable(torch.ones(2,2), requires_grad=True)\n",
    "x"
   ]
  },
  {
   "cell_type": "markdown",
   "metadata": {
    "id": "XYrVu-2_VzHo"
   },
   "source": [
    "### Tensor on GPU"
   ]
  },
  {
   "cell_type": "code",
   "execution_count": null,
   "metadata": {
    "colab": {
     "base_uri": "https://localhost:8080/",
     "height": 52
    },
    "id": "NMk3RFhSVzHp",
    "outputId": "b75670ba-88b6-4089-a629-239f946c6084"
   },
   "outputs": [],
   "source": [
    "#Tensors can be moved to any device.\n",
    "#Following code checks if GPU is available, maked cuda (GPU) default device.\n",
    "device = torch.device(\"cuda\" if torch.cuda.is_available() else \"cpu\")\n",
    "# use ``torch.device`` objects to move tensors in and out of GPU\n",
    "x3 = torch.rand(2,5).to(device)\n",
    "if device == \"cuda\":\n",
    "    print(torch.cuda.get_device_name(0))\n",
    "    print(x3.type())\n",
    "else:\n",
    "    print(device)\n",
    "    print(x3.type())"
   ]
  },
  {
   "cell_type": "code",
   "execution_count": null,
   "metadata": {},
   "outputs": [],
   "source": []
  }
 ],
 "metadata": {
  "accelerator": "GPU",
  "colab": {
   "name": "pytorch.ipynb",
   "provenance": []
  },
  "kernelspec": {
   "display_name": "nlp_env",
   "language": "python",
   "name": "python3"
  },
  "language_info": {
   "codemirror_mode": {
    "name": "ipython",
    "version": 3
   },
   "file_extension": ".py",
   "mimetype": "text/x-python",
   "name": "python",
   "nbconvert_exporter": "python",
   "pygments_lexer": "ipython3",
   "version": "3.10.12"
  }
 },
 "nbformat": 4,
 "nbformat_minor": 4
}
