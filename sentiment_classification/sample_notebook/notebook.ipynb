{
 "cells": [
  {
   "cell_type": "markdown",
   "id": "eb776758-e857-407f-98ce-d4ce335e29b1",
   "metadata": {},
   "source": [
    "# Training a transformer model"
   ]
  },
  {
   "cell_type": "code",
   "execution_count": null,
   "id": "52f6378d-90b9-43fa-9c5b-5e0ca5142816",
   "metadata": {},
   "outputs": [],
   "source": [
    "checkpoint = 'distilbert-base-uncased'"
   ]
  },
  {
   "cell_type": "markdown",
   "id": "66abfa50-d963-4b2c-aacb-098911deb7ca",
   "metadata": {},
   "source": [
    "## Loading Tokenizer"
   ]
  },
  {
   "cell_type": "code",
   "execution_count": null,
   "id": "39bce27a-3979-4679-876a-6a56b5480376",
   "metadata": {},
   "outputs": [],
   "source": [
    "from transformers import AutoTokenizer\n",
    "tokenizer = AutoTokenizer.from_pretrained(checkpoint)"
   ]
  },
  {
   "cell_type": "markdown",
   "id": "e6d32cab-0b1b-4bc4-8c27-699d6cff1348",
   "metadata": {},
   "source": [
    "## Dataset Processing"
   ]
  },
  {
   "cell_type": "markdown",
   "id": "c940f308-8603-4986-beb9-f2a03ec135e4",
   "metadata": {},
   "source": [
    "### Dataset Loading"
   ]
  },
  {
   "cell_type": "code",
   "execution_count": null,
   "id": "7f3dcaf1-4889-468c-b3ea-7d4a35dcc2c1",
   "metadata": {},
   "outputs": [],
   "source": [
    "from datasets import load_dataset\n",
    "from transformers import DataCollatorWithPadding\n",
    "\n",
    "data_files = {'train':'./../data/FiQA_and_Financial_PhraseBank_in_1/train.csv', \n",
    "              'dev':'./../data/FiQA_and_Financial_PhraseBank_in_1/dev.csv', \n",
    "              'test':'./../data/FiQA_and_Financial_PhraseBank_in_1/test.csv'}\n",
    "raw_dataset = load_dataset(\"csv\", data_files=data_files)\n",
    "\n",
    "label2id = {\n",
    "    'positive': 0,\n",
    "    'neutral': 1,\n",
    "    'negative': 2\n",
    "}\n",
    "def label_mapper(example):\n",
    "    return {\"Sentiment\": label2id[example[\"Sentiment\"]]}\n",
    "\n",
    "def tokenize_function(example):\n",
    "    return tokenizer(example[\"Sentence\"], truncation=True)\n",
    "\n",
    "raw_dataset = raw_dataset.map(label_mapper)\n",
    "tokenized_dataset = raw_dataset.map(tokenize_function, batched=True)\n",
    "tokenized_dataset[\"train\"][0]"
   ]
  },
  {
   "cell_type": "code",
   "execution_count": null,
   "id": "9836c6e2-2375-4882-abe0-2d0ac080b84b",
   "metadata": {},
   "outputs": [],
   "source": [
    "tokenized_dataset"
   ]
  },
  {
   "cell_type": "markdown",
   "id": "713f69a2-2a86-4ce9-b3f8-a0db2f25ccbf",
   "metadata": {},
   "source": [
    "### Initialising Data Collator"
   ]
  },
  {
   "cell_type": "code",
   "execution_count": null,
   "id": "f4a3cc41-722f-4c8c-9b2c-f4cccebd6490",
   "metadata": {},
   "outputs": [],
   "source": [
    "data_collator = DataCollatorWithPadding(tokenizer=tokenizer)"
   ]
  },
  {
   "cell_type": "markdown",
   "id": "83b88657-be7d-45bb-b920-a21ac22c659e",
   "metadata": {},
   "source": [
    "### Preparing data for training"
   ]
  },
  {
   "cell_type": "code",
   "execution_count": null,
   "id": "6070c959-7550-4a67-83ce-86a340624b41",
   "metadata": {},
   "outputs": [],
   "source": [
    "from torch.utils.data import DataLoader"
   ]
  },
  {
   "cell_type": "code",
   "execution_count": null,
   "id": "512b9245-0686-4d1d-97b7-2d9746aa2f7d",
   "metadata": {},
   "outputs": [],
   "source": [
    "tokenized_dataset = tokenized_dataset.remove_columns([\"Sentence\"])\n",
    "tokenized_dataset = tokenized_dataset.rename_column(\"Sentiment\", \"labels\")\n",
    "tokenized_dataset.set_format(\"torch\")\n",
    "tokenized_dataset[\"train\"].column_names"
   ]
  },
  {
   "cell_type": "code",
   "execution_count": null,
   "id": "21f8d572-b1d3-4c4a-93ca-d88b3710836a",
   "metadata": {},
   "outputs": [],
   "source": [
    "train_dataloader = DataLoader(\n",
    "                        tokenized_dataset[\"train\"],\n",
    "                        shuffle=True,\n",
    "                        batch_size=16,\n",
    "                        collate_fn=data_collator\n",
    "                    )"
   ]
  },
  {
   "cell_type": "code",
   "execution_count": null,
   "id": "8578ce79-b95f-42fb-ae7d-6d4e34358bbb",
   "metadata": {},
   "outputs": [],
   "source": [
    "dev_dataloader = DataLoader(\n",
    "                        tokenized_dataset[\"dev\"],\n",
    "                        batch_size=16,\n",
    "                        collate_fn=data_collator\n",
    "                    )"
   ]
  },
  {
   "cell_type": "code",
   "execution_count": null,
   "id": "d987c142-1a91-4f8d-adc7-3b64133d6530",
   "metadata": {},
   "outputs": [],
   "source": [
    "test_dataloader = DataLoader(\n",
    "                        tokenized_dataset[\"test\"],\n",
    "                        batch_size=16,\n",
    "                        collate_fn=data_collator\n",
    "                    )"
   ]
  },
  {
   "cell_type": "markdown",
   "id": "fcb60070-5e55-482d-8008-566dfa790d44",
   "metadata": {},
   "source": [
    "## Model Training"
   ]
  },
  {
   "cell_type": "markdown",
   "id": "e9f16d99-dd8d-46ce-a92b-0781387928d1",
   "metadata": {},
   "source": [
    "### Loading Model"
   ]
  },
  {
   "cell_type": "code",
   "execution_count": null,
   "id": "4b0d7679-0027-4f4c-b47c-77db87ee6219",
   "metadata": {},
   "outputs": [],
   "source": [
    "from transformers import AutoModelForSequenceClassification"
   ]
  },
  {
   "cell_type": "code",
   "execution_count": null,
   "id": "e3e6a4ab-afe9-4663-b1ed-98314ec506c3",
   "metadata": {},
   "outputs": [],
   "source": [
    "model = AutoModelForSequenceClassification.from_pretrained(checkpoint, num_labels=3)\n",
    "model"
   ]
  },
  {
   "cell_type": "markdown",
   "id": "6ae84bff-39ab-4c65-b0c6-b887d4737e81",
   "metadata": {},
   "source": [
    "### Initialising Optimizer"
   ]
  },
  {
   "cell_type": "code",
   "execution_count": null,
   "id": "3249afff-b56d-48d2-a820-03fd753d0a02",
   "metadata": {},
   "outputs": [],
   "source": [
    "from transformers import AdamW"
   ]
  },
  {
   "cell_type": "code",
   "execution_count": null,
   "id": "a118544a-ac62-4eba-9003-d72c4d2c7dc3",
   "metadata": {},
   "outputs": [],
   "source": [
    "optimizer = AdamW(model.parameters(), lr=3e-5)"
   ]
  },
  {
   "cell_type": "markdown",
   "id": "68a73dc8-ea35-442d-a246-bc8a5e9b3ba4",
   "metadata": {},
   "source": [
    "### Initialising Scheduler"
   ]
  },
  {
   "cell_type": "code",
   "execution_count": null,
   "id": "e2dc76d7-f712-4e93-838d-2e229a4b76bc",
   "metadata": {},
   "outputs": [],
   "source": [
    "from transformers import get_scheduler\n",
    "\n",
    "num_epochs = 3\n",
    "num_training_steps = num_epochs * len(train_dataloader)\n",
    "lr_scheduler = get_scheduler(\n",
    "    \"linear\",\n",
    "    optimizer=optimizer,\n",
    "    num_warmup_steps=0,\n",
    "    num_training_steps=num_training_steps,\n",
    ")\n",
    "print(num_training_steps)"
   ]
  },
  {
   "cell_type": "markdown",
   "id": "edca046a-6fb1-4b40-acd6-85f14056cfc0",
   "metadata": {},
   "source": [
    "### training Loop"
   ]
  },
  {
   "cell_type": "code",
   "execution_count": null,
   "id": "9366be8a-a971-42c3-9b45-e34678a42a41",
   "metadata": {},
   "outputs": [],
   "source": [
    "import torch\n",
    "device = torch.device(\"cuda\") if torch.cuda.is_available() else torch.device(\"cpu\")\n",
    "model.to(device)\n",
    "\n",
    "device"
   ]
  },
  {
   "cell_type": "code",
   "execution_count": null,
   "id": "e1027b58-943a-4b60-bb37-09de77eede8f",
   "metadata": {},
   "outputs": [],
   "source": [
    "def train(model):\n",
    "    progress_bar = tqdm(range(len(train_dataloader)))\n",
    "    model.train()\n",
    "    for batch in train_dataloader:\n",
    "        batch = {k: v.to(device) for k, v in batch.items()}\n",
    "        output = model(**batch)\n",
    "        loss = output.loss\n",
    "        # Backpropagation\n",
    "        optimizer.zero_grad()\n",
    "        loss.backward()\n",
    "        optimizer.step()\n",
    "        progress_bar.update(1)"
   ]
  },
  {
   "cell_type": "code",
   "execution_count": null,
   "id": "478e5113-e2ea-4c7b-9abb-fa91db8ecc6c",
   "metadata": {},
   "outputs": [],
   "source": [
    "import evaluate\n",
    "import numpy as np\n",
    "\n",
    "load_accuracy = evaluate.load(\"accuracy\")\n",
    "load_f1 = evaluate.load(\"f1\")\n",
    "\n",
    "def evaluate(model, test_dataloader):\n",
    "    progress_bar = tqdm(range(len(test_dataloader)))\n",
    "    model.eval()\n",
    "    for batch in test_dataloader:\n",
    "        batch = {k: v.to(device) for k, v in batch.items()}\n",
    "        with torch.no_grad():\n",
    "            outputs = model(**batch)\n",
    "    \n",
    "        logits = outputs.logits\n",
    "        predictions = torch.argmax(logits, dim=-1)\n",
    "        load_accuracy.add_batch(predictions=predictions, references=batch[\"labels\"])\n",
    "        load_f1.add_batch(predictions=predictions, references=batch[\"labels\"])\n",
    "        progress_bar.update(1)\n",
    "    \n",
    "    print(load_accuracy.compute())\n",
    "    print(load_f1.compute(average='macro'))"
   ]
  },
  {
   "cell_type": "code",
   "execution_count": null,
   "id": "4f36b2c1-9330-4fab-8a53-70f03fb0a66b",
   "metadata": {},
   "outputs": [],
   "source": [
    "from tqdm.auto import tqdm\n",
    "\n",
    "progress_bar = tqdm(range(num_epochs))\n",
    "\n",
    "for epoch in range(num_epochs):\n",
    "    train(model)\n",
    "    evaluate(model, dev_dataloader)\n",
    "    lr_scheduler.step()\n",
    "    progress_bar.update(1)"
   ]
  },
  {
   "cell_type": "markdown",
   "id": "6aa5a507-5549-4a34-be3d-a1f8c4ce8a49",
   "metadata": {},
   "source": [
    "Inside the training loop, optimization happens in three steps:\n",
    "* Backpropagate the prediction loss with a call to `loss.backward()`. PyTorch deposits the gradients of the loss w.r.t. each parameter.\n",
    "* Once we have our gradients, we call `optimizer.step()` and `lr_sceduler.step()` to adjust the parameters by the gradients collected in the backward pass.\n",
    "* Call `optimizer.zero_grad()` to reset the gradients of model parameters. Gradients by default add up; to prevent double-counting, we explicitly zero them at each iteration."
   ]
  },
  {
   "cell_type": "markdown",
   "id": "c3754141-558f-4a18-ade2-5bf06d09d21e",
   "metadata": {},
   "source": [
    "## Saving the model"
   ]
  },
  {
   "cell_type": "code",
   "execution_count": null,
   "id": "3ff200e2-4377-4434-b04c-5d604dd1f745",
   "metadata": {},
   "outputs": [],
   "source": [
    "model.save_pretrained('./../../../model/fin_sentiment_distilbert/')"
   ]
  },
  {
   "cell_type": "markdown",
   "id": "649cef34-d15a-44af-9632-91b423f1b96c",
   "metadata": {},
   "source": [
    "## Model Evaluation"
   ]
  },
  {
   "cell_type": "code",
   "execution_count": null,
   "id": "5efbfca5-919b-4cfa-8920-18e82961fd7d",
   "metadata": {},
   "outputs": [],
   "source": [
    "model = AutoModelForSequenceClassification.from_pretrained('./../../../model/fin_sentiment_distilbert/')\n",
    "evaluate(model, test_dataloader)"
   ]
  }
 ],
 "metadata": {
  "kernelspec": {
   "display_name": "Python 3 (ipykernel)",
   "language": "python",
   "name": "python3"
  },
  "language_info": {
   "codemirror_mode": {
    "name": "ipython",
    "version": 3
   },
   "file_extension": ".py",
   "mimetype": "text/x-python",
   "name": "python",
   "nbconvert_exporter": "python",
   "pygments_lexer": "ipython3",
   "version": "3.10.12"
  }
 },
 "nbformat": 4,
 "nbformat_minor": 5
}
