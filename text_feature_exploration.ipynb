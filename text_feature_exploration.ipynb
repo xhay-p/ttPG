{
 "cells": [
  {
   "cell_type": "code",
   "execution_count": 1,
   "metadata": {},
   "outputs": [],
   "source": [
    "import seaborn as sns"
   ]
  },
  {
   "cell_type": "code",
   "execution_count": 2,
   "metadata": {},
   "outputs": [],
   "source": [
    "corpus = [\"rock beats scissor, rock wins.\",\n",
    "          \"scissor cuts paper, scissor wins.\",\n",
    "         \"paper covers rock, paper wins\"]"
   ]
  },
  {
   "cell_type": "code",
   "execution_count": 3,
   "metadata": {},
   "outputs": [
    {
     "name": "stdout",
     "output_type": "stream",
     "text": [
      "[[1 0 0 0 1 1 1]\n",
      " [0 0 1 1 0 1 1]\n",
      " [0 1 0 1 1 0 1]]\n"
     ]
    },
    {
     "data": {
      "text/plain": [
       "<matplotlib.axes._subplots.AxesSubplot at 0x7f6514d7a668>"
      ]
     },
     "execution_count": 3,
     "metadata": {},
     "output_type": "execute_result"
    },
    {
     "data": {
      "image/png": "[encoded data removed]",
      "text/plain": [
       "<Figure size 432x288 with 1 Axes>"
      ]
     },
     "metadata": {
      "needs_background": "light"
     },
     "output_type": "display_data"
    }
   ],
   "source": [
    "#Collapsed One-hot representation\n",
    "#One-hot Encoding :: \n",
    "from sklearn.feature_extraction.text import CountVectorizer\n",
    "\n",
    "one_hot_vectorizer = CountVectorizer(binary=True)\n",
    "one_hot = one_hot_vectorizer.fit_transform(corpus).toarray()\n",
    "print(one_hot)\n",
    "\n",
    "vocab = one_hot_vectorizer.get_feature_names()\n",
    "\n",
    "sns.heatmap(one_hot, annot=True, cbar=False,\n",
    "            xticklabels=vocab, yticklabels=['Sent1', 'Sent2', 'Sent3'])"
   ]
  },
  {
   "cell_type": "code",
   "execution_count": 4,
   "metadata": {},
   "outputs": [
    {
     "name": "stdout",
     "output_type": "stream",
     "text": [
      "[[0.48559571 0.         0.         0.         0.73861611 0.36930805\n",
      "  0.28680065]\n",
      " [0.         0.         0.48559571 0.36930805 0.         0.73861611\n",
      "  0.28680065]\n",
      " [0.         0.48559571 0.         0.73861611 0.36930805 0.\n",
      "  0.28680065]]\n"
     ]
    },
    {
     "data": {
      "text/plain": [
       "<matplotlib.axes._subplots.AxesSubplot at 0x7f651482f208>"
      ]
     },
     "execution_count": 4,
     "metadata": {},
     "output_type": "execute_result"
    },
    {
     "data": {
      "image/png": "[encoded data removed]",
      "text/plain": [
       "<Figure size 432x288 with 1 Axes>"
      ]
     },
     "metadata": {
      "needs_background": "light"
     },
     "output_type": "display_data"
    }
   ],
   "source": [
    "#Tfidf representation\n",
    "#Tf ::\n",
    "#IDF ::\n",
    "from sklearn.feature_extraction.text import TfidfVectorizer\n",
    "\n",
    "tfidf_vectorizer = TfidfVectorizer()\n",
    "tfidf = tfidf_vectorizer.fit_transform(corpus).toarray()\n",
    "print(tfidf)\n",
    "\n",
    "vocab = one_hot_vectorizer.get_feature_names()\n",
    "\n",
    "sns.heatmap(tfidf, annot=True, cbar=False,\n",
    "            xticklabels=vocab, yticklabels=['Sent1', 'Sent2', 'Sent3'])"
   ]
  },
  {
   "cell_type": "code",
   "execution_count": 5,
   "metadata": {},
   "outputs": [],
   "source": [
    "tweet = \"rock beats scissor, #rockwins. scissor cuts paper, #scissorwins. paper covers rock, #paperwins @babaakki25\""
   ]
  },
  {
   "cell_type": "code",
   "execution_count": 7,
   "metadata": {},
   "outputs": [
    {
     "name": "stdout",
     "output_type": "stream",
     "text": [
      "Tokens\n",
      "==================\n",
      "['rock', 'beats', 'scissor', ',', 'rock', 'wins', '.']\n",
      "['scissor', 'cuts', 'paper', ',', 'scissor', 'wins', '.']\n",
      "['paper', 'covers', 'rock', ',', 'paper', 'wins']\n",
      "==================\n",
      "Sentences\n",
      "==================\n",
      "rock beats scissor, #rockwins.\n",
      "scissor cuts paper, #scissorwins.\n",
      "paper covers rock, #paperwins @babaakki25\n",
      "==================\n",
      "Lemmatizarion\n",
      "==================\n",
      "We -PRON-\n",
      "used use\n",
      "the the\n",
      "BERTBASE BERTBASE\n",
      "model model\n",
      "pre pre\n",
      "- -\n",
      "trained train\n",
      "on on\n",
      "English English\n",
      "Wikipedia Wikipedia\n",
      "and and\n",
      "BooksCorpus BooksCorpus\n",
      "for for\n",
      "1 1\n",
      "M M\n",
      "steps step\n",
      ". .\n",
      "==================\n",
      "POS - Tagging\n",
      "==================\n",
      "We PRON PRP\n",
      "used VERB VBD\n",
      "the DET DT\n",
      "BERTBASE PROPN NNP\n",
      "model NOUN NN\n",
      "pre VERB VBN\n",
      "- VERB VBN\n",
      "trained VERB VBN\n",
      "on ADP IN\n",
      "English PROPN NNP\n",
      "Wikipedia PROPN NNP\n",
      "and CCONJ CC\n",
      "BooksCorpus PROPN NNP\n",
      "for ADP IN\n",
      "1 NUM CD\n",
      "M PROPN NNP\n",
      "steps NOUN NNS\n",
      ". PUNCT .\n",
      "==================\n",
      "Dependency Parsing\n",
      "==================\n",
      "We nsubj\n",
      "used ROOT\n",
      "the det\n",
      "BERTBASE compound\n",
      "model dobj\n",
      "pre subtok\n",
      "- subtok\n",
      "trained ccomp\n",
      "on prep\n",
      "English compound\n",
      "Wikipedia pobj\n",
      "and cc\n",
      "BooksCorpus conj\n",
      "for prep\n",
      "1 nummod\n",
      "M compound\n",
      "steps pobj\n",
      ". punct\n",
      "==================\n"
     ]
    },
    {
     "data": {
      "text/html": [
       "<svg xmlns=\"http://www.w3.org/2000/svg\" xmlns:xlink=\"http://www.w3.org/1999/xlink\" xml:lang=\"en\" id=\"35be291e2aa24937aa6e909fbbbba027-0\" class=\"displacy\" width=\"2850\" height=\"574.5\" direction=\"ltr\" style=\"max-width: none; height: 574.5px; color: #000000; background: #ffffff; font-family: Arial; direction: ltr\">\n",
       "<text class=\"displacy-token\" fill=\"currentColor\" text-anchor=\"middle\" y=\"484.5\">\n",
       "    <tspan class=\"displacy-word\" fill=\"currentColor\" x=\"50\">We</tspan>\n",
       "    <tspan class=\"displacy-tag\" dy=\"2em\" fill=\"currentColor\" x=\"50\">PRON</tspan>\n",
       "</text>\n",
       "\n",
       "<text class=\"displacy-token\" fill=\"currentColor\" text-anchor=\"middle\" y=\"484.5\">\n",
       "    <tspan class=\"displacy-word\" fill=\"currentColor\" x=\"225\">used</tspan>\n",
       "    <tspan class=\"displacy-tag\" dy=\"2em\" fill=\"currentColor\" x=\"225\">VERB</tspan>\n",
       "</text>\n",
       "\n",
       "<text class=\"displacy-token\" fill=\"currentColor\" text-anchor=\"middle\" y=\"484.5\">\n",
       "    <tspan class=\"displacy-word\" fill=\"currentColor\" x=\"400\">the</tspan>\n",
       "    <tspan class=\"displacy-tag\" dy=\"2em\" fill=\"currentColor\" x=\"400\">DET</tspan>\n",
       "</text>\n",
       "\n",
       "<text class=\"displacy-token\" fill=\"currentColor\" text-anchor=\"middle\" y=\"484.5\">\n",
       "    <tspan class=\"displacy-word\" fill=\"currentColor\" x=\"575\">BERTBASE</tspan>\n",
       "    <tspan class=\"displacy-tag\" dy=\"2em\" fill=\"currentColor\" x=\"575\">PROPN</tspan>\n",
       "</text>\n",
       "\n",
       "<text class=\"displacy-token\" fill=\"currentColor\" text-anchor=\"middle\" y=\"484.5\">\n",
       "    <tspan class=\"displacy-word\" fill=\"currentColor\" x=\"750\">model</tspan>\n",
       "    <tspan class=\"displacy-tag\" dy=\"2em\" fill=\"currentColor\" x=\"750\">NOUN</tspan>\n",
       "</text>\n",
       "\n",
       "<text class=\"displacy-token\" fill=\"currentColor\" text-anchor=\"middle\" y=\"484.5\">\n",
       "    <tspan class=\"displacy-word\" fill=\"currentColor\" x=\"925\">pre-</tspan>\n",
       "    <tspan class=\"displacy-tag\" dy=\"2em\" fill=\"currentColor\" x=\"925\">VERB</tspan>\n",
       "</text>\n",
       "\n",
       "<text class=\"displacy-token\" fill=\"currentColor\" text-anchor=\"middle\" y=\"484.5\">\n",
       "    <tspan class=\"displacy-word\" fill=\"currentColor\" x=\"1100\">trained</tspan>\n",
       "    <tspan class=\"displacy-tag\" dy=\"2em\" fill=\"currentColor\" x=\"1100\">VERB</tspan>\n",
       "</text>\n",
       "\n",
       "<text class=\"displacy-token\" fill=\"currentColor\" text-anchor=\"middle\" y=\"484.5\">\n",
       "    <tspan class=\"displacy-word\" fill=\"currentColor\" x=\"1275\">on</tspan>\n",
       "    <tspan class=\"displacy-tag\" dy=\"2em\" fill=\"currentColor\" x=\"1275\">ADP</tspan>\n",
       "</text>\n",
       "\n",
       "<text class=\"displacy-token\" fill=\"currentColor\" text-anchor=\"middle\" y=\"484.5\">\n",
       "    <tspan class=\"displacy-word\" fill=\"currentColor\" x=\"1450\">English</tspan>\n",
       "    <tspan class=\"displacy-tag\" dy=\"2em\" fill=\"currentColor\" x=\"1450\">PROPN</tspan>\n",
       "</text>\n",
       "\n",
       "<text class=\"displacy-token\" fill=\"currentColor\" text-anchor=\"middle\" y=\"484.5\">\n",
       "    <tspan class=\"displacy-word\" fill=\"currentColor\" x=\"1625\">Wikipedia</tspan>\n",
       "    <tspan class=\"displacy-tag\" dy=\"2em\" fill=\"currentColor\" x=\"1625\">PROPN</tspan>\n",
       "</text>\n",
       "\n",
       "<text class=\"displacy-token\" fill=\"currentColor\" text-anchor=\"middle\" y=\"484.5\">\n",
       "    <tspan class=\"displacy-word\" fill=\"currentColor\" x=\"1800\">and</tspan>\n",
       "    <tspan class=\"displacy-tag\" dy=\"2em\" fill=\"currentColor\" x=\"1800\">CCONJ</tspan>\n",
       "</text>\n",
       "\n",
       "<text class=\"displacy-token\" fill=\"currentColor\" text-anchor=\"middle\" y=\"484.5\">\n",
       "    <tspan class=\"displacy-word\" fill=\"currentColor\" x=\"1975\">BooksCorpus</tspan>\n",
       "    <tspan class=\"displacy-tag\" dy=\"2em\" fill=\"currentColor\" x=\"1975\">PROPN</tspan>\n",
       "</text>\n",
       "\n",
       "<text class=\"displacy-token\" fill=\"currentColor\" text-anchor=\"middle\" y=\"484.5\">\n",
       "    <tspan class=\"displacy-word\" fill=\"currentColor\" x=\"2150\">for</tspan>\n",
       "    <tspan class=\"displacy-tag\" dy=\"2em\" fill=\"currentColor\" x=\"2150\">ADP</tspan>\n",
       "</text>\n",
       "\n",
       "<text class=\"displacy-token\" fill=\"currentColor\" text-anchor=\"middle\" y=\"484.5\">\n",
       "    <tspan class=\"displacy-word\" fill=\"currentColor\" x=\"2325\">1</tspan>\n",
       "    <tspan class=\"displacy-tag\" dy=\"2em\" fill=\"currentColor\" x=\"2325\">NUM</tspan>\n",
       "</text>\n",
       "\n",
       "<text class=\"displacy-token\" fill=\"currentColor\" text-anchor=\"middle\" y=\"484.5\">\n",
       "    <tspan class=\"displacy-word\" fill=\"currentColor\" x=\"2500\">M</tspan>\n",
       "    <tspan class=\"displacy-tag\" dy=\"2em\" fill=\"currentColor\" x=\"2500\">PROPN</tspan>\n",
       "</text>\n",
       "\n",
       "<text class=\"displacy-token\" fill=\"currentColor\" text-anchor=\"middle\" y=\"484.5\">\n",
       "    <tspan class=\"displacy-word\" fill=\"currentColor\" x=\"2675\">steps.</tspan>\n",
       "    <tspan class=\"displacy-tag\" dy=\"2em\" fill=\"currentColor\" x=\"2675\">NOUN</tspan>\n",
       "</text>\n",
       "\n",
       "<g class=\"displacy-arrow\">\n",
       "    <path class=\"displacy-arc\" id=\"arrow-35be291e2aa24937aa6e909fbbbba027-0-0\" stroke-width=\"2px\" d=\"M70,439.5 C70,352.0 205.0,352.0 205.0,439.5\" fill=\"none\" stroke=\"currentColor\"/>\n",
       "    <text dy=\"1.25em\" style=\"font-size: 0.8em; letter-spacing: 1px\">\n",
       "        <textPath xlink:href=\"#arrow-35be291e2aa24937aa6e909fbbbba027-0-0\" class=\"displacy-label\" startOffset=\"50%\" side=\"left\" fill=\"currentColor\" text-anchor=\"middle\">nsubj</textPath>\n",
       "    </text>\n",
       "    <path class=\"displacy-arrowhead\" d=\"M70,441.5 L62,429.5 78,429.5\" fill=\"currentColor\"/>\n",
       "</g>\n",
       "\n",
       "<g class=\"displacy-arrow\">\n",
       "    <path class=\"displacy-arc\" id=\"arrow-35be291e2aa24937aa6e909fbbbba027-0-1\" stroke-width=\"2px\" d=\"M420,439.5 C420,264.5 735.0,264.5 735.0,439.5\" fill=\"none\" stroke=\"currentColor\"/>\n",
       "    <text dy=\"1.25em\" style=\"font-size: 0.8em; letter-spacing: 1px\">\n",
       "        <textPath xlink:href=\"#arrow-35be291e2aa24937aa6e909fbbbba027-0-1\" class=\"displacy-label\" startOffset=\"50%\" side=\"left\" fill=\"currentColor\" text-anchor=\"middle\">det</textPath>\n",
       "    </text>\n",
       "    <path class=\"displacy-arrowhead\" d=\"M420,441.5 L412,429.5 428,429.5\" fill=\"currentColor\"/>\n",
       "</g>\n",
       "\n",
       "<g class=\"displacy-arrow\">\n",
       "    <path class=\"displacy-arc\" id=\"arrow-35be291e2aa24937aa6e909fbbbba027-0-2\" stroke-width=\"2px\" d=\"M595,439.5 C595,352.0 730.0,352.0 730.0,439.5\" fill=\"none\" stroke=\"currentColor\"/>\n",
       "    <text dy=\"1.25em\" style=\"font-size: 0.8em; letter-spacing: 1px\">\n",
       "        <textPath xlink:href=\"#arrow-35be291e2aa24937aa6e909fbbbba027-0-2\" class=\"displacy-label\" startOffset=\"50%\" side=\"left\" fill=\"currentColor\" text-anchor=\"middle\">compound</textPath>\n",
       "    </text>\n",
       "    <path class=\"displacy-arrowhead\" d=\"M595,441.5 L587,429.5 603,429.5\" fill=\"currentColor\"/>\n",
       "</g>\n",
       "\n",
       "<g class=\"displacy-arrow\">\n",
       "    <path class=\"displacy-arc\" id=\"arrow-35be291e2aa24937aa6e909fbbbba027-0-3\" stroke-width=\"2px\" d=\"M245,439.5 C245,177.0 740.0,177.0 740.0,439.5\" fill=\"none\" stroke=\"currentColor\"/>\n",
       "    <text dy=\"1.25em\" style=\"font-size: 0.8em; letter-spacing: 1px\">\n",
       "        <textPath xlink:href=\"#arrow-35be291e2aa24937aa6e909fbbbba027-0-3\" class=\"displacy-label\" startOffset=\"50%\" side=\"left\" fill=\"currentColor\" text-anchor=\"middle\">dobj</textPath>\n",
       "    </text>\n",
       "    <path class=\"displacy-arrowhead\" d=\"M740.0,441.5 L748.0,429.5 732.0,429.5\" fill=\"currentColor\"/>\n",
       "</g>\n",
       "\n",
       "<g class=\"displacy-arrow\">\n",
       "    <path class=\"displacy-arc\" id=\"arrow-35be291e2aa24937aa6e909fbbbba027-0-4\" stroke-width=\"2px\" d=\"M945,439.5 C945,352.0 1080.0,352.0 1080.0,439.5\" fill=\"none\" stroke=\"currentColor\"/>\n",
       "    <text dy=\"1.25em\" style=\"font-size: 0.8em; letter-spacing: 1px\">\n",
       "        <textPath xlink:href=\"#arrow-35be291e2aa24937aa6e909fbbbba027-0-4\" class=\"displacy-label\" startOffset=\"50%\" side=\"left\" fill=\"currentColor\" text-anchor=\"middle\">subtok</textPath>\n",
       "    </text>\n",
       "    <path class=\"displacy-arrowhead\" d=\"M945,441.5 L937,429.5 953,429.5\" fill=\"currentColor\"/>\n",
       "</g>\n",
       "\n",
       "<g class=\"displacy-arrow\">\n",
       "    <path class=\"displacy-arc\" id=\"arrow-35be291e2aa24937aa6e909fbbbba027-0-5\" stroke-width=\"2px\" d=\"M245,439.5 C245,89.5 1095.0,89.5 1095.0,439.5\" fill=\"none\" stroke=\"currentColor\"/>\n",
       "    <text dy=\"1.25em\" style=\"font-size: 0.8em; letter-spacing: 1px\">\n",
       "        <textPath xlink:href=\"#arrow-35be291e2aa24937aa6e909fbbbba027-0-5\" class=\"displacy-label\" startOffset=\"50%\" side=\"left\" fill=\"currentColor\" text-anchor=\"middle\">ccomp</textPath>\n",
       "    </text>\n",
       "    <path class=\"displacy-arrowhead\" d=\"M1095.0,441.5 L1103.0,429.5 1087.0,429.5\" fill=\"currentColor\"/>\n",
       "</g>\n",
       "\n",
       "<g class=\"displacy-arrow\">\n",
       "    <path class=\"displacy-arc\" id=\"arrow-35be291e2aa24937aa6e909fbbbba027-0-6\" stroke-width=\"2px\" d=\"M1120,439.5 C1120,352.0 1255.0,352.0 1255.0,439.5\" fill=\"none\" stroke=\"currentColor\"/>\n",
       "    <text dy=\"1.25em\" style=\"font-size: 0.8em; letter-spacing: 1px\">\n",
       "        <textPath xlink:href=\"#arrow-35be291e2aa24937aa6e909fbbbba027-0-6\" class=\"displacy-label\" startOffset=\"50%\" side=\"left\" fill=\"currentColor\" text-anchor=\"middle\">prep</textPath>\n",
       "    </text>\n",
       "    <path class=\"displacy-arrowhead\" d=\"M1255.0,441.5 L1263.0,429.5 1247.0,429.5\" fill=\"currentColor\"/>\n",
       "</g>\n",
       "\n",
       "<g class=\"displacy-arrow\">\n",
       "    <path class=\"displacy-arc\" id=\"arrow-35be291e2aa24937aa6e909fbbbba027-0-7\" stroke-width=\"2px\" d=\"M1470,439.5 C1470,352.0 1605.0,352.0 1605.0,439.5\" fill=\"none\" stroke=\"currentColor\"/>\n",
       "    <text dy=\"1.25em\" style=\"font-size: 0.8em; letter-spacing: 1px\">\n",
       "        <textPath xlink:href=\"#arrow-35be291e2aa24937aa6e909fbbbba027-0-7\" class=\"displacy-label\" startOffset=\"50%\" side=\"left\" fill=\"currentColor\" text-anchor=\"middle\">compound</textPath>\n",
       "    </text>\n",
       "    <path class=\"displacy-arrowhead\" d=\"M1470,441.5 L1462,429.5 1478,429.5\" fill=\"currentColor\"/>\n",
       "</g>\n",
       "\n",
       "<g class=\"displacy-arrow\">\n",
       "    <path class=\"displacy-arc\" id=\"arrow-35be291e2aa24937aa6e909fbbbba027-0-8\" stroke-width=\"2px\" d=\"M1295,439.5 C1295,264.5 1610.0,264.5 1610.0,439.5\" fill=\"none\" stroke=\"currentColor\"/>\n",
       "    <text dy=\"1.25em\" style=\"font-size: 0.8em; letter-spacing: 1px\">\n",
       "        <textPath xlink:href=\"#arrow-35be291e2aa24937aa6e909fbbbba027-0-8\" class=\"displacy-label\" startOffset=\"50%\" side=\"left\" fill=\"currentColor\" text-anchor=\"middle\">pobj</textPath>\n",
       "    </text>\n",
       "    <path class=\"displacy-arrowhead\" d=\"M1610.0,441.5 L1618.0,429.5 1602.0,429.5\" fill=\"currentColor\"/>\n",
       "</g>\n",
       "\n",
       "<g class=\"displacy-arrow\">\n",
       "    <path class=\"displacy-arc\" id=\"arrow-35be291e2aa24937aa6e909fbbbba027-0-9\" stroke-width=\"2px\" d=\"M1645,439.5 C1645,352.0 1780.0,352.0 1780.0,439.5\" fill=\"none\" stroke=\"currentColor\"/>\n",
       "    <text dy=\"1.25em\" style=\"font-size: 0.8em; letter-spacing: 1px\">\n",
       "        <textPath xlink:href=\"#arrow-35be291e2aa24937aa6e909fbbbba027-0-9\" class=\"displacy-label\" startOffset=\"50%\" side=\"left\" fill=\"currentColor\" text-anchor=\"middle\">cc</textPath>\n",
       "    </text>\n",
       "    <path class=\"displacy-arrowhead\" d=\"M1780.0,441.5 L1788.0,429.5 1772.0,429.5\" fill=\"currentColor\"/>\n",
       "</g>\n",
       "\n",
       "<g class=\"displacy-arrow\">\n",
       "    <path class=\"displacy-arc\" id=\"arrow-35be291e2aa24937aa6e909fbbbba027-0-10\" stroke-width=\"2px\" d=\"M1645,439.5 C1645,264.5 1960.0,264.5 1960.0,439.5\" fill=\"none\" stroke=\"currentColor\"/>\n",
       "    <text dy=\"1.25em\" style=\"font-size: 0.8em; letter-spacing: 1px\">\n",
       "        <textPath xlink:href=\"#arrow-35be291e2aa24937aa6e909fbbbba027-0-10\" class=\"displacy-label\" startOffset=\"50%\" side=\"left\" fill=\"currentColor\" text-anchor=\"middle\">conj</textPath>\n",
       "    </text>\n",
       "    <path class=\"displacy-arrowhead\" d=\"M1960.0,441.5 L1968.0,429.5 1952.0,429.5\" fill=\"currentColor\"/>\n",
       "</g>\n",
       "\n",
       "<g class=\"displacy-arrow\">\n",
       "    <path class=\"displacy-arc\" id=\"arrow-35be291e2aa24937aa6e909fbbbba027-0-11\" stroke-width=\"2px\" d=\"M245,439.5 C245,2.0 2150.0,2.0 2150.0,439.5\" fill=\"none\" stroke=\"currentColor\"/>\n",
       "    <text dy=\"1.25em\" style=\"font-size: 0.8em; letter-spacing: 1px\">\n",
       "        <textPath xlink:href=\"#arrow-35be291e2aa24937aa6e909fbbbba027-0-11\" class=\"displacy-label\" startOffset=\"50%\" side=\"left\" fill=\"currentColor\" text-anchor=\"middle\">prep</textPath>\n",
       "    </text>\n",
       "    <path class=\"displacy-arrowhead\" d=\"M2150.0,441.5 L2158.0,429.5 2142.0,429.5\" fill=\"currentColor\"/>\n",
       "</g>\n",
       "\n",
       "<g class=\"displacy-arrow\">\n",
       "    <path class=\"displacy-arc\" id=\"arrow-35be291e2aa24937aa6e909fbbbba027-0-12\" stroke-width=\"2px\" d=\"M2345,439.5 C2345,264.5 2660.0,264.5 2660.0,439.5\" fill=\"none\" stroke=\"currentColor\"/>\n",
       "    <text dy=\"1.25em\" style=\"font-size: 0.8em; letter-spacing: 1px\">\n",
       "        <textPath xlink:href=\"#arrow-35be291e2aa24937aa6e909fbbbba027-0-12\" class=\"displacy-label\" startOffset=\"50%\" side=\"left\" fill=\"currentColor\" text-anchor=\"middle\">nummod</textPath>\n",
       "    </text>\n",
       "    <path class=\"displacy-arrowhead\" d=\"M2345,441.5 L2337,429.5 2353,429.5\" fill=\"currentColor\"/>\n",
       "</g>\n",
       "\n",
       "<g class=\"displacy-arrow\">\n",
       "    <path class=\"displacy-arc\" id=\"arrow-35be291e2aa24937aa6e909fbbbba027-0-13\" stroke-width=\"2px\" d=\"M2520,439.5 C2520,352.0 2655.0,352.0 2655.0,439.5\" fill=\"none\" stroke=\"currentColor\"/>\n",
       "    <text dy=\"1.25em\" style=\"font-size: 0.8em; letter-spacing: 1px\">\n",
       "        <textPath xlink:href=\"#arrow-35be291e2aa24937aa6e909fbbbba027-0-13\" class=\"displacy-label\" startOffset=\"50%\" side=\"left\" fill=\"currentColor\" text-anchor=\"middle\">compound</textPath>\n",
       "    </text>\n",
       "    <path class=\"displacy-arrowhead\" d=\"M2520,441.5 L2512,429.5 2528,429.5\" fill=\"currentColor\"/>\n",
       "</g>\n",
       "\n",
       "<g class=\"displacy-arrow\">\n",
       "    <path class=\"displacy-arc\" id=\"arrow-35be291e2aa24937aa6e909fbbbba027-0-14\" stroke-width=\"2px\" d=\"M2170,439.5 C2170,177.0 2665.0,177.0 2665.0,439.5\" fill=\"none\" stroke=\"currentColor\"/>\n",
       "    <text dy=\"1.25em\" style=\"font-size: 0.8em; letter-spacing: 1px\">\n",
       "        <textPath xlink:href=\"#arrow-35be291e2aa24937aa6e909fbbbba027-0-14\" class=\"displacy-label\" startOffset=\"50%\" side=\"left\" fill=\"currentColor\" text-anchor=\"middle\">pobj</textPath>\n",
       "    </text>\n",
       "    <path class=\"displacy-arrowhead\" d=\"M2665.0,441.5 L2673.0,429.5 2657.0,429.5\" fill=\"currentColor\"/>\n",
       "</g>\n",
       "</svg>"
      ],
      "text/plain": [
       "<IPython.core.display.HTML object>"
      ]
     },
     "metadata": {},
     "output_type": "display_data"
    },
    {
     "name": "stdout",
     "output_type": "stream",
     "text": [
      "NER Tagging\n",
      "==================\n",
      "English 9 10 LANGUAGE\n",
      "BooksCorpus 12 13 ORG\n",
      "1 14 15 CARDINAL\n",
      "==================\n"
     ]
    },
    {
     "data": {
      "text/html": [
       "<div class=\"entities\" style=\"line-height: 2.5; direction: ltr\">We used the BERTBASE model pre-trained on \n",
       "<mark class=\"entity\" style=\"background: #ff8197; padding: 0.45em 0.6em; margin: 0 0.25em; line-height: 1; border-radius: 0.35em; box-decoration-break: clone; -webkit-box-decoration-break: clone\">\n",
       "    English\n",
       "    <span style=\"font-size: 0.8em; font-weight: bold; line-height: 1; border-radius: 0.35em; text-transform: uppercase; vertical-align: middle; margin-left: 0.5rem\">LANGUAGE</span>\n",
       "</mark>\n",
       " Wikipedia and \n",
       "<mark class=\"entity\" style=\"background: #7aecec; padding: 0.45em 0.6em; margin: 0 0.25em; line-height: 1; border-radius: 0.35em; box-decoration-break: clone; -webkit-box-decoration-break: clone\">\n",
       "    BooksCorpus\n",
       "    <span style=\"font-size: 0.8em; font-weight: bold; line-height: 1; border-radius: 0.35em; text-transform: uppercase; vertical-align: middle; margin-left: 0.5rem\">ORG</span>\n",
       "</mark>\n",
       " for \n",
       "<mark class=\"entity\" style=\"background: #e4e7d2; padding: 0.45em 0.6em; margin: 0 0.25em; line-height: 1; border-radius: 0.35em; box-decoration-break: clone; -webkit-box-decoration-break: clone\">\n",
       "    1\n",
       "    <span style=\"font-size: 0.8em; font-weight: bold; line-height: 1; border-radius: 0.35em; text-transform: uppercase; vertical-align: middle; margin-left: 0.5rem\">CARDINAL</span>\n",
       "</mark>\n",
       "M steps.</div>"
      ],
      "text/plain": [
       "<IPython.core.display.HTML object>"
      ]
     },
     "metadata": {},
     "output_type": "display_data"
    },
    {
     "name": "stdout",
     "output_type": "stream",
     "text": [
      "Chunking/Phrasing\n",
      "==================\n",
      "We NP\n",
      "the BERTBASE model NP\n",
      "English Wikipedia NP\n",
      "BooksCorpus NP\n",
      "1M steps NP\n",
      "==================\n"
     ]
    }
   ],
   "source": [
    "#Using Spacy\n",
    "import spacy\n",
    "from spacy import displacy\n",
    "model = spacy.load('en_core_web_sm')\n",
    "\n",
    "\n",
    "#Tokenization\n",
    "print(\"Tokens\")\n",
    "print(\"==================\")\n",
    "for line in corpus:\n",
    "    print([str(token) for token in model(line)])\n",
    "print(\"==================\")\n",
    "\n",
    "#Sentence Segmentation\n",
    "print(\"Sentences\")\n",
    "print(\"==================\")\n",
    "for sent in model(tweet).sents:\n",
    "    print(sent)\n",
    "print(\"==================\")\n",
    "\n",
    "# line = \"Robert flew his Ferrari car in London before crashing it.\"\n",
    "line = \"We used the BERTBASE model pre-trained on English Wikipedia and BooksCorpus for 1M steps.\"\n",
    "\n",
    "#Lemmatization\n",
    "print(\"Lemmatizarion\")\n",
    "print(\"==================\")\n",
    "for token in model(line):\n",
    "    print(token, token.lemma_)\n",
    "print(\"==================\")\n",
    "\n",
    "#POS Tagging\n",
    "#https://spacy.io/api/annotation#pos-tagging\n",
    "print(\"POS - Tagging\")\n",
    "print(\"==================\")\n",
    "for token in model(line):\n",
    "    print(token, token.pos_, token.tag_)\n",
    "print(\"==================\")\n",
    "\n",
    "#Dependency Parse\n",
    "print(\"Dependency Parsing\")\n",
    "print(\"==================\")\n",
    "for token in model(line):\n",
    "    print(token, token.dep_)\n",
    "print(\"==================\")\n",
    "#Visualizartion in jupyter\n",
    "#displacy.serve(model(line), style=\"dep\")\n",
    "displacy.render(model(line), style=\"dep\",jupyter=True)\n",
    "\n",
    "#NER Tagging\n",
    "print(\"NER Tagging\")\n",
    "print(\"==================\")\n",
    "for ent in model(line).ents:\n",
    "    print(ent, ent.start, ent.end, ent.label_)\n",
    "print(\"==================\")\n",
    "#Visualizartion in jupyter\n",
    "#displacy.serve(model(line), style=\"ent\")\n",
    "displacy.render(model(line), style=\"ent\", jupyter=True)\n",
    "\n",
    "#Chunking :: Shallow Parsing\n",
    "#NER Tagging\n",
    "print(\"Chunking/Phrasing\")\n",
    "print(\"==================\")\n",
    "for chunk in model(line).noun_chunks:\n",
    "    print(chunk, chunk.label_)\n",
    "print(\"==================\")"
   ]
  },
  {
   "cell_type": "code",
   "execution_count": 8,
   "metadata": {},
   "outputs": [
    {
     "name": "stdout",
     "output_type": "stream",
     "text": [
      "Tokens\n",
      "==================\n",
      "['rock', 'beats', 'scissor', ',', '#rockwins', '.', 'scissor', 'cuts', 'paper', ',', '#scissorwins', '.', 'paper', 'covers', 'rock', ',', '#paperwins', '@babaakki25']\n",
      "['rock', 'beats', 'scissor', ',', '#', 'rockwins', '.', 'scissor', 'cuts', 'paper', ',', '#', 'scissorwins', '.', 'paper', 'covers', 'rock', ',', '#', 'paperwins', '@', 'babaakki25']\n",
      "==================\n",
      "Sentences\n",
      "==================\n",
      "rock beats scissor, #rockwins.\n",
      "scissor cuts paper, #scissorwins.\n",
      "paper covers rock, #paperwins @babaakki25\n",
      "==================\n",
      "N-grams\n",
      "==================\n",
      "Unigrams\n",
      "------------------\n",
      "[('rock',), ('beats',), ('scissor',), (',',), ('#rockwins',), ('.',), ('scissor',), ('cuts',), ('paper',), (',',), ('#scissorwins',), ('.',), ('paper',), ('covers',), ('rock',), (',',), ('#paperwins',), ('@babaakki25',)]\n",
      "Bigrams\n",
      "------------------\n",
      "[('rock', 'beats'), ('beats', 'scissor'), ('scissor', ','), (',', '#rockwins'), ('#rockwins', '.'), ('.', 'scissor'), ('scissor', 'cuts'), ('cuts', 'paper'), ('paper', ','), (',', '#scissorwins'), ('#scissorwins', '.'), ('.', 'paper'), ('paper', 'covers'), ('covers', 'rock'), ('rock', ','), (',', '#paperwins'), ('#paperwins', '@babaakki25')]\n",
      "Trigrams\n",
      "------------------\n",
      "[('rock', 'beats', 'scissor'), ('beats', 'scissor', ','), ('scissor', ',', '#rockwins'), (',', '#rockwins', '.'), ('#rockwins', '.', 'scissor'), ('.', 'scissor', 'cuts'), ('scissor', 'cuts', 'paper'), ('cuts', 'paper', ','), ('paper', ',', '#scissorwins'), (',', '#scissorwins', '.'), ('#scissorwins', '.', 'paper'), ('.', 'paper', 'covers'), ('paper', 'covers', 'rock'), ('covers', 'rock', ','), ('rock', ',', '#paperwins'), (',', '#paperwins', '@babaakki25')]\n",
      "==================\n"
     ]
    }
   ],
   "source": [
    "#Using NLTK\n",
    "from nltk.tokenize import TweetTokenizer, word_tokenize, sent_tokenize\n",
    "from nltk.util import ngrams\n",
    "\n",
    "#Tokenization\n",
    "print(\"Tokens\")\n",
    "print(\"==================\")\n",
    "tweetTokenizer = TweetTokenizer()\n",
    "print(tweetTokenizer.tokenize(tweet))\n",
    "print(word_tokenize(tweet))\n",
    "print(\"==================\")\n",
    "\n",
    "#Sentence Segmentation\n",
    "print(\"Sentences\")\n",
    "print(\"==================\")\n",
    "for sent in sent_tokenize(tweet):\n",
    "    print(sent)\n",
    "print(\"==================\")\n",
    "\n",
    "#N-grams\n",
    "print(\"N-grams\")\n",
    "print(\"==================\")\n",
    "print(\"Unigrams\")\n",
    "print(\"------------------\")\n",
    "print(list(ngrams(tweetTokenizer.tokenize(tweet), 1)))\n",
    "print(\"Bigrams\")\n",
    "print(\"------------------\")\n",
    "print(list(ngrams(tweetTokenizer.tokenize(tweet), 2)))\n",
    "print(\"Trigrams\")\n",
    "print(\"------------------\")\n",
    "print(list(ngrams(tweetTokenizer.tokenize(tweet), 3)))\n",
    "print(\"==================\")\n",
    "\n",
    "##Lemmatization and Stemmig\n",
    "\n",
    "##POS Tagging\n",
    "\n",
    "##Chunking and Phrasing and Shallow parse tree generation\n",
    "\n",
    "##Dependency Parsing\n",
    "\n",
    "##NER\n",
    "\n",
    "#Wordnet alingment for word senses and synonyms"
   ]
  },
  {
   "cell_type": "code",
   "execution_count": 9,
   "metadata": {},
   "outputs": [],
   "source": [
    "#n-grams\n",
    "def generate_ngrams(text, n):\n",
    "    \"\"\"\n",
    "        N-grams are fixed length (N) consecutive tokens\n",
    "    \"\"\"\n",
    "    return [text[i:i+n] for i in range(len(text)-n+1)]"
   ]
  },
  {
   "cell_type": "code",
   "execution_count": 10,
   "metadata": {},
   "outputs": [
    {
     "name": "stdout",
     "output_type": "stream",
     "text": [
      "[[rock], [beats], [scissor], [,], [#], [rockwins], [.], [scissor], [cuts], [paper], [,], [#], [scissorwins], [.], [paper], [covers], [rock], [,], [#], [paperwins], [@babaakki25]]\n"
     ]
    }
   ],
   "source": [
    "#Unigram\n",
    "print(generate_ngrams([token for token in model(tweet)], 1))"
   ]
  },
  {
   "cell_type": "code",
   "execution_count": 11,
   "metadata": {},
   "outputs": [
    {
     "name": "stdout",
     "output_type": "stream",
     "text": [
      "[[rock, beats], [beats, scissor], [scissor, ,], [,, #], [#, rockwins], [rockwins, .], [., scissor], [scissor, cuts], [cuts, paper], [paper, ,], [,, #], [#, scissorwins], [scissorwins, .], [., paper], [paper, covers], [covers, rock], [rock, ,], [,, #], [#, paperwins], [paperwins, @babaakki25]]\n"
     ]
    }
   ],
   "source": [
    "#Bigram\n",
    "print(generate_ngrams([token for token in model(tweet)], 2))"
   ]
  },
  {
   "cell_type": "code",
   "execution_count": 12,
   "metadata": {},
   "outputs": [
    {
     "name": "stdout",
     "output_type": "stream",
     "text": [
      "[[rock, beats, scissor], [beats, scissor, ,], [scissor, ,, #], [,, #, rockwins], [#, rockwins, .], [rockwins, ., scissor], [., scissor, cuts], [scissor, cuts, paper], [cuts, paper, ,], [paper, ,, #], [,, #, scissorwins], [#, scissorwins, .], [scissorwins, ., paper], [., paper, covers], [paper, covers, rock], [covers, rock, ,], [rock, ,, #], [,, #, paperwins], [#, paperwins, @babaakki25]]\n"
     ]
    }
   ],
   "source": [
    "#Trigram\n",
    "print(generate_ngrams([token for token in model(tweet)], 3))"
   ]
  },
  {
   "cell_type": "code",
   "execution_count": null,
   "metadata": {},
   "outputs": [],
   "source": []
  },
  {
   "cell_type": "code",
   "execution_count": 4,
   "metadata": {},
   "outputs": [],
   "source": [
    "corpus = 'Who ❤️ \"word embeddings\" in 2020? I do!!!'"
   ]
  },
  {
   "cell_type": "code",
   "execution_count": null,
   "metadata": {},
   "outputs": [],
   "source": []
  }
 ],
 "metadata": {
  "kernelspec": {
   "display_name": "Python 3 (ipykernel)",
   "language": "python",
   "name": "python3"
  },
  "language_info": {
   "codemirror_mode": {
    "name": "ipython",
    "version": 3
   },
   "file_extension": ".py",
   "mimetype": "text/x-python",
   "name": "python",
   "nbconvert_exporter": "python",
   "pygments_lexer": "ipython3",
   "version": "3.10.12"
  }
 },
 "nbformat": 4,
 "nbformat_minor": 4
}
