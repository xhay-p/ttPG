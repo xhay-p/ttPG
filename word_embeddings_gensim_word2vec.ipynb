{
 "cells": [
  {
   "cell_type": "markdown",
   "metadata": {},
   "source": [
    "## Downloading the Dataset"
   ]
  },
  {
   "cell_type": "code",
   "execution_count": 1,
   "metadata": {},
   "outputs": [
    {
     "name": "stdout",
     "output_type": "stream",
     "text": [
      "--2021-02-01 12:09:59--  https://www.dropbox.com/s/obaitrix9jyu84r/quora.txt?dl=1\n",
      "Resolving www.dropbox.com (www.dropbox.com)... 162.125.64.18, 2620:100:6031:18::a27d:5112\n",
      "Connecting to www.dropbox.com (www.dropbox.com)|162.125.64.18|:443... connected.\n",
      "HTTP request sent, awaiting response... 301 Moved Permanently\n",
      "Location: /s/dl/obaitrix9jyu84r/quora.txt [following]\n",
      "--2021-02-01 12:10:00--  https://www.dropbox.com/s/dl/obaitrix9jyu84r/quora.txt\n",
      "Reusing existing connection to www.dropbox.com:443.\n",
      "HTTP request sent, awaiting response... 302 Found\n",
      "Location: https://uc01e1bf8c4067832692ff1b75a3.dl.dropboxusercontent.com/cd/0/get/BIFrdUrI7Hj8DThVykVCcG4aBJ8Ge8PAOlRxgi82sM-DD7Y_E9NOyGkAZhWgx2mrLYl4ztDHusnpKtbT0ZL4T0Z84JRFgCV96o0mZG3k0Zd7Tg/file?dl=1# [following]\n",
      "--2021-02-01 12:10:01--  https://uc01e1bf8c4067832692ff1b75a3.dl.dropboxusercontent.com/cd/0/get/BIFrdUrI7Hj8DThVykVCcG4aBJ8Ge8PAOlRxgi82sM-DD7Y_E9NOyGkAZhWgx2mrLYl4ztDHusnpKtbT0ZL4T0Z84JRFgCV96o0mZG3k0Zd7Tg/file?dl=1\n",
      "Resolving uc01e1bf8c4067832692ff1b75a3.dl.dropboxusercontent.com (uc01e1bf8c4067832692ff1b75a3.dl.dropboxusercontent.com)... 162.125.64.15, 2620:100:6031:15::a27d:510f\n",
      "Connecting to uc01e1bf8c4067832692ff1b75a3.dl.dropboxusercontent.com (uc01e1bf8c4067832692ff1b75a3.dl.dropboxusercontent.com)|162.125.64.15|:443... connected.\n",
      "HTTP request sent, awaiting response... 200 OK\n",
      "Length: 33813903 (32M) [application/binary]\n",
      "Saving to: ‘./quora.txt’\n",
      "\n",
      "./quora.txt         100%[===================>]  32.25M  9.16MB/s    in 4.3s    \n",
      "\n",
      "2021-02-01 12:10:06 (7.43 MB/s) - ‘./quora.txt’ saved [33813903/33813903]\n",
      "\n"
     ]
    }
   ],
   "source": [
    "!wget https://www.dropbox.com/s/obaitrix9jyu84r/quora.txt?dl=1 -O ./../../data/quora.txt"
   ]
  },
  {
   "cell_type": "code",
   "execution_count": 65,
   "metadata": {},
   "outputs": [
    {
     "data": {
      "text/plain": [
       "'Will Windows run well enough to use Excel and Outlook in a VM on the new 2015 MacBook?\\n'"
      ]
     },
     "execution_count": 65,
     "metadata": {},
     "output_type": "execute_result"
    }
   ],
   "source": [
    "import numpy as np\n",
    "\n",
    "data = list(open(\"./quora.txt\", encoding=\"utf-8\"))\n",
    "data[25]"
   ]
  },
  {
   "cell_type": "markdown",
   "metadata": {},
   "source": [
    "## Dataset Preprocessing"
   ]
  },
  {
   "cell_type": "markdown",
   "metadata": {},
   "source": [
    "### Tokenization and Lower-casing"
   ]
  },
  {
   "cell_type": "code",
   "execution_count": 66,
   "metadata": {},
   "outputs": [
    {
     "data": {
      "text/plain": [
       "['will',\n",
       " 'windows',\n",
       " 'run',\n",
       " 'well',\n",
       " 'enough',\n",
       " 'to',\n",
       " 'use',\n",
       " 'excel',\n",
       " 'and',\n",
       " 'outlook',\n",
       " 'in',\n",
       " 'a',\n",
       " 'vm',\n",
       " 'on',\n",
       " 'the',\n",
       " 'new',\n",
       " '2015',\n",
       " 'macbook',\n",
       " '?']"
      ]
     },
     "execution_count": 66,
     "metadata": {},
     "output_type": "execute_result"
    }
   ],
   "source": [
    "from nltk.tokenize import WordPunctTokenizer\n",
    "\n",
    "tokenizer = WordPunctTokenizer()\n",
    "\n",
    "data_tok = [tokenizer.tokenize(line.lower()) for line in data]\n",
    "data_tok[25]"
   ]
  },
  {
   "cell_type": "markdown",
   "metadata": {},
   "source": [
    "## Word Embeddings"
   ]
  },
  {
   "cell_type": "markdown",
   "metadata": {},
   "source": [
    "### Training a Word2Vec model"
   ]
  },
  {
   "cell_type": "code",
   "execution_count": 68,
   "metadata": {},
   "outputs": [],
   "source": [
    "from gensim.models import Word2Vec\n",
    "\n",
    "model = Word2Vec(data_tok,\n",
    "                size=50,\n",
    "                window=5,\n",
    "                min_count=5).wv"
   ]
  },
  {
   "cell_type": "markdown",
   "metadata": {},
   "source": [
    "#### Fetching word vector"
   ]
  },
  {
   "cell_type": "code",
   "execution_count": 69,
   "metadata": {},
   "outputs": [
    {
     "data": {
      "text/plain": [
       "array([ 0.7385393 ,  0.63008845,  0.77939546,  1.4554639 , -3.1996126 ,\n",
       "        2.0371144 ,  0.03636565,  0.23144506,  1.5959564 ,  0.22834463,\n",
       "       -0.62894785,  0.61704826, -0.46078905, -0.0538972 , -0.94687885,\n",
       "       -1.4508221 , -1.0214924 , -0.78742516, -1.816266  ,  1.0934535 ,\n",
       "        2.9447496 , -0.2534724 ,  0.12067267,  0.88463753,  1.669909  ,\n",
       "       -0.4169887 , -0.60448426,  0.19963191, -0.45109794,  1.0248686 ,\n",
       "        0.28451452,  0.509868  ,  2.1150348 ,  0.00464265,  0.47768047,\n",
       "       -2.369642  , -0.43056014, -0.15063794,  0.22011667,  0.2568941 ,\n",
       "       -0.64014983,  1.1725929 ,  1.5738049 , -0.9799925 ,  0.29579413,\n",
       "       -2.3261747 ,  1.1361938 ,  1.4870391 , -1.6521168 , -0.47875366],\n",
       "      dtype=float32)"
      ]
     },
     "execution_count": 69,
     "metadata": {},
     "output_type": "execute_result"
    }
   ],
   "source": [
    "model.get_vector('summer')"
   ]
  },
  {
   "cell_type": "markdown",
   "metadata": {},
   "source": [
    "### Loading a Pre-trained model"
   ]
  },
  {
   "cell_type": "code",
   "execution_count": 76,
   "metadata": {},
   "outputs": [
    {
     "name": "stdout",
     "output_type": "stream",
     "text": [
      "['fasttext-wiki-news-subwords-300', 'conceptnet-numberbatch-17-06-300', 'word2vec-ruscorpora-300', 'word2vec-google-news-300', 'glove-wiki-gigaword-50', 'glove-wiki-gigaword-100', 'glove-wiki-gigaword-200', 'glove-wiki-gigaword-300', 'glove-twitter-25', 'glove-twitter-50', 'glove-twitter-100', 'glove-twitter-200', '__testing_word2vec-matrix-synopsis']\n"
     ]
    }
   ],
   "source": [
    "import gensim.downloader as api\n",
    "\n",
    "#Fetching list of all available pre-trained model on gensim\n",
    "print(list(api.info()['models'].keys()))"
   ]
  },
  {
   "cell_type": "code",
   "execution_count": 77,
   "metadata": {},
   "outputs": [],
   "source": [
    "model = api.load('glove-twitter-100')"
   ]
  },
  {
   "cell_type": "code",
   "execution_count": 78,
   "metadata": {},
   "outputs": [
    {
     "data": {
      "text/plain": [
       "array([-0.89576  , -0.92183  ,  0.14913  , -0.25121  ,  0.10397  ,\n",
       "        0.46965  ,  0.70299  , -0.39807  , -0.65015  , -0.20826  ,\n",
       "       -0.2851   , -0.11455  , -3.5304   ,  0.37717  , -0.11199  ,\n",
       "       -0.019414 , -0.4496   ,  0.42657  , -0.39661  ,  0.13738  ,\n",
       "       -0.50071  , -0.10388  ,  0.23345  , -0.21111  ,  0.25814  ,\n",
       "       -0.14755  , -0.057121 , -0.48793  ,  0.28059  , -0.73449  ,\n",
       "       -1.1377   ,  0.084311 , -0.31729  , -0.085831 , -0.052985 ,\n",
       "        0.62416  ,  0.26254  ,  0.27203  ,  0.17596  ,  0.54661  ,\n",
       "       -0.94407  , -0.020613 ,  0.62208  , -0.24703  ,  0.10993  ,\n",
       "        0.61814  ,  0.027522 , -0.17343  , -0.70895  ,  0.34309  ,\n",
       "        0.028017 ,  0.020393 ,  0.37327  ,  0.29174  ,  0.044602 ,\n",
       "        0.016544 ,  0.37339  , -0.11816  ,  0.27341  , -0.46893  ,\n",
       "       -0.25912  ,  0.10473  , -0.52668  , -0.71805  , -0.18869  ,\n",
       "       -0.42315  , -0.26882  , -0.15147  ,  0.32614  , -0.36439  ,\n",
       "        0.18147  , -0.0058194,  0.85306  ,  0.41213  ,  0.18514  ,\n",
       "       -0.07997  , -0.2009   ,  0.10362  ,  0.31519  , -0.1401   ,\n",
       "        2.6916   , -1.3852   ,  0.049881 , -0.43842  ,  0.51403  ,\n",
       "        0.48505  ,  0.11895  ,  0.51707  ,  0.064465 , -0.3      ,\n",
       "       -0.088176 ,  0.74324  ,  0.010214 , -0.30035  , -0.22405  ,\n",
       "       -0.19533  ,  0.129    ,  0.80123  , -0.26657  , -0.39858  ],\n",
       "      dtype=float32)"
      ]
     },
     "execution_count": 78,
     "metadata": {},
     "output_type": "execute_result"
    }
   ],
   "source": [
    "model.get_vector('summer')"
   ]
  },
  {
   "cell_type": "markdown",
   "metadata": {},
   "source": [
    "#### Fetching most similar words"
   ]
  },
  {
   "cell_type": "code",
   "execution_count": 79,
   "metadata": {},
   "outputs": [
    {
     "data": {
      "text/plain": [
       "[('eat', 0.8108313083648682),\n",
       " ('breakfast', 0.7947741150856018),\n",
       " ('eating', 0.7805092930793762),\n",
       " ('lunch', 0.776797890663147),\n",
       " ('dinner', 0.7663010954856873),\n",
       " ('foods', 0.7606096267700195),\n",
       " ('coffee', 0.7571052312850952),\n",
       " ('meal', 0.7550615668296814),\n",
       " ('meat', 0.7423633337020874),\n",
       " ('cooking', 0.7363327741622925)]"
      ]
     },
     "execution_count": 79,
     "metadata": {},
     "output_type": "execute_result"
    }
   ],
   "source": [
    "model.most_similar('food')"
   ]
  },
  {
   "cell_type": "markdown",
   "metadata": {},
   "source": [
    "#### Similarities between two words"
   ]
  },
  {
   "cell_type": "code",
   "execution_count": 80,
   "metadata": {},
   "outputs": [
    {
     "data": {
      "text/plain": [
       "0.78086126"
      ]
     },
     "execution_count": 80,
     "metadata": {},
     "output_type": "execute_result"
    }
   ],
   "source": [
    "model.similarity('pizza', 'pasta')"
   ]
  },
  {
   "cell_type": "markdown",
   "metadata": {},
   "source": [
    "#### odd one out"
   ]
  },
  {
   "cell_type": "code",
   "execution_count": 81,
   "metadata": {},
   "outputs": [
    {
     "data": {
      "text/plain": [
       "'apple'"
      ]
     },
     "execution_count": 81,
     "metadata": {},
     "output_type": "execute_result"
    }
   ],
   "source": [
    "model.doesnt_match(['burger', 'noodles', 'pizza', 'pasta', 'apple'])"
   ]
  },
  {
   "cell_type": "markdown",
   "metadata": {},
   "source": [
    "### Analogies"
   ]
  },
  {
   "cell_type": "code",
   "execution_count": 82,
   "metadata": {},
   "outputs": [
    {
     "data": {
      "text/plain": [
       "[('prince', 0.6462740898132324),\n",
       " ('royal', 0.5924025774002075),\n",
       " ('aka', 0.5809680223464966)]"
      ]
     },
     "execution_count": 82,
     "metadata": {},
     "output_type": "execute_result"
    }
   ],
   "source": [
    "model.most_similar(positive=['king', 'queen'], negative=['woman'], topn=3)"
   ]
  },
  {
   "cell_type": "code",
   "execution_count": 83,
   "metadata": {},
   "outputs": [
    {
     "data": {
      "text/plain": [
       "[('boat', 0.7703709006309509),\n",
       " ('helicopter', 0.7153111696243286),\n",
       " ('flight', 0.7139747142791748),\n",
       " ('jet', 0.6905894875526428),\n",
       " ('truck', 0.6806634068489075),\n",
       " ('crash', 0.6783006191253662),\n",
       " ('airplane', 0.6663592457771301),\n",
       " ('cruise', 0.650026798248291),\n",
       " ('aircraft', 0.6479072570800781),\n",
       " ('crashed', 0.6444786787033081)]"
      ]
     },
     "execution_count": 83,
     "metadata": {},
     "output_type": "execute_result"
    }
   ],
   "source": [
    "model.most_similar(positive=['car', 'plane', 'ship'], negative=['person'])"
   ]
  },
  {
   "cell_type": "markdown",
   "metadata": {},
   "source": [
    "## Visualising Word Vectors"
   ]
  },
  {
   "cell_type": "code",
   "execution_count": 84,
   "metadata": {},
   "outputs": [
    {
     "data": {
      "text/plain": [
       "['<user>',\n",
       " 'o',\n",
       " '_',\n",
       " '>>',\n",
       " 'please',\n",
       " 'itu',\n",
       " 'apa',\n",
       " 'their',\n",
       " 'justin',\n",
       " 'same',\n",
       " 'text',\n",
       " 'already',\n",
       " 'hari',\n",
       " 'head',\n",
       " 'playing',\n",
       " 'yet',\n",
       " 'once',\n",
       " 'sexy',\n",
       " 'sei',\n",
       " 'fast']"
      ]
     },
     "execution_count": 84,
     "metadata": {},
     "output_type": "execute_result"
    }
   ],
   "source": [
    "# 1000 Words with highest frequency\n",
    "words = sorted(model.vocab.keys(),\n",
    "               key = lambda word:model.vocab[word].count,\n",
    "               reverse = True)[:1000]\n",
    "\n",
    "words[:2500:50]"
   ]
  },
  {
   "cell_type": "code",
   "execution_count": 85,
   "metadata": {},
   "outputs": [],
   "source": [
    "word_vectors = np.array([model.get_vector(word) for word in words])"
   ]
  },
  {
   "cell_type": "markdown",
   "metadata": {},
   "source": [
    "### Principal Component Analysis (PCA)\n",
    "\n",
    "PCA tries to find axes along which most of the variance occurs."
   ]
  },
  {
   "cell_type": "code",
   "execution_count": 87,
   "metadata": {},
   "outputs": [
    {
     "data": {
      "text/html": [
       "\n",
       "    <div class=\"bk-root\">\n",
       "        <a href=\"https://bokeh.org\" target=\"_blank\" class=\"bk-logo bk-logo-small bk-logo-notebook\"></a>\n",
       "        <span id=\"1320\">Loading BokehJS ...</span>\n",
       "    </div>"
      ]
     },
     "metadata": {},
     "output_type": "display_data"
    },
    {
     "data": {
      "application/javascript": [
       "\n",
       "(function(root) {\n",
       "  function now() {\n",
       "    return new Date();\n",
       "  }\n",
       "\n",
       "  var force = true;\n",
       "\n",
       "  if (typeof root._bokeh_onload_callbacks === \"undefined\" || force === true) {\n",
       "    root._bokeh_onload_callbacks = [];\n",
       "    root._bokeh_is_loading = undefined;\n",
       "  }\n",
       "\n",
       "  var JS_MIME_TYPE = 'application/javascript';\n",
       "  var HTML_MIME_TYPE = 'text/html';\n",
       "  var EXEC_MIME_TYPE = 'application/vnd.bokehjs_exec.v0+json';\n",
       "  var CLASS_NAME = 'output_bokeh rendered_html';\n",
       "\n",
       "  /**\n",
       "   * Render data to the DOM node\n",
       "   */\n",
       "  function render(props, node) {\n",
       "    var script = document.createElement(\"script\");\n",
       "    node.appendChild(script);\n",
       "  }\n",
       "\n",
       "  /**\n",
       "   * Handle when an output is cleared or removed\n",
       "   */\n",
       "  function handleClearOutput(event, handle) {\n",
       "    var cell = handle.cell;\n",
       "\n",
       "    var id = cell.output_area._bokeh_element_id;\n",
       "    var server_id = cell.output_area._bokeh_server_id;\n",
       "    // Clean up Bokeh references\n",
       "    if (id != null && id in Bokeh.index) {\n",
       "      Bokeh.index[id].model.document.clear();\n",
       "      delete Bokeh.index[id];\n",
       "    }\n",
       "\n",
       "    if (server_id !== undefined) {\n",
       "      // Clean up Bokeh references\n",
       "      var cmd = \"from bokeh.io.state import curstate; print(curstate().uuid_to_server['\" + server_id + \"'].get_sessions()[0].document.roots[0]._id)\";\n",
       "      cell.notebook.kernel.execute(cmd, {\n",
       "        iopub: {\n",
       "          output: function(msg) {\n",
       "            var id = msg.content.text.trim();\n",
       "            if (id in Bokeh.index) {\n",
       "              Bokeh.index[id].model.document.clear();\n",
       "              delete Bokeh.index[id];\n",
       "            }\n",
       "          }\n",
       "        }\n",
       "      });\n",
       "      // Destroy server and session\n",
       "      var cmd = \"import bokeh.io.notebook as ion; ion.destroy_server('\" + server_id + \"')\";\n",
       "      cell.notebook.kernel.execute(cmd);\n",
       "    }\n",
       "  }\n",
       "\n",
       "  /**\n",
       "   * Handle when a new output is added\n",
       "   */\n",
       "  function handleAddOutput(event, handle) {\n",
       "    var output_area = handle.output_area;\n",
       "    var output = handle.output;\n",
       "\n",
       "    // limit handleAddOutput to display_data with EXEC_MIME_TYPE content only\n",
       "    if ((output.output_type != \"display_data\") || (!output.data.hasOwnProperty(EXEC_MIME_TYPE))) {\n",
       "      return\n",
       "    }\n",
       "\n",
       "    var toinsert = output_area.element.find(\".\" + CLASS_NAME.split(' ')[0]);\n",
       "\n",
       "    if (output.metadata[EXEC_MIME_TYPE][\"id\"] !== undefined) {\n",
       "      toinsert[toinsert.length - 1].firstChild.textContent = output.data[JS_MIME_TYPE];\n",
       "      // store reference to embed id on output_area\n",
       "      output_area._bokeh_element_id = output.metadata[EXEC_MIME_TYPE][\"id\"];\n",
       "    }\n",
       "    if (output.metadata[EXEC_MIME_TYPE][\"server_id\"] !== undefined) {\n",
       "      var bk_div = document.createElement(\"div\");\n",
       "      bk_div.innerHTML = output.data[HTML_MIME_TYPE];\n",
       "      var script_attrs = bk_div.children[0].attributes;\n",
       "      for (var i = 0; i < script_attrs.length; i++) {\n",
       "        toinsert[toinsert.length - 1].firstChild.setAttribute(script_attrs[i].name, script_attrs[i].value);\n",
       "        toinsert[toinsert.length - 1].firstChild.textContent = bk_div.children[0].textContent\n",
       "      }\n",
       "      // store reference to server id on output_area\n",
       "      output_area._bokeh_server_id = output.metadata[EXEC_MIME_TYPE][\"server_id\"];\n",
       "    }\n",
       "  }\n",
       "\n",
       "  function register_renderer(events, OutputArea) {\n",
       "\n",
       "    function append_mime(data, metadata, element) {\n",
       "      // create a DOM node to render to\n",
       "      var toinsert = this.create_output_subarea(\n",
       "        metadata,\n",
       "        CLASS_NAME,\n",
       "        EXEC_MIME_TYPE\n",
       "      );\n",
       "      this.keyboard_manager.register_events(toinsert);\n",
       "      // Render to node\n",
       "      var props = {data: data, metadata: metadata[EXEC_MIME_TYPE]};\n",
       "      render(props, toinsert[toinsert.length - 1]);\n",
       "      element.append(toinsert);\n",
       "      return toinsert\n",
       "    }\n",
       "\n",
       "    /* Handle when an output is cleared or removed */\n",
       "    events.on('clear_output.CodeCell', handleClearOutput);\n",
       "    events.on('delete.Cell', handleClearOutput);\n",
       "\n",
       "    /* Handle when a new output is added */\n",
       "    events.on('output_added.OutputArea', handleAddOutput);\n",
       "\n",
       "    /**\n",
       "     * Register the mime type and append_mime function with output_area\n",
       "     */\n",
       "    OutputArea.prototype.register_mime_type(EXEC_MIME_TYPE, append_mime, {\n",
       "      /* Is output safe? */\n",
       "      safe: true,\n",
       "      /* Index of renderer in `output_area.display_order` */\n",
       "      index: 0\n",
       "    });\n",
       "  }\n",
       "\n",
       "  // register the mime type if in Jupyter Notebook environment and previously unregistered\n",
       "  if (root.Jupyter !== undefined) {\n",
       "    var events = require('base/js/events');\n",
       "    var OutputArea = require('notebook/js/outputarea').OutputArea;\n",
       "\n",
       "    if (OutputArea.prototype.mime_types().indexOf(EXEC_MIME_TYPE) == -1) {\n",
       "      register_renderer(events, OutputArea);\n",
       "    }\n",
       "  }\n",
       "\n",
       "  \n",
       "  if (typeof (root._bokeh_timeout) === \"undefined\" || force === true) {\n",
       "    root._bokeh_timeout = Date.now() + 5000;\n",
       "    root._bokeh_failed_load = false;\n",
       "  }\n",
       "\n",
       "  var NB_LOAD_WARNING = {'data': {'text/html':\n",
       "     \"<div style='background-color: #fdd'>\\n\"+\n",
       "     \"<p>\\n\"+\n",
       "     \"BokehJS does not appear to have successfully loaded. If loading BokehJS from CDN, this \\n\"+\n",
       "     \"may be due to a slow or bad network connection. Possible fixes:\\n\"+\n",
       "     \"</p>\\n\"+\n",
       "     \"<ul>\\n\"+\n",
       "     \"<li>re-rerun `output_notebook()` to attempt to load from CDN again, or</li>\\n\"+\n",
       "     \"<li>use INLINE resources instead, as so:</li>\\n\"+\n",
       "     \"</ul>\\n\"+\n",
       "     \"<code>\\n\"+\n",
       "     \"from bokeh.resources import INLINE\\n\"+\n",
       "     \"output_notebook(resources=INLINE)\\n\"+\n",
       "     \"</code>\\n\"+\n",
       "     \"</div>\"}};\n",
       "\n",
       "  function display_loaded() {\n",
       "    var el = document.getElementById(\"1320\");\n",
       "    if (el != null) {\n",
       "      el.textContent = \"BokehJS is loading...\";\n",
       "    }\n",
       "    if (root.Bokeh !== undefined) {\n",
       "      if (el != null) {\n",
       "        el.textContent = \"BokehJS \" + root.Bokeh.version + \" successfully loaded.\";\n",
       "      }\n",
       "    } else if (Date.now() < root._bokeh_timeout) {\n",
       "      setTimeout(display_loaded, 100)\n",
       "    }\n",
       "  }\n",
       "\n",
       "\n",
       "  function run_callbacks() {\n",
       "    try {\n",
       "      root._bokeh_onload_callbacks.forEach(function(callback) {\n",
       "        if (callback != null)\n",
       "          callback();\n",
       "      });\n",
       "    } finally {\n",
       "      delete root._bokeh_onload_callbacks\n",
       "    }\n",
       "    console.debug(\"Bokeh: all callbacks have finished\");\n",
       "  }\n",
       "\n",
       "  function load_libs(css_urls, js_urls, callback) {\n",
       "    if (css_urls == null) css_urls = [];\n",
       "    if (js_urls == null) js_urls = [];\n",
       "\n",
       "    root._bokeh_onload_callbacks.push(callback);\n",
       "    if (root._bokeh_is_loading > 0) {\n",
       "      console.debug(\"Bokeh: BokehJS is being loaded, scheduling callback at\", now());\n",
       "      return null;\n",
       "    }\n",
       "    if (js_urls == null || js_urls.length === 0) {\n",
       "      run_callbacks();\n",
       "      return null;\n",
       "    }\n",
       "    console.debug(\"Bokeh: BokehJS not loaded, scheduling load and callback at\", now());\n",
       "    root._bokeh_is_loading = css_urls.length + js_urls.length;\n",
       "\n",
       "    function on_load() {\n",
       "      root._bokeh_is_loading--;\n",
       "      if (root._bokeh_is_loading === 0) {\n",
       "        console.debug(\"Bokeh: all BokehJS libraries/stylesheets loaded\");\n",
       "        run_callbacks()\n",
       "      }\n",
       "    }\n",
       "\n",
       "    function on_error() {\n",
       "      console.error(\"failed to load \" + url);\n",
       "    }\n",
       "\n",
       "    for (var i = 0; i < css_urls.length; i++) {\n",
       "      var url = css_urls[i];\n",
       "      const element = document.createElement(\"link\");\n",
       "      element.onload = on_load;\n",
       "      element.onerror = on_error;\n",
       "      element.rel = \"stylesheet\";\n",
       "      element.type = \"text/css\";\n",
       "      element.href = url;\n",
       "      console.debug(\"Bokeh: injecting link tag for BokehJS stylesheet: \", url);\n",
       "      document.body.appendChild(element);\n",
       "    }\n",
       "\n",
       "    const hashes = {\"https://cdn.bokeh.org/bokeh/release/bokeh-2.2.3.min.js\": \"T2yuo9Oe71Cz/I4X9Ac5+gpEa5a8PpJCDlqKYO0CfAuEszu1JrXLl8YugMqYe3sM\", \"https://cdn.bokeh.org/bokeh/release/bokeh-widgets-2.2.3.min.js\": \"98GDGJ0kOMCUMUePhksaQ/GYgB3+NH9h996V88sh3aOiUNX3N+fLXAtry6xctSZ6\", \"https://cdn.bokeh.org/bokeh/release/bokeh-tables-2.2.3.min.js\": \"89bArO+nlbP3sgakeHjCo1JYxYR5wufVgA3IbUvDY+K7w4zyxJqssu7wVnfeKCq8\"};\n",
       "\n",
       "    for (var i = 0; i < js_urls.length; i++) {\n",
       "      var url = js_urls[i];\n",
       "      var element = document.createElement('script');\n",
       "      element.onload = on_load;\n",
       "      element.onerror = on_error;\n",
       "      element.async = false;\n",
       "      element.src = url;\n",
       "      if (url in hashes) {\n",
       "        element.crossOrigin = \"anonymous\";\n",
       "        element.integrity = \"sha384-\" + hashes[url];\n",
       "      }\n",
       "      console.debug(\"Bokeh: injecting script tag for BokehJS library: \", url);\n",
       "      document.head.appendChild(element);\n",
       "    }\n",
       "  };\n",
       "\n",
       "  function inject_raw_css(css) {\n",
       "    const element = document.createElement(\"style\");\n",
       "    element.appendChild(document.createTextNode(css));\n",
       "    document.body.appendChild(element);\n",
       "  }\n",
       "\n",
       "  \n",
       "  var js_urls = [\"https://cdn.bokeh.org/bokeh/release/bokeh-2.2.3.min.js\", \"https://cdn.bokeh.org/bokeh/release/bokeh-widgets-2.2.3.min.js\", \"https://cdn.bokeh.org/bokeh/release/bokeh-tables-2.2.3.min.js\"];\n",
       "  var css_urls = [];\n",
       "  \n",
       "\n",
       "  var inline_js = [\n",
       "    function(Bokeh) {\n",
       "      Bokeh.set_log_level(\"info\");\n",
       "    },\n",
       "    function(Bokeh) {\n",
       "    \n",
       "    \n",
       "    }\n",
       "  ];\n",
       "\n",
       "  function run_inline_js() {\n",
       "    \n",
       "    if (root.Bokeh !== undefined || force === true) {\n",
       "      \n",
       "    for (var i = 0; i < inline_js.length; i++) {\n",
       "      inline_js[i].call(root, root.Bokeh);\n",
       "    }\n",
       "    if (force === true) {\n",
       "        display_loaded();\n",
       "      }} else if (Date.now() < root._bokeh_timeout) {\n",
       "      setTimeout(run_inline_js, 100);\n",
       "    } else if (!root._bokeh_failed_load) {\n",
       "      console.log(\"Bokeh: BokehJS failed to load within specified timeout.\");\n",
       "      root._bokeh_failed_load = true;\n",
       "    } else if (force !== true) {\n",
       "      var cell = $(document.getElementById(\"1320\")).parents('.cell').data().cell;\n",
       "      cell.output_area.append_execute_result(NB_LOAD_WARNING)\n",
       "    }\n",
       "\n",
       "  }\n",
       "\n",
       "  if (root._bokeh_is_loading === 0) {\n",
       "    console.debug(\"Bokeh: BokehJS loaded, going straight to plotting\");\n",
       "    run_inline_js();\n",
       "  } else {\n",
       "    load_libs(css_urls, js_urls, function() {\n",
       "      console.debug(\"Bokeh: BokehJS plotting callback run at\", now());\n",
       "      run_inline_js();\n",
       "    });\n",
       "  }\n",
       "}(window));"
      ],
      "application/vnd.bokehjs_load.v0+json": "\n(function(root) {\n  function now() {\n    return new Date();\n  }\n\n  var force = true;\n\n  if (typeof root._bokeh_onload_callbacks === \"undefined\" || force === true) {\n    root._bokeh_onload_callbacks = [];\n    root._bokeh_is_loading = undefined;\n  }\n\n  \n\n  \n  if (typeof (root._bokeh_timeout) === \"undefined\" || force === true) {\n    root._bokeh_timeout = Date.now() + 5000;\n    root._bokeh_failed_load = false;\n  }\n\n  var NB_LOAD_WARNING = {'data': {'text/html':\n     \"<div style='background-color: #fdd'>\\n\"+\n     \"<p>\\n\"+\n     \"BokehJS does not appear to have successfully loaded. If loading BokehJS from CDN, this \\n\"+\n     \"may be due to a slow or bad network connection. Possible fixes:\\n\"+\n     \"</p>\\n\"+\n     \"<ul>\\n\"+\n     \"<li>re-rerun `output_notebook()` to attempt to load from CDN again, or</li>\\n\"+\n     \"<li>use INLINE resources instead, as so:</li>\\n\"+\n     \"</ul>\\n\"+\n     \"<code>\\n\"+\n     \"from bokeh.resources import INLINE\\n\"+\n     \"output_notebook(resources=INLINE)\\n\"+\n     \"</code>\\n\"+\n     \"</div>\"}};\n\n  function display_loaded() {\n    var el = document.getElementById(\"1320\");\n    if (el != null) {\n      el.textContent = \"BokehJS is loading...\";\n    }\n    if (root.Bokeh !== undefined) {\n      if (el != null) {\n        el.textContent = \"BokehJS \" + root.Bokeh.version + \" successfully loaded.\";\n      }\n    } else if (Date.now() < root._bokeh_timeout) {\n      setTimeout(display_loaded, 100)\n    }\n  }\n\n\n  function run_callbacks() {\n    try {\n      root._bokeh_onload_callbacks.forEach(function(callback) {\n        if (callback != null)\n          callback();\n      });\n    } finally {\n      delete root._bokeh_onload_callbacks\n    }\n    console.debug(\"Bokeh: all callbacks have finished\");\n  }\n\n  function load_libs(css_urls, js_urls, callback) {\n    if (css_urls == null) css_urls = [];\n    if (js_urls == null) js_urls = [];\n\n    root._bokeh_onload_callbacks.push(callback);\n    if (root._bokeh_is_loading > 0) {\n      console.debug(\"Bokeh: BokehJS is being loaded, scheduling callback at\", now());\n      return null;\n    }\n    if (js_urls == null || js_urls.length === 0) {\n      run_callbacks();\n      return null;\n    }\n    console.debug(\"Bokeh: BokehJS not loaded, scheduling load and callback at\", now());\n    root._bokeh_is_loading = css_urls.length + js_urls.length;\n\n    function on_load() {\n      root._bokeh_is_loading--;\n      if (root._bokeh_is_loading === 0) {\n        console.debug(\"Bokeh: all BokehJS libraries/stylesheets loaded\");\n        run_callbacks()\n      }\n    }\n\n    function on_error() {\n      console.error(\"failed to load \" + url);\n    }\n\n    for (var i = 0; i < css_urls.length; i++) {\n      var url = css_urls[i];\n      const element = document.createElement(\"link\");\n      element.onload = on_load;\n      element.onerror = on_error;\n      element.rel = \"stylesheet\";\n      element.type = \"text/css\";\n      element.href = url;\n      console.debug(\"Bokeh: injecting link tag for BokehJS stylesheet: \", url);\n      document.body.appendChild(element);\n    }\n\n    const hashes = {\"https://cdn.bokeh.org/bokeh/release/bokeh-2.2.3.min.js\": \"T2yuo9Oe71Cz/I4X9Ac5+gpEa5a8PpJCDlqKYO0CfAuEszu1JrXLl8YugMqYe3sM\", \"https://cdn.bokeh.org/bokeh/release/bokeh-widgets-2.2.3.min.js\": \"98GDGJ0kOMCUMUePhksaQ/GYgB3+NH9h996V88sh3aOiUNX3N+fLXAtry6xctSZ6\", \"https://cdn.bokeh.org/bokeh/release/bokeh-tables-2.2.3.min.js\": \"89bArO+nlbP3sgakeHjCo1JYxYR5wufVgA3IbUvDY+K7w4zyxJqssu7wVnfeKCq8\"};\n\n    for (var i = 0; i < js_urls.length; i++) {\n      var url = js_urls[i];\n      var element = document.createElement('script');\n      element.onload = on_load;\n      element.onerror = on_error;\n      element.async = false;\n      element.src = url;\n      if (url in hashes) {\n        element.crossOrigin = \"anonymous\";\n        element.integrity = \"sha384-\" + hashes[url];\n      }\n      console.debug(\"Bokeh: injecting script tag for BokehJS library: \", url);\n      document.head.appendChild(element);\n    }\n  };\n\n  function inject_raw_css(css) {\n    const element = document.createElement(\"style\");\n    element.appendChild(document.createTextNode(css));\n    document.body.appendChild(element);\n  }\n\n  \n  var js_urls = [\"https://cdn.bokeh.org/bokeh/release/bokeh-2.2.3.min.js\", \"https://cdn.bokeh.org/bokeh/release/bokeh-widgets-2.2.3.min.js\", \"https://cdn.bokeh.org/bokeh/release/bokeh-tables-2.2.3.min.js\"];\n  var css_urls = [];\n  \n\n  var inline_js = [\n    function(Bokeh) {\n      Bokeh.set_log_level(\"info\");\n    },\n    function(Bokeh) {\n    \n    \n    }\n  ];\n\n  function run_inline_js() {\n    \n    if (root.Bokeh !== undefined || force === true) {\n      \n    for (var i = 0; i < inline_js.length; i++) {\n      inline_js[i].call(root, root.Bokeh);\n    }\n    if (force === true) {\n        display_loaded();\n      }} else if (Date.now() < root._bokeh_timeout) {\n      setTimeout(run_inline_js, 100);\n    } else if (!root._bokeh_failed_load) {\n      console.log(\"Bokeh: BokehJS failed to load within specified timeout.\");\n      root._bokeh_failed_load = true;\n    } else if (force !== true) {\n      var cell = $(document.getElementById(\"1320\")).parents('.cell').data().cell;\n      cell.output_area.append_execute_result(NB_LOAD_WARNING)\n    }\n\n  }\n\n  if (root._bokeh_is_loading === 0) {\n    console.debug(\"Bokeh: BokehJS loaded, going straight to plotting\");\n    run_inline_js();\n  } else {\n    load_libs(css_urls, js_urls, function() {\n      console.debug(\"Bokeh: BokehJS plotting callback run at\", now());\n      run_inline_js();\n    });\n  }\n}(window));"
     },
     "metadata": {},
     "output_type": "display_data"
    }
   ],
   "source": [
    "import bokeh.models as bm, bokeh.plotting as pl\n",
    "from bokeh.io import output_notebook\n",
    "output_notebook()\n",
    "\n",
    "def draw_vectors(x, y, radius=10, alpha=0.25, color='blue',\n",
    "                 width=600, height=400, show=True, **kwargs):\n",
    "    \"\"\" draws an interactive plot for data points with auxilirary info on hover \"\"\"\n",
    "    if isinstance(color, str): color = [color] * len(x)\n",
    "    data_source = bm.ColumnDataSource({ 'x' : x, 'y' : y, 'color': color, **kwargs })\n",
    "\n",
    "    fig = pl.figure(active_scroll='wheel_zoom', width=width, height=height)\n",
    "    fig.scatter('x', 'y', size=radius, color='color', alpha=alpha, source=data_source)\n",
    "\n",
    "    fig.add_tools(bm.HoverTool(tooltips=[(key, \"@\" + key) for key in kwargs.keys()]))\n",
    "    if show: pl.show(fig)\n",
    "    return fig"
   ]
  },
  {
   "cell_type": "code",
   "execution_count": 88,
   "metadata": {},
   "outputs": [],
   "source": [
    "from sklearn.decomposition import PCA\n",
    "\n",
    "pca = PCA(n_components=2)\n",
    "word_vectors_pca = pca.fit_transform(word_vectors)"
   ]
  },
  {
   "cell_type": "code",
   "execution_count": 89,
   "metadata": {},
   "outputs": [
    {
     "data": {
      "text/html": [
       "\n",
       "\n",
       "\n",
       "\n",
       "\n",
       "\n",
       "  <div class=\"bk-root\" id=\"93e81270-e1e1-4326-90bd-9588bec792d1\" data-root-id=\"1322\"></div>\n"
      ]
     },
     "metadata": {},
     "output_type": "display_data"
    },
    {
     "data": {
      "application/javascript": [
       "(function(root) {\n",
       "  function embed_document(root) {\n",
       "    \n",
       "  var docs_json = {\"04f7d527-2e68-4300-ab86-02ca0e6d8211\":{\"roots\":{\"references\":[{\"attributes\":{\"below\":[{\"id\":\"1331\"}],\"center\":[{\"id\":\"1334\"},{\"id\":\"1338\"}],\"left\":[{\"id\":\"1335\"}],\"plot_height\":400,\"renderers\":[{\"id\":\"1356\"}],\"title\":{\"id\":\"1387\"},\"toolbar\":{\"id\":\"1346\"},\"x_range\":{\"id\":\"1323\"},\"x_scale\":{\"id\":\"1327\"},\"y_range\":{\"id\":\"1325\"},\"y_scale\":{\"id\":\"1329\"}},\"id\":\"1322\",\"subtype\":\"Figure\",\"type\":\"Plot\"},{\"attributes\":{},\"id\":\"1340\",\"type\":\"WheelZoomTool\"},{\"attributes\":{},\"id\":\"1389\",\"type\":\"BasicTickFormatter\"},{\"attributes\":{},\"id\":\"1391\",\"type\":\"BasicTickFormatter\"},{\"attributes\":{\"source\":{\"id\":\"1321\"}},\"id\":\"1357\",\"type\":\"CDSView\"},{\"attributes\":{\"callback\":null,\"tooltips\":[[\"token\",\"@token\"]]},\"id\":\"1358\",\"type\":\"HoverTool\"},{\"attributes\":{\"active_drag\":\"auto\",\"active_inspect\":\"auto\",\"active_multi\":null,\"active_scroll\":{\"id\":\"1340\"},\"active_tap\":\"auto\",\"tools\":[{\"id\":\"1339\"},{\"id\":\"1340\"},{\"id\":\"1341\"},{\"id\":\"1342\"},{\"id\":\"1343\"},{\"id\":\"1344\"},{\"id\":\"1358\"}]},\"id\":\"1346\",\"type\":\"Toolbar\"},{\"attributes\":{},\"id\":\"1339\",\"type\":\"PanTool\"},{\"attributes\":{\"fill_alpha\":{\"value\":0.1},\"fill_color\":{\"field\":\"color\"},\"line_alpha\":{\"value\":0.1},\"line_color\":{\"field\":\"color\"},\"size\":{\"units\":\"screen\",\"value\":10},\"x\":{\"field\":\"x\"},\"y\":{\"field\":\"y\"}},\"id\":\"1355\",\"type\":\"Scatter\"},{\"attributes\":{\"overlay\":{\"id\":\"1345\"}},\"id\":\"1341\",\"type\":\"BoxZoomTool\"},{\"attributes\":{\"data\":{\"color\":[\"blue\",\"blue\",\"blue\",\"blue\",\"blue\",\"blue\",\"blue\",\"blue\",\"blue\",\"blue\",\"blue\",\"blue\",\"blue\",\"blue\",\"blue\",\"blue\",\"blue\",\"blue\",\"blue\",\"blue\",\"blue\",\"blue\",\"blue\",\"blue\",\"blue\",\"blue\",\"blue\",\"blue\",\"blue\",\"blue\",\"blue\",\"blue\",\"blue\",\"blue\",\"blue\",\"blue\",\"blue\",\"blue\",\"blue\",\"blue\",\"blue\",\"blue\",\"blue\",\"blue\",\"blue\",\"blue\",\"blue\",\"blue\",\"blue\",\"blue\",\"blue\",\"blue\",\"blue\",\"blue\",\"blue\",\"blue\",\"blue\",\"blue\",\"blue\",\"blue\",\"blue\",\"blue\",\"blue\",\"blue\",\"blue\",\"blue\",\"blue\",\"blue\",\"blue\",\"blue\",\"blue\",\"blue\",\"blue\",\"blue\",\"blue\",\"blue\",\"blue\",\"blue\",\"blue\",\"blue\",\"blue\",\"blue\",\"blue\",\"blue\",\"blue\",\"blue\",\"blue\",\"blue\",\"blue\",\"blue\",\"blue\",\"blue\",\"blue\",\"blue\",\"blue\",\"blue\",\"blue\",\"blue\",\"blue\",\"blue\",\"blue\",\"blue\",\"blue\",\"blue\",\"blue\",\"blue\",\"blue\",\"blue\",\"blue\",\"blue\",\"blue\",\"blue\",\"blue\",\"blue\",\"blue\",\"blue\",\"blue\",\"blue\",\"blue\",\"blue\",\"blue\",\"blue\",\"blue\",\"blue\",\"blue\",\"blue\",\"blue\",\"blue\",\"blue\",\"blue\",\"blue\",\"blue\",\"blue\",\"blue\",\"blue\",\"blue\",\"blue\",\"blue\",\"blue\",\"blue\",\"blue\",\"blue\",\"blue\",\"blue\",\"blue\",\"blue\",\"blue\",\"blue\",\"blue\",\"blue\",\"blue\",\"blue\",\"blue\",\"blue\",\"blue\",\"blue\",\"blue\",\"blue\",\"blue\",\"blue\",\"blue\",\"blue\",\"blue\",\"blue\",\"blue\",\"blue\",\"blue\",\"blue\",\"blue\",\"blue\",\"blue\",\"blue\",\"blue\",\"blue\",\"blue\",\"blue\",\"blue\",\"blue\",\"blue\",\"blue\",\"blue\",\"blue\",\"blue\",\"blue\",\"blue\",\"blue\",\"blue\",\"blue\",\"blue\",\"blue\",\"blue\",\"blue\",\"blue\",\"blue\",\"blue\",\"blue\",\"blue\",\"blue\",\"blue\",\"blue\",\"blue\",\"blue\",\"blue\",\"blue\",\"blue\",\"blue\",\"blue\",\"blue\",\"blue\",\"blue\",\"blue\",\"blue\",\"blue\",\"blue\",\"blue\",\"blue\",\"blue\",\"blue\",\"blue\",\"blue\",\"blue\",\"blue\",\"blue\",\"blue\",\"blue\",\"blue\",\"blue\",\"blue\",\"blue\",\"blue\",\"blue\",\"blue\",\"blue\",\"blue\",\"blue\",\"blue\",\"blue\",\"blue\",\"blue\",\"blue\",\"blue\",\"blue\",\"blue\",\"blue\",\"blue\",\"blue\",\"blue\",\"blue\",\"blue\",\"blue\",\"blue\",\"blue\",\"blue\",\"blue\",\"blue\",\"blue\",\"blue\",\"blue\",\"blue\",\"blue\",\"blue\",\"blue\",\"blue\",\"blue\",\"blue\",\"blue\",\"blue\",\"blue\",\"blue\",\"blue\",\"blue\",\"blue\",\"blue\",\"blue\",\"blue\",\"blue\",\"blue\",\"blue\",\"blue\",\"blue\",\"blue\",\"blue\",\"blue\",\"blue\",\"blue\",\"blue\",\"blue\",\"blue\",\"blue\",\"blue\",\"blue\",\"blue\",\"blue\",\"blue\",\"blue\",\"blue\",\"blue\",\"blue\",\"blue\",\"blue\",\"blue\",\"blue\",\"blue\",\"blue\",\"blue\",\"blue\",\"blue\",\"blue\",\"blue\",\"blue\",\"blue\",\"blue\",\"blue\",\"blue\",\"blue\",\"blue\",\"blue\",\"blue\",\"blue\",\"blue\",\"blue\",\"blue\",\"blue\",\"blue\",\"blue\",\"blue\",\"blue\",\"blue\",\"blue\",\"blue\",\"blue\",\"blue\",\"blue\",\"blue\",\"blue\",\"blue\",\"blue\",\"blue\",\"blue\",\"blue\",\"blue\",\"blue\",\"blue\",\"blue\",\"blue\",\"blue\",\"blue\",\"blue\",\"blue\",\"blue\",\"blue\",\"blue\",\"blue\",\"blue\",\"blue\",\"blue\",\"blue\",\"blue\",\"blue\",\"blue\",\"blue\",\"blue\",\"blue\",\"blue\",\"blue\",\"blue\",\"blue\",\"blue\",\"blue\",\"blue\",\"blue\",\"blue\",\"blue\",\"blue\",\"blue\",\"blue\",\"blue\",\"blue\",\"blue\",\"blue\",\"blue\",\"blue\",\"blue\",\"blue\",\"blue\",\"blue\",\"blue\",\"blue\",\"blue\",\"blue\",\"blue\",\"blue\",\"blue\",\"blue\",\"blue\",\"blue\",\"blue\",\"blue\",\"blue\",\"blue\",\"blue\",\"blue\",\"blue\",\"blue\",\"blue\",\"blue\",\"blue\",\"blue\",\"blue\",\"blue\",\"blue\",\"blue\",\"blue\",\"blue\",\"blue\",\"blue\",\"blue\",\"blue\",\"blue\",\"blue\",\"blue\",\"blue\",\"blue\",\"blue\",\"blue\",\"blue\",\"blue\",\"blue\",\"blue\",\"blue\",\"blue\",\"blue\",\"blue\",\"blue\",\"blue\",\"blue\",\"blue\",\"blue\",\"blue\",\"blue\",\"blue\",\"blue\",\"blue\",\"blue\",\"blue\",\"blue\",\"blue\",\"blue\",\"blue\",\"blue\",\"blue\",\"blue\",\"blue\",\"blue\",\"blue\",\"blue\",\"blue\",\"blue\",\"blue\",\"blue\",\"blue\",\"blue\",\"blue\",\"blue\",\"blue\",\"blue\",\"blue\",\"blue\",\"blue\",\"blue\",\"blue\",\"blue\",\"blue\",\"blue\",\"blue\",\"blue\",\"blue\",\"blue\",\"blue\",\"blue\",\"blue\",\"blue\",\"blue\",\"blue\",\"blue\",\"blue\",\"blue\",\"blue\",\"blue\",\"blue\",\"blue\",\"blue\",\"blue\",\"blue\",\"blue\",\"blue\",\"blue\",\"blue\",\"blue\",\"blue\",\"blue\",\"blue\",\"blue\",\"blue\",\"blue\",\"blue\",\"blue\",\"blue\",\"blue\",\"blue\",\"blue\",\"blue\",\"blue\",\"blue\",\"blue\",\"blue\",\"blue\",\"blue\",\"blue\",\"blue\",\"blue\",\"blue\",\"blue\",\"blue\",\"blue\",\"blue\",\"blue\",\"blue\",\"blue\",\"blue\",\"blue\",\"blue\",\"blue\",\"blue\",\"blue\",\"blue\",\"blue\",\"blue\",\"blue\",\"blue\",\"blue\",\"blue\",\"blue\",\"blue\",\"blue\",\"blue\",\"blue\",\"blue\",\"blue\",\"blue\",\"blue\",\"blue\",\"blue\",\"blue\",\"blue\",\"blue\",\"blue\",\"blue\",\"blue\",\"blue\",\"blue\",\"blue\",\"blue\",\"blue\",\"blue\",\"blue\",\"blue\",\"blue\",\"blue\",\"blue\",\"blue\",\"blue\",\"blue\",\"blue\",\"blue\",\"blue\",\"blue\",\"blue\",\"blue\",\"blue\",\"blue\",\"blue\",\"blue\",\"blue\",\"blue\",\"blue\",\"blue\",\"blue\",\"blue\",\"blue\",\"blue\",\"blue\",\"blue\",\"blue\",\"blue\",\"blue\",\"blue\",\"blue\",\"blue\",\"blue\",\"blue\",\"blue\",\"blue\",\"blue\",\"blue\",\"blue\",\"blue\",\"blue\",\"blue\",\"blue\",\"blue\",\"blue\",\"blue\",\"blue\",\"blue\",\"blue\",\"blue\",\"blue\",\"blue\",\"blue\",\"blue\",\"blue\",\"blue\",\"blue\",\"blue\",\"blue\",\"blue\",\"blue\",\"blue\",\"blue\",\"blue\",\"blue\",\"blue\",\"blue\",\"blue\",\"blue\",\"blue\",\"blue\",\"blue\",\"blue\",\"blue\",\"blue\",\"blue\",\"blue\",\"blue\",\"blue\",\"blue\",\"blue\",\"blue\",\"blue\",\"blue\",\"blue\",\"blue\",\"blue\",\"blue\",\"blue\",\"blue\",\"blue\",\"blue\",\"blue\",\"blue\",\"blue\",\"blue\",\"blue\",\"blue\",\"blue\",\"blue\",\"blue\",\"blue\",\"blue\",\"blue\",\"blue\",\"blue\",\"blue\",\"blue\",\"blue\",\"blue\",\"blue\",\"blue\",\"blue\",\"blue\",\"blue\",\"blue\",\"blue\",\"blue\",\"blue\",\"blue\",\"blue\",\"blue\",\"blue\",\"blue\",\"blue\",\"blue\",\"blue\",\"blue\",\"blue\",\"blue\",\"blue\",\"blue\",\"blue\",\"blue\",\"blue\",\"blue\",\"blue\",\"blue\",\"blue\",\"blue\",\"blue\",\"blue\",\"blue\",\"blue\",\"blue\",\"blue\",\"blue\",\"blue\",\"blue\",\"blue\",\"blue\",\"blue\",\"blue\",\"blue\",\"blue\",\"blue\",\"blue\",\"blue\",\"blue\",\"blue\",\"blue\",\"blue\",\"blue\",\"blue\",\"blue\",\"blue\",\"blue\",\"blue\",\"blue\",\"blue\",\"blue\",\"blue\",\"blue\",\"blue\",\"blue\",\"blue\",\"blue\",\"blue\",\"blue\",\"blue\",\"blue\",\"blue\",\"blue\",\"blue\",\"blue\",\"blue\",\"blue\",\"blue\",\"blue\",\"blue\",\"blue\",\"blue\",\"blue\",\"blue\",\"blue\",\"blue\",\"blue\",\"blue\",\"blue\",\"blue\",\"blue\",\"blue\",\"blue\",\"blue\",\"blue\",\"blue\",\"blue\",\"blue\",\"blue\",\"blue\",\"blue\",\"blue\",\"blue\",\"blue\",\"blue\",\"blue\",\"blue\",\"blue\",\"blue\",\"blue\",\"blue\",\"blue\",\"blue\",\"blue\",\"blue\",\"blue\",\"blue\",\"blue\",\"blue\",\"blue\",\"blue\",\"blue\",\"blue\",\"blue\",\"blue\",\"blue\",\"blue\",\"blue\",\"blue\",\"blue\",\"blue\",\"blue\",\"blue\",\"blue\",\"blue\",\"blue\",\"blue\",\"blue\",\"blue\",\"blue\",\"blue\",\"blue\",\"blue\",\"blue\",\"blue\",\"blue\",\"blue\",\"blue\",\"blue\",\"blue\",\"blue\",\"blue\",\"blue\",\"blue\",\"blue\",\"blue\",\"blue\",\"blue\",\"blue\",\"blue\",\"blue\",\"blue\",\"blue\",\"blue\",\"blue\",\"blue\",\"blue\",\"blue\",\"blue\",\"blue\",\"blue\",\"blue\",\"blue\",\"blue\",\"blue\",\"blue\",\"blue\",\"blue\",\"blue\",\"blue\",\"blue\",\"blue\",\"blue\",\"blue\",\"blue\",\"blue\",\"blue\",\"blue\",\"blue\",\"blue\",\"blue\",\"blue\",\"blue\",\"blue\",\"blue\",\"blue\",\"blue\",\"blue\",\"blue\",\"blue\",\"blue\",\"blue\",\"blue\",\"blue\",\"blue\",\"blue\",\"blue\",\"blue\",\"blue\",\"blue\",\"blue\",\"blue\",\"blue\",\"blue\",\"blue\",\"blue\",\"blue\",\"blue\",\"blue\",\"blue\",\"blue\",\"blue\",\"blue\",\"blue\",\"blue\",\"blue\",\"blue\",\"blue\",\"blue\",\"blue\",\"blue\",\"blue\",\"blue\",\"blue\",\"blue\",\"blue\",\"blue\",\"blue\",\"blue\",\"blue\",\"blue\",\"blue\",\"blue\",\"blue\",\"blue\",\"blue\",\"blue\",\"blue\",\"blue\",\"blue\",\"blue\",\"blue\",\"blue\",\"blue\",\"blue\",\"blue\",\"blue\",\"blue\",\"blue\",\"blue\",\"blue\",\"blue\",\"blue\",\"blue\",\"blue\",\"blue\",\"blue\",\"blue\",\"blue\",\"blue\",\"blue\",\"blue\",\"blue\",\"blue\",\"blue\",\"blue\",\"blue\",\"blue\",\"blue\",\"blue\",\"blue\",\"blue\",\"blue\",\"blue\",\"blue\",\"blue\",\"blue\",\"blue\",\"blue\",\"blue\",\"blue\",\"blue\",\"blue\",\"blue\",\"blue\",\"blue\",\"blue\",\"blue\",\"blue\",\"blue\",\"blue\",\"blue\",\"blue\",\"blue\",\"blue\",\"blue\",\"blue\",\"blue\",\"blue\",\"blue\",\"blue\",\"blue\",\"blue\",\"blue\",\"blue\",\"blue\",\"blue\",\"blue\",\"blue\",\"blue\",\"blue\",\"blue\",\"blue\"],\"token\":[\"<user>\",\".\",\":\",\"rt\",\",\",\"<repeat>\",\"<hashtag>\",\"<number>\",\"<url>\",\"!\",\"i\",\"a\",\"\\\"\",\"the\",\"?\",\"you\",\"to\",\"(\",\"<allcaps>\",\"<elong>\",\")\",\"me\",\"de\",\"<smile>\",\"\\uff01\",\"que\",\"and\",\"\\u3002\",\"-\",\"my\",\"no\",\"\\u3001\",\"is\",\"it\",\"\\u2026\",\"in\",\"n\",\"for\",\"/\",\"of\",\"la\",\"'s\",\"*\",\"do\",\"n't\",\"that\",\"on\",\"y\",\"'\",\"e\",\"o\",\"u\",\"en\",\"this\",\"el\",\"so\",\"be\",\"'m\",\"with\",\"just\",\">\",\"your\",\"^\",\"like\",\"have\",\"te\",\"at\",\"\\uff1f\",\"love\",\"se\",\"are\",\"<\",\"m\",\"r\",\"if\",\"all\",\"b\",\"\\u30fb\",\"not\",\"but\",\"we\",\"es\",\"ya\",\"&\",\"follow\",\"up\",\"what\",\"get\",\"lol\",\"un\",\"\\u2665\",\"lo\",\"when\",\"was\",\"\\u201c\",\"\\u201d\",\"one\",\"por\",\"si\",\"out\",\"_\",\"mi\",\"can\",\"<sadface>\",\"\\u0645\\u0646\",\"\\u2661\",\"\\u00b4\",\"he\",\"con\",\"they\",\"now\",\"go\",\"\\u060c\",\"para\",\"los\",\"know\",\"haha\",\"good\",\"tu\",\"back\",\"~\",\"about\",\"new\",\";\",\"as\",\"day\",\"how\",\"who\",\"will\",\"want\",\"people\",\"yo\",\"eu\",\"from\",\"di\",\"time\",\"<heart>\",\"s\",\"aku\",\"da\",\"'re\",\"<lolface>\",\"una\",\"got\",\"las\",\"more\",\"x\",\"she\",\"today\",\"\\uff08\",\">>\",\"k\",\"by\",\"or\",\"\\u0641\\u064a\",\"\\uff65\",\"too\",\"le\",\"\\u00e9\",\"|\",\"[\",\"\\uff09\",\"]\",\"see\",\"why\",\"yg\",\"ca\",\"como\",\"her\",\"\\u2014\",\"q\",\"need\",\"an\",\"na\",\"\\u7b11\",\"there\",\"\\u03c9\",\"happy\",\"im\",\"mas\",\"je\",\"life\",\"really\",\"make\",\"yang\",\"shit\",\"think\",\"t\",\"\\u2764\",\"n\\u00e3o\",\"never\",\"some\",\"\\uff5e\",\"oh\",\"\\u2605\",\"did\",\"would\",\"del\",\"`\",\"d\",\"please\",\"via\",\"much\",\"fuck\",\"al\",\"dia\",\"$\",\"\\u0648\",\"right\",\"best\",\"c\",\"going\",\"\\u0627\\u0644\\u0644\\u0647\",\"pero\",\"only\",\"has\",\"\\u266a\",\"'ll\",\"twitter\",\"=\",\"hahaha\",\"its\",\"nn\",\"\\uff40\",\"\\u00bf\",\"am\",\"say\",\"<neutralface>\",\"them\",\"here\",\"\\u0644\\u0627\",\"off\",\"still\",\"dan\",\"+\",\"night\",\"w\",\"ada\",\"someone\",\"even\",\"then\",\"\\u2606\",\"ni\",\"come\",\"com\",\"always\",\"man\",\"'ve\",\"been\",\"his\",\"itu\",\"\\u0639\\u0644\\u0649\",\"-_-\",\"\\u263a\",\"over\",\"um\",\"\\u0645\\u0627\",\"hate\",\"girl\",\"ai\",\"had\",\"pra\",\"todo\",\"mais\",\"feel\",\"let\",\"ini\",\"because\",\"\\uff9f\",\"thanks\",\"ah\",\"way\",\"ever\",\"look\",\"tweet\",\"followers\",\"should\",\"our\",\"xd\",\"aja\",\"esta\",\"school\",\"him\",\"ser\",\"take\",\"than\",\"video\",\"em\",\"last\",\"wanna\",\"does\",\"us\",\"miss\",\"l\",\"ga\",\"better\",\"well\",\"could\",\"\\u25bd\",\"%\",\"apa\",\"cuando\",\"team\",\"\\u2714\",\"@\",\"ok\",\"\\u061f\",\"\\u2022\",\"vida\",\"quiero\",\"les\",\"being\",\"real\",\"down\",\"kamu\",\"everyone\",\"gonna\",\"live\",\"tonight\",\"yes\",\"work\",\"ass\",\"retweet\",\"nada\",\"sama\",\"first\",\"<<\",\"photo\",\"tomorrow\",\"where\",\"god\",\"son\",\"ke\",\"ta\",\"f\",\"home\",\"lagi\",\"thank\",\"birthday\",\"\\u2588\",\"ha\",\"great\",\"lmao\",\"omg\",\"morning\",\"m\\u00e1s\",\"mau\",\"baby\",\"dont\",\"\\uff61\",\"their\",\"p\",\"things\",\"game\",\"pas\",\"bad\",\"year\",\"yeah\",\"su\",\"bitch\",\"\\u0432\",\"stop\",\"hoy\",\"something\",\"meu\",\"tak\",\"gak\",\"world\",\"amor\",\"h\",\"\\\\\",\"ver\",\"\\uff1b\",\"porque\",\"give\",\"these\",\"\\u0627\\u0644\\u0644\\u0647\\u0645\",\"were\",\"hay\",\"sleep\",\"gue\",\"every\",\"friends\",\"uma\",\"tell\",\"amo\",\"vou\",\"bien\",\"\\u00a1\",\"again\",\"\\uff3e\",\"\\uff0f\",\"done\",\"after\",\"todos\",\"girls\",\"guys\",\"getting\",\"big\",\"wait\",\"justin\",\"eh\",\"\\u2192\",\"kan\",\"kita\",\"jajaja\",\"wish\",\"said\",\"fucking\",\"show\",\"thing\",\"next\",\"voc\\u00ea\",\"nos\",\"little\",\"tengo\",\"keep\",\"person\",\"''\",\"\\u2200\",\"hope\",\"\\u0643\\u0644\",\"hey\",\"bisa\",\"free\",\"made\",\"foto\",\"va\",\"everything\",\"iya\",\"nigga\",\"eso\",\"et\",\"watch\",\"music\",\"week\",\"talk\",\"ne\",\"solo\",\"gente\",\"udah\",\"\\uff1a\",\"--\",\"\\uff3c\",\"mejor\",\"facebook\",\"ma\",\"v\",\"phone\",\"most\",\"same\",\"okay\",\"ik\",\"before\",\"minha\",\"days\",\"g\",\"ti\",\"damn\",\"nice\",\"voy\",\"vai\",\"call\",\"long\",\"tapi\",\"http\",\"sin\",\"nunca\",\"doing\",\"other\",\"find\",\"il\",\"sa\",\"sorry\",\"nya\",\"orang\",\"\\u00b0\",\"hard\",\"mean\",\"die\",\"\\u0627\\u0644\\u0644\\u064a\",\"tem\",\"soy\",\"este\",\"kalo\",\"s\\u00f3\",\"th\",\"win\",\"nothing\",\"into\",\"face\",\"cute\",\"'d\",\"gracias\",\"lah\",\"\\u0438\",\"any\",\"play\",\"\\u2190\",\"ko\",\"text\",\"\\u2323\",\"estoy\",\"tau\",\"ur\",\"buat\",\"#\",\"cause\",\"\\u044f\",\"put\",\"kau\",\"siempre\",\"juga\",\"casa\",\"\\u0623\\u0646\",\"help\",\"start\",\"feliz\",\"old\",\"ir\",\"very\",\"care\",\"bir\",\"makes\",\"song\",\"check\",\"watching\",\"ahora\",\"jadi\",\"os\",\"may\",\"friend\",\"beautiful\",\"heart\",\"ka\",\"vc\",\"mundo\",\"\\u043d\\u0430\",\"sure\",\"tan\",\"pretty\",\"aqui\",\"\\u043d\\u0435\",\"house\",\"\\u0631\\u062a\\u0648\\u064a\\u062a\",\"\\u064a\\u0627\",\"ja\",\"true\",\"muy\",\"away\",\"already\",\"actually\",\"believe\",\"try\",\"many\",\"ma\\u00f1ana\",\"mis\",\"lu\",\"those\",\"hot\",\"qu\\u00e9\",\"mal\",\"\\u0639\\u0646\",\"though\",\"ask\",\"amazing\",\"bed\",\"}\",\"two\",\"mom\",\"d\\u00eda\",\"ve\",\"dari\",\"gameinsight\",\"stay\",\"fun\",\"around\",\"van\",\"cont\",\"ready\",\"money\",\"bu\",\"funny\",\"cool\",\"hair\",\"\\u00e0\",\"tho\",\"{\",\"wo\",\"hi\",\"name\",\"tiene\",\"hahahaha\",\"pa\",\"algo\",\"gotta\",\"\\u0648\\u0644\\u0627\",\"boy\",\"another\",\"c'est\",\"hari\",\"jajajaja\",\"having\",\"cara\",\"jaja\",\"dm\",\"looking\",\"top\",\"android\",\"dah\",\"wow\",\"\\u2591\",\"eres\",\"ben\",\"must\",\"news\",\"met\",\"est\\u00e1\",\"nih\",\"family\",\"black\",\"thought\",\"nak\",\"super\",\"end\",\"hace\",\"remember\",\"ama\",\"party\",\"cant\",\"vamos\",\"anything\",\"anyone\",\"\\u0641\\u0648\\u0644\\u0648\",\"perfect\",\"guy\",\"vez\",\"christmas\",\"dos\",\"bueno\",\"nao\",\"years\",\"vote\",\"dormir\",\"bro\",\"else\",\"quien\",\"untuk\",\"jangan\",\"myself\",\"head\",\"mind\",\"gua\",\"talking\",\"while\",\"dat\",\"food\",\"\\u0434\",\"coming\",\"wkwk\",\"trying\",\"saya\",\"mucho\",\"without\",\"wrong\",\"\\u2019s\",\"baru\",\"__\",\"hehe\",\"hacer\",\"lot\",\"followed\",\"crazy\",\"hell\",\"feeling\",\"des\",\"kok\",\"j\",\"stats\",\"j'\",\"\\u0627\\u0646\",\"tweets\",\"non\",\"cosas\",\"era\",\"high\",\"niggas\",\"change\",\"movie\",\"xx\",\"mad\",\"sih\",\"sometimes\",\"deh\",\"allah\",\"through\",\"pour\",\"ela\",\"soon\",\"gone\",\"playing\",\"smile\",\"bukan\",\"tv\",\"fans\",\"hasta\",\"akan\",\"y'\",\"looks\",\"isso\",\"\\u270c\",\"tired\",\"boys\",\"might\",\"dong\",\"lg\",\"use\",\"maybe\",\"until\",\"menos\",\"own\",\"dengan\",\"eat\",\"ou\",\"weekend\",\"\\u02d8\",\"class\",\"ele\",\"harry\",\"iphone\",\"friday\",\"single\",\"ff\",\"awesome\",\"bout\",\"muito\",\"hoje\",\"\\u00ac\",\"dios\",\"such\",\"estar\",\"j\\u00e1\",\"quando\",\"esa\",\"making\",\"\\u2501\",\"times\",\"lmfao\",\"gw\",\"moment\",\"yet\",\"aw\",\"smh\",\"banget\",\"masih\",\"qui\",\"quem\",\"\\u2013\",\"leave\",\"du\",\"une\",\"guess\",\"hit\",\"\\u0441\",\"pm\",\"since\",\"pues\",\"est\",\"job\",\"\\uff89\",\"mana\",\"bom\",\"siapa\",\"suka\",\"bieber\",\"mention\",\"lebih\",\"favorite\",\"bitches\",\"forever\",\"\\u0644\\u064a\",\"final\",\"read\",\"alguien\",\"open\",\"yourself\",\"ese\",\"che\",\"sex\",\"yaa\",\"car\",\"direction\",\"tidak\",\"seu\",\"gets\",\"left\",\"re\",\"jam\",\"enough\",\"\\u0625\\u0644\\u0627\",\"once\",\"\\u2019\",\"part\",\"cada\",\"\\u5b9a\\u671f\",\"\\u0644\\u0643\",\"een\",\"seen\",\"kak\",\"as\\u00ed\",\"nem\",\"\\u0639\\u0645\\u0644\",\"white\",\"told\",\"says\",\"esto\",\"sad\",\"mo\",\"fue\",\"yah\",\"summer\",\"\\u0647\",\"\\u2b55\",\"\\u00bb\",\"thats\",\"\\u0645\\u0639\",\"posted\",\"wants\",\"agora\",\"together\",\"fan\",\"men\",\"hear\",\"full\",\"\\u2600\",\"sigo\",\"pq\",\"dulu\",\"plus\",\"foi\",\"tudo\",\"\\u0647\\u0648\",\"ill\",\"\\u3042\",\"thinking\",\"wtf\",\"pagi\",\"mama\",\"kalau\",\"hati\",\"sexy\",\"sayang\",\"baik\",\"semua\",\"hola\",\"went\",\"vos\",\"tanto\",\"finally\",\"fb\",\"sea\",\"stupid\",\"tus\",\"seriously\",\"hora\",\"min\",\"pic\",\"estas\",\"turn\",\"hours\",\"excited\",\"nah\",\"buy\",\"saying\",\"mah\",\"break\",\"needs\",\"ce\",\"room\",\"choice\",\"far\",\"dead\",\"quero\",\"saw\",\"kids\",\"lil\",\"whole\",\"puede\",\"fall\",\"sus\",\"lost\",\"asi\",\"word\",\"\\u2639\",\"also\",\"\\u0631\\u064a\\u062a\\u0648\\u064a\\u062a\",\"probably\",\"everybody\",\"tarde\",\"run\",\"sei\",\"follback\",\"forget\",\"sweet\",\"welcome\",\"selamat\",\"\\uff3f\",\"sur\",\"place\",\"gusta\",\"sabe\",\"androidgames\",\"tp\",\"tiempo\",\"\\u0628\\u0633\",\"sou\",\"tuh\",\"vs\",\"eyes\",\"\\u0627\\u0646\\u0627\",\"picture\",\"das\",\"meet\",\"anak\",\"persona\",\"essa\",\"bored\",\"following\",\"nadie\",\"nobody\",\"dice\",\"alone\",\"sick\",\"red\",\"city\",\"cinta\",\"\\u6708\",\"linda\",\"dream\",\"story\",\"km\",\"het\",\"waiting\",\"^_^\",\"mine\",\"\\u0447\\u0442\\u043e\",\"reason\",\"kk\",\"\\u0644\\u0648\",\"online\",\"fast\",\"udh\",\"wanted\",\"op\",\"others\",\"gay\",\"n\\u2019t\",\"used\",\"sem\",\"understand\",\"moi\",\"sm\",\"aint\",\"donde\",\"bem\",\"which\",\"ng\",\"followback\",\"punya\",\"late\",\"anda\",\"tidur\",\"puedo\",\"early\",\"nd\",\"personas\",\"banyak\",\"\\u2705\",\"\\u278a\",\"trust\",\"noche\",\"tl\",\"\\uff1e\",\"\\u00ab\",\"af\",\"move\",\"pro\",\"bring\",\"ku\",\"called\",\"relationship\",\"idk\",\"hurt\",\"st\",\"pernah\",\"pessoas\",\"hello\",\"uno\",\"unfollowers\",\"cry\"],\"x\":{\"__ndarray__\":\"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\",\"dtype\":\"float32\",\"order\":\"little\",\"shape\":[1000]},\"y\":{\"__ndarray__\":\"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\",\"dtype\":\"float32\",\"order\":\"little\",\"shape\":[1000]}},\"selected\":{\"id\":\"1393\"},\"selection_policy\":{\"id\":\"1394\"}},\"id\":\"1321\",\"type\":\"ColumnDataSource\"},{\"attributes\":{},\"id\":\"1342\",\"type\":\"SaveTool\"},{\"attributes\":{},\"id\":\"1332\",\"type\":\"BasicTicker\"},{\"attributes\":{\"formatter\":{\"id\":\"1389\"},\"ticker\":{\"id\":\"1332\"}},\"id\":\"1331\",\"type\":\"LinearAxis\"},{\"attributes\":{\"text\":\"\"},\"id\":\"1387\",\"type\":\"Title\"},{\"attributes\":{},\"id\":\"1325\",\"type\":\"DataRange1d\"},{\"attributes\":{},\"id\":\"1327\",\"type\":\"LinearScale\"},{\"attributes\":{},\"id\":\"1344\",\"type\":\"HelpTool\"},{\"attributes\":{},\"id\":\"1329\",\"type\":\"LinearScale\"},{\"attributes\":{},\"id\":\"1343\",\"type\":\"ResetTool\"},{\"attributes\":{\"bottom_units\":\"screen\",\"fill_alpha\":0.5,\"fill_color\":\"lightgrey\",\"left_units\":\"screen\",\"level\":\"overlay\",\"line_alpha\":1.0,\"line_color\":\"black\",\"line_dash\":[4,4],\"line_width\":2,\"right_units\":\"screen\",\"top_units\":\"screen\"},\"id\":\"1345\",\"type\":\"BoxAnnotation\"},{\"attributes\":{\"axis\":{\"id\":\"1331\"},\"ticker\":null},\"id\":\"1334\",\"type\":\"Grid\"},{\"attributes\":{},\"id\":\"1393\",\"type\":\"Selection\"},{\"attributes\":{\"data_source\":{\"id\":\"1321\"},\"glyph\":{\"id\":\"1354\"},\"hover_glyph\":null,\"muted_glyph\":null,\"nonselection_glyph\":{\"id\":\"1355\"},\"selection_glyph\":null,\"view\":{\"id\":\"1357\"}},\"id\":\"1356\",\"type\":\"GlyphRenderer\"},{\"attributes\":{},\"id\":\"1394\",\"type\":\"UnionRenderers\"},{\"attributes\":{},\"id\":\"1323\",\"type\":\"DataRange1d\"},{\"attributes\":{\"fill_alpha\":{\"value\":0.25},\"fill_color\":{\"field\":\"color\"},\"line_alpha\":{\"value\":0.25},\"line_color\":{\"field\":\"color\"},\"size\":{\"units\":\"screen\",\"value\":10},\"x\":{\"field\":\"x\"},\"y\":{\"field\":\"y\"}},\"id\":\"1354\",\"type\":\"Scatter\"},{\"attributes\":{\"formatter\":{\"id\":\"1391\"},\"ticker\":{\"id\":\"1336\"}},\"id\":\"1335\",\"type\":\"LinearAxis\"},{\"attributes\":{\"axis\":{\"id\":\"1335\"},\"dimension\":1,\"ticker\":null},\"id\":\"1338\",\"type\":\"Grid\"},{\"attributes\":{},\"id\":\"1336\",\"type\":\"BasicTicker\"}],\"root_ids\":[\"1322\"]},\"title\":\"Bokeh Application\",\"version\":\"2.2.3\"}};\n",
       "  var render_items = [{\"docid\":\"04f7d527-2e68-4300-ab86-02ca0e6d8211\",\"root_ids\":[\"1322\"],\"roots\":{\"1322\":\"93e81270-e1e1-4326-90bd-9588bec792d1\"}}];\n",
       "  root.Bokeh.embed.embed_items_notebook(docs_json, render_items);\n",
       "\n",
       "  }\n",
       "  if (root.Bokeh !== undefined) {\n",
       "    embed_document(root);\n",
       "  } else {\n",
       "    var attempts = 0;\n",
       "    var timer = setInterval(function(root) {\n",
       "      if (root.Bokeh !== undefined) {\n",
       "        clearInterval(timer);\n",
       "        embed_document(root);\n",
       "      } else {\n",
       "        attempts++;\n",
       "        if (attempts > 100) {\n",
       "          clearInterval(timer);\n",
       "          console.log(\"Bokeh: ERROR: Unable to run BokehJS code because BokehJS library is missing\");\n",
       "        }\n",
       "      }\n",
       "    }, 10, root)\n",
       "  }\n",
       "})(window);"
      ],
      "application/vnd.bokehjs_exec.v0+json": ""
     },
     "metadata": {
      "application/vnd.bokehjs_exec.v0+json": {
       "id": "1322"
      }
     },
     "output_type": "display_data"
    },
    {
     "data": {
      "text/html": [
       "<div style=\"display: table;\"><div style=\"display: table-row;\"><div style=\"display: table-cell;\"><b title=\"bokeh.plotting.figure.Figure\">Figure</b>(</div><div style=\"display: table-cell;\">id&nbsp;=&nbsp;'1322', <span id=\"1442\" style=\"cursor: pointer;\">&hellip;)</span></div></div><div class=\"1441\" style=\"display: none;\"><div style=\"display: table-cell;\"></div><div style=\"display: table-cell;\">above&nbsp;=&nbsp;[],</div></div><div class=\"1441\" style=\"display: none;\"><div style=\"display: table-cell;\"></div><div style=\"display: table-cell;\">align&nbsp;=&nbsp;'start',</div></div><div class=\"1441\" style=\"display: none;\"><div style=\"display: table-cell;\"></div><div style=\"display: table-cell;\">aspect_ratio&nbsp;=&nbsp;None,</div></div><div class=\"1441\" style=\"display: none;\"><div style=\"display: table-cell;\"></div><div style=\"display: table-cell;\">aspect_scale&nbsp;=&nbsp;1,</div></div><div class=\"1441\" style=\"display: none;\"><div style=\"display: table-cell;\"></div><div style=\"display: table-cell;\">background&nbsp;=&nbsp;None,</div></div><div class=\"1441\" style=\"display: none;\"><div style=\"display: table-cell;\"></div><div style=\"display: table-cell;\">background_fill_alpha&nbsp;=&nbsp;1.0,</div></div><div class=\"1441\" style=\"display: none;\"><div style=\"display: table-cell;\"></div><div style=\"display: table-cell;\">background_fill_color&nbsp;=&nbsp;'#ffffff',</div></div><div class=\"1441\" style=\"display: none;\"><div style=\"display: table-cell;\"></div><div style=\"display: table-cell;\">below&nbsp;=&nbsp;[LinearAxis(id='1331', ...)],</div></div><div class=\"1441\" style=\"display: none;\"><div style=\"display: table-cell;\"></div><div style=\"display: table-cell;\">border_fill_alpha&nbsp;=&nbsp;1.0,</div></div><div class=\"1441\" style=\"display: none;\"><div style=\"display: table-cell;\"></div><div style=\"display: table-cell;\">border_fill_color&nbsp;=&nbsp;'#ffffff',</div></div><div class=\"1441\" style=\"display: none;\"><div style=\"display: table-cell;\"></div><div style=\"display: table-cell;\">center&nbsp;=&nbsp;[Grid(id='1334', ...), Grid(id='1338', ...)],</div></div><div class=\"1441\" style=\"display: none;\"><div style=\"display: table-cell;\"></div><div style=\"display: table-cell;\">css_classes&nbsp;=&nbsp;[],</div></div><div class=\"1441\" style=\"display: none;\"><div style=\"display: table-cell;\"></div><div style=\"display: table-cell;\">disabled&nbsp;=&nbsp;False,</div></div><div class=\"1441\" style=\"display: none;\"><div style=\"display: table-cell;\"></div><div style=\"display: table-cell;\">extra_x_ranges&nbsp;=&nbsp;{},</div></div><div class=\"1441\" style=\"display: none;\"><div style=\"display: table-cell;\"></div><div style=\"display: table-cell;\">extra_y_ranges&nbsp;=&nbsp;{},</div></div><div class=\"1441\" style=\"display: none;\"><div style=\"display: table-cell;\"></div><div style=\"display: table-cell;\">frame_height&nbsp;=&nbsp;None,</div></div><div class=\"1441\" style=\"display: none;\"><div style=\"display: table-cell;\"></div><div style=\"display: table-cell;\">frame_width&nbsp;=&nbsp;None,</div></div><div class=\"1441\" style=\"display: none;\"><div style=\"display: table-cell;\"></div><div style=\"display: table-cell;\">height&nbsp;=&nbsp;None,</div></div><div class=\"1441\" style=\"display: none;\"><div style=\"display: table-cell;\"></div><div style=\"display: table-cell;\">height_policy&nbsp;=&nbsp;'auto',</div></div><div class=\"1441\" style=\"display: none;\"><div style=\"display: table-cell;\"></div><div style=\"display: table-cell;\">hidpi&nbsp;=&nbsp;True,</div></div><div class=\"1441\" style=\"display: none;\"><div style=\"display: table-cell;\"></div><div style=\"display: table-cell;\">js_event_callbacks&nbsp;=&nbsp;{},</div></div><div class=\"1441\" style=\"display: none;\"><div style=\"display: table-cell;\"></div><div style=\"display: table-cell;\">js_property_callbacks&nbsp;=&nbsp;{},</div></div><div class=\"1441\" style=\"display: none;\"><div style=\"display: table-cell;\"></div><div style=\"display: table-cell;\">left&nbsp;=&nbsp;[LinearAxis(id='1335', ...)],</div></div><div class=\"1441\" style=\"display: none;\"><div style=\"display: table-cell;\"></div><div style=\"display: table-cell;\">lod_factor&nbsp;=&nbsp;10,</div></div><div class=\"1441\" style=\"display: none;\"><div style=\"display: table-cell;\"></div><div style=\"display: table-cell;\">lod_interval&nbsp;=&nbsp;300,</div></div><div class=\"1441\" style=\"display: none;\"><div style=\"display: table-cell;\"></div><div style=\"display: table-cell;\">lod_threshold&nbsp;=&nbsp;2000,</div></div><div class=\"1441\" style=\"display: none;\"><div style=\"display: table-cell;\"></div><div style=\"display: table-cell;\">lod_timeout&nbsp;=&nbsp;500,</div></div><div class=\"1441\" style=\"display: none;\"><div style=\"display: table-cell;\"></div><div style=\"display: table-cell;\">margin&nbsp;=&nbsp;(0, 0, 0, 0),</div></div><div class=\"1441\" style=\"display: none;\"><div style=\"display: table-cell;\"></div><div style=\"display: table-cell;\">match_aspect&nbsp;=&nbsp;False,</div></div><div class=\"1441\" style=\"display: none;\"><div style=\"display: table-cell;\"></div><div style=\"display: table-cell;\">max_height&nbsp;=&nbsp;None,</div></div><div class=\"1441\" style=\"display: none;\"><div style=\"display: table-cell;\"></div><div style=\"display: table-cell;\">max_width&nbsp;=&nbsp;None,</div></div><div class=\"1441\" style=\"display: none;\"><div style=\"display: table-cell;\"></div><div style=\"display: table-cell;\">min_border&nbsp;=&nbsp;5,</div></div><div class=\"1441\" style=\"display: none;\"><div style=\"display: table-cell;\"></div><div style=\"display: table-cell;\">min_border_bottom&nbsp;=&nbsp;None,</div></div><div class=\"1441\" style=\"display: none;\"><div style=\"display: table-cell;\"></div><div style=\"display: table-cell;\">min_border_left&nbsp;=&nbsp;None,</div></div><div class=\"1441\" style=\"display: none;\"><div style=\"display: table-cell;\"></div><div style=\"display: table-cell;\">min_border_right&nbsp;=&nbsp;None,</div></div><div class=\"1441\" style=\"display: none;\"><div style=\"display: table-cell;\"></div><div style=\"display: table-cell;\">min_border_top&nbsp;=&nbsp;None,</div></div><div class=\"1441\" style=\"display: none;\"><div style=\"display: table-cell;\"></div><div style=\"display: table-cell;\">min_height&nbsp;=&nbsp;None,</div></div><div class=\"1441\" style=\"display: none;\"><div style=\"display: table-cell;\"></div><div style=\"display: table-cell;\">min_width&nbsp;=&nbsp;None,</div></div><div class=\"1441\" style=\"display: none;\"><div style=\"display: table-cell;\"></div><div style=\"display: table-cell;\">name&nbsp;=&nbsp;None,</div></div><div class=\"1441\" style=\"display: none;\"><div style=\"display: table-cell;\"></div><div style=\"display: table-cell;\">outline_line_alpha&nbsp;=&nbsp;1.0,</div></div><div class=\"1441\" style=\"display: none;\"><div style=\"display: table-cell;\"></div><div style=\"display: table-cell;\">outline_line_cap&nbsp;=&nbsp;'butt',</div></div><div class=\"1441\" style=\"display: none;\"><div style=\"display: table-cell;\"></div><div style=\"display: table-cell;\">outline_line_color&nbsp;=&nbsp;'#e5e5e5',</div></div><div class=\"1441\" style=\"display: none;\"><div style=\"display: table-cell;\"></div><div style=\"display: table-cell;\">outline_line_dash&nbsp;=&nbsp;[],</div></div><div class=\"1441\" style=\"display: none;\"><div style=\"display: table-cell;\"></div><div style=\"display: table-cell;\">outline_line_dash_offset&nbsp;=&nbsp;0,</div></div><div class=\"1441\" style=\"display: none;\"><div style=\"display: table-cell;\"></div><div style=\"display: table-cell;\">outline_line_join&nbsp;=&nbsp;'bevel',</div></div><div class=\"1441\" style=\"display: none;\"><div style=\"display: table-cell;\"></div><div style=\"display: table-cell;\">outline_line_width&nbsp;=&nbsp;1,</div></div><div class=\"1441\" style=\"display: none;\"><div style=\"display: table-cell;\"></div><div style=\"display: table-cell;\">output_backend&nbsp;=&nbsp;'canvas',</div></div><div class=\"1441\" style=\"display: none;\"><div style=\"display: table-cell;\"></div><div style=\"display: table-cell;\">plot_height&nbsp;=&nbsp;400,</div></div><div class=\"1441\" style=\"display: none;\"><div style=\"display: table-cell;\"></div><div style=\"display: table-cell;\">plot_width&nbsp;=&nbsp;600,</div></div><div class=\"1441\" style=\"display: none;\"><div style=\"display: table-cell;\"></div><div style=\"display: table-cell;\">renderers&nbsp;=&nbsp;[GlyphRenderer(id='1356', ...)],</div></div><div class=\"1441\" style=\"display: none;\"><div style=\"display: table-cell;\"></div><div style=\"display: table-cell;\">reset_policy&nbsp;=&nbsp;'standard',</div></div><div class=\"1441\" style=\"display: none;\"><div style=\"display: table-cell;\"></div><div style=\"display: table-cell;\">right&nbsp;=&nbsp;[],</div></div><div class=\"1441\" style=\"display: none;\"><div style=\"display: table-cell;\"></div><div style=\"display: table-cell;\">sizing_mode&nbsp;=&nbsp;None,</div></div><div class=\"1441\" style=\"display: none;\"><div style=\"display: table-cell;\"></div><div style=\"display: table-cell;\">subscribed_events&nbsp;=&nbsp;[],</div></div><div class=\"1441\" style=\"display: none;\"><div style=\"display: table-cell;\"></div><div style=\"display: table-cell;\">tags&nbsp;=&nbsp;[],</div></div><div class=\"1441\" style=\"display: none;\"><div style=\"display: table-cell;\"></div><div style=\"display: table-cell;\">title&nbsp;=&nbsp;Title(id='1387', ...),</div></div><div class=\"1441\" style=\"display: none;\"><div style=\"display: table-cell;\"></div><div style=\"display: table-cell;\">title_location&nbsp;=&nbsp;'above',</div></div><div class=\"1441\" style=\"display: none;\"><div style=\"display: table-cell;\"></div><div style=\"display: table-cell;\">toolbar&nbsp;=&nbsp;Toolbar(id='1346', ...),</div></div><div class=\"1441\" style=\"display: none;\"><div style=\"display: table-cell;\"></div><div style=\"display: table-cell;\">toolbar_location&nbsp;=&nbsp;'right',</div></div><div class=\"1441\" style=\"display: none;\"><div style=\"display: table-cell;\"></div><div style=\"display: table-cell;\">toolbar_sticky&nbsp;=&nbsp;True,</div></div><div class=\"1441\" style=\"display: none;\"><div style=\"display: table-cell;\"></div><div style=\"display: table-cell;\">visible&nbsp;=&nbsp;True,</div></div><div class=\"1441\" style=\"display: none;\"><div style=\"display: table-cell;\"></div><div style=\"display: table-cell;\">width&nbsp;=&nbsp;None,</div></div><div class=\"1441\" style=\"display: none;\"><div style=\"display: table-cell;\"></div><div style=\"display: table-cell;\">width_policy&nbsp;=&nbsp;'auto',</div></div><div class=\"1441\" style=\"display: none;\"><div style=\"display: table-cell;\"></div><div style=\"display: table-cell;\">x_range&nbsp;=&nbsp;DataRange1d(id='1323', ...),</div></div><div class=\"1441\" style=\"display: none;\"><div style=\"display: table-cell;\"></div><div style=\"display: table-cell;\">x_scale&nbsp;=&nbsp;LinearScale(id='1327', ...),</div></div><div class=\"1441\" style=\"display: none;\"><div style=\"display: table-cell;\"></div><div style=\"display: table-cell;\">y_range&nbsp;=&nbsp;DataRange1d(id='1325', ...),</div></div><div class=\"1441\" style=\"display: none;\"><div style=\"display: table-cell;\"></div><div style=\"display: table-cell;\">y_scale&nbsp;=&nbsp;LinearScale(id='1329', ...))</div></div></div>\n",
       "<script>\n",
       "(function() {\n",
       "  var expanded = false;\n",
       "  var ellipsis = document.getElementById(\"1442\");\n",
       "  ellipsis.addEventListener(\"click\", function() {\n",
       "    var rows = document.getElementsByClassName(\"1441\");\n",
       "    for (var i = 0; i < rows.length; i++) {\n",
       "      var el = rows[i];\n",
       "      el.style.display = expanded ? \"none\" : \"table-row\";\n",
       "    }\n",
       "    ellipsis.innerHTML = expanded ? \"&hellip;)\" : \"&lsaquo;&lsaquo;&lsaquo;\";\n",
       "    expanded = !expanded;\n",
       "  });\n",
       "})();\n",
       "</script>\n"
      ],
      "text/plain": [
       "Figure(id='1322', ...)"
      ]
     },
     "execution_count": 89,
     "metadata": {},
     "output_type": "execute_result"
    }
   ],
   "source": [
    "draw_vectors(word_vectors_pca[:, 0], word_vectors_pca[:, 1], token=words)"
   ]
  },
  {
   "cell_type": "markdown",
   "metadata": {},
   "source": [
    "### tSNE plot"
   ]
  },
  {
   "cell_type": "code",
   "execution_count": 90,
   "metadata": {},
   "outputs": [],
   "source": [
    "from sklearn.manifold import TSNE\n",
    "\n",
    "tsne = TSNE(n_components=3)\n",
    "word_vectors_tsne = tsne.fit_transform(word_vectors)"
   ]
  },
  {
   "cell_type": "code",
   "execution_count": 91,
   "metadata": {},
   "outputs": [
    {
     "data": {
      "text/html": [
       "\n",
       "\n",
       "\n",
       "\n",
       "\n",
       "\n",
       "  <div class=\"bk-root\" id=\"d22b7f81-0d88-4451-9619-aecaba6e9d51\" data-root-id=\"1446\"></div>\n"
      ]
     },
     "metadata": {},
     "output_type": "display_data"
    },
    {
     "data": {
      "application/javascript": [
       "(function(root) {\n",
       "  function embed_document(root) {\n",
       "    \n",
       "  var docs_json = {\"c43696a7-4c21-4fba-bb60-ed313503ecd7\":{\"roots\":{\"references\":[{\"attributes\":{\"below\":[{\"id\":\"1455\"}],\"center\":[{\"id\":\"1458\"},{\"id\":\"1462\"}],\"left\":[{\"id\":\"1459\"}],\"plot_height\":400,\"renderers\":[{\"id\":\"1480\"}],\"title\":{\"id\":\"1520\"},\"toolbar\":{\"id\":\"1470\"},\"x_range\":{\"id\":\"1447\"},\"x_scale\":{\"id\":\"1451\"},\"y_range\":{\"id\":\"1449\"},\"y_scale\":{\"id\":\"1453\"}},\"id\":\"1446\",\"subtype\":\"Figure\",\"type\":\"Plot\"},{\"attributes\":{\"source\":{\"id\":\"1445\"}},\"id\":\"1481\",\"type\":\"CDSView\"},{\"attributes\":{},\"id\":\"1464\",\"type\":\"WheelZoomTool\"},{\"attributes\":{},\"id\":\"1466\",\"type\":\"SaveTool\"},{\"attributes\":{\"callback\":null,\"tooltips\":[[\"token\",\"@token\"]]},\"id\":\"1482\",\"type\":\"HoverTool\"},{\"attributes\":{},\"id\":\"1468\",\"type\":\"HelpTool\"},{\"attributes\":{},\"id\":\"1522\",\"type\":\"BasicTickFormatter\"},{\"attributes\":{\"fill_alpha\":{\"value\":0.1},\"fill_color\":{\"field\":\"color\"},\"line_alpha\":{\"value\":0.1},\"line_color\":{\"field\":\"color\"},\"size\":{\"units\":\"screen\",\"value\":10},\"x\":{\"field\":\"x\"},\"y\":{\"field\":\"y\"}},\"id\":\"1479\",\"type\":\"Scatter\"},{\"attributes\":{},\"id\":\"1460\",\"type\":\"BasicTicker\"},{\"attributes\":{\"data_source\":{\"id\":\"1445\"},\"glyph\":{\"id\":\"1478\"},\"hover_glyph\":null,\"muted_glyph\":null,\"nonselection_glyph\":{\"id\":\"1479\"},\"selection_glyph\":null,\"view\":{\"id\":\"1481\"}},\"id\":\"1480\",\"type\":\"GlyphRenderer\"},{\"attributes\":{\"fill_alpha\":{\"value\":0.25},\"fill_color\":{\"field\":\"color\"},\"line_alpha\":{\"value\":0.25},\"line_color\":{\"field\":\"color\"},\"size\":{\"units\":\"screen\",\"value\":10},\"x\":{\"field\":\"x\"},\"y\":{\"field\":\"y\"}},\"id\":\"1478\",\"type\":\"Scatter\"},{\"attributes\":{\"axis\":{\"id\":\"1459\"},\"dimension\":1,\"ticker\":null},\"id\":\"1462\",\"type\":\"Grid\"},{\"attributes\":{},\"id\":\"1524\",\"type\":\"BasicTickFormatter\"},{\"attributes\":{},\"id\":\"1451\",\"type\":\"LinearScale\"},{\"attributes\":{},\"id\":\"1449\",\"type\":\"DataRange1d\"},{\"attributes\":{},\"id\":\"1526\",\"type\":\"Selection\"},{\"attributes\":{\"text\":\"\"},\"id\":\"1520\",\"type\":\"Title\"},{\"attributes\":{\"active_drag\":\"auto\",\"active_inspect\":\"auto\",\"active_multi\":null,\"active_scroll\":{\"id\":\"1464\"},\"active_tap\":\"auto\",\"tools\":[{\"id\":\"1463\"},{\"id\":\"1464\"},{\"id\":\"1465\"},{\"id\":\"1466\"},{\"id\":\"1467\"},{\"id\":\"1468\"},{\"id\":\"1482\"}]},\"id\":\"1470\",\"type\":\"Toolbar\"},{\"attributes\":{},\"id\":\"1527\",\"type\":\"UnionRenderers\"},{\"attributes\":{\"data\":{\"color\":[\"green\",\"green\",\"green\",\"green\",\"green\",\"green\",\"green\",\"green\",\"green\",\"green\",\"green\",\"green\",\"green\",\"green\",\"green\",\"green\",\"green\",\"green\",\"green\",\"green\",\"green\",\"green\",\"green\",\"green\",\"green\",\"green\",\"green\",\"green\",\"green\",\"green\",\"green\",\"green\",\"green\",\"green\",\"green\",\"green\",\"green\",\"green\",\"green\",\"green\",\"green\",\"green\",\"green\",\"green\",\"green\",\"green\",\"green\",\"green\",\"green\",\"green\",\"green\",\"green\",\"green\",\"green\",\"green\",\"green\",\"green\",\"green\",\"green\",\"green\",\"green\",\"green\",\"green\",\"green\",\"green\",\"green\",\"green\",\"green\",\"green\",\"green\",\"green\",\"green\",\"green\",\"green\",\"green\",\"green\",\"green\",\"green\",\"green\",\"green\",\"green\",\"green\",\"green\",\"green\",\"green\",\"green\",\"green\",\"green\",\"green\",\"green\",\"green\",\"green\",\"green\",\"green\",\"green\",\"green\",\"green\",\"green\",\"green\",\"green\",\"green\",\"green\",\"green\",\"green\",\"green\",\"green\",\"green\",\"green\",\"green\",\"green\",\"green\",\"green\",\"green\",\"green\",\"green\",\"green\",\"green\",\"green\",\"green\",\"green\",\"green\",\"green\",\"green\",\"green\",\"green\",\"green\",\"green\",\"green\",\"green\",\"green\",\"green\",\"green\",\"green\",\"green\",\"green\",\"green\",\"green\",\"green\",\"green\",\"green\",\"green\",\"green\",\"green\",\"green\",\"green\",\"green\",\"green\",\"green\",\"green\",\"green\",\"green\",\"green\",\"green\",\"green\",\"green\",\"green\",\"green\",\"green\",\"green\",\"green\",\"green\",\"green\",\"green\",\"green\",\"green\",\"green\",\"green\",\"green\",\"green\",\"green\",\"green\",\"green\",\"green\",\"green\",\"green\",\"green\",\"green\",\"green\",\"green\",\"green\",\"green\",\"green\",\"green\",\"green\",\"green\",\"green\",\"green\",\"green\",\"green\",\"green\",\"green\",\"green\",\"green\",\"green\",\"green\",\"green\",\"green\",\"green\",\"green\",\"green\",\"green\",\"green\",\"green\",\"green\",\"green\",\"green\",\"green\",\"green\",\"green\",\"green\",\"green\",\"green\",\"green\",\"green\",\"green\",\"green\",\"green\",\"green\",\"green\",\"green\",\"green\",\"green\",\"green\",\"green\",\"green\",\"green\",\"green\",\"green\",\"green\",\"green\",\"green\",\"green\",\"green\",\"green\",\"green\",\"green\",\"green\",\"green\",\"green\",\"green\",\"green\",\"green\",\"green\",\"green\",\"green\",\"green\",\"green\",\"green\",\"green\",\"green\",\"green\",\"green\",\"green\",\"green\",\"green\",\"green\",\"green\",\"green\",\"green\",\"green\",\"green\",\"green\",\"green\",\"green\",\"green\",\"green\",\"green\",\"green\",\"green\",\"green\",\"green\",\"green\",\"green\",\"green\",\"green\",\"green\",\"green\",\"green\",\"green\",\"green\",\"green\",\"green\",\"green\",\"green\",\"green\",\"green\",\"green\",\"green\",\"green\",\"green\",\"green\",\"green\",\"green\",\"green\",\"green\",\"green\",\"green\",\"green\",\"green\",\"green\",\"green\",\"green\",\"green\",\"green\",\"green\",\"green\",\"green\",\"green\",\"green\",\"green\",\"green\",\"green\",\"green\",\"green\",\"green\",\"green\",\"green\",\"green\",\"green\",\"green\",\"green\",\"green\",\"green\",\"green\",\"green\",\"green\",\"green\",\"green\",\"green\",\"green\",\"green\",\"green\",\"green\",\"green\",\"green\",\"green\",\"green\",\"green\",\"green\",\"green\",\"green\",\"green\",\"green\",\"green\",\"green\",\"green\",\"green\",\"green\",\"green\",\"green\",\"green\",\"green\",\"green\",\"green\",\"green\",\"green\",\"green\",\"green\",\"green\",\"green\",\"green\",\"green\",\"green\",\"green\",\"green\",\"green\",\"green\",\"green\",\"green\",\"green\",\"green\",\"green\",\"green\",\"green\",\"green\",\"green\",\"green\",\"green\",\"green\",\"green\",\"green\",\"green\",\"green\",\"green\",\"green\",\"green\",\"green\",\"green\",\"green\",\"green\",\"green\",\"green\",\"green\",\"green\",\"green\",\"green\",\"green\",\"green\",\"green\",\"green\",\"green\",\"green\",\"green\",\"green\",\"green\",\"green\",\"green\",\"green\",\"green\",\"green\",\"green\",\"green\",\"green\",\"green\",\"green\",\"green\",\"green\",\"green\",\"green\",\"green\",\"green\",\"green\",\"green\",\"green\",\"green\",\"green\",\"green\",\"green\",\"green\",\"green\",\"green\",\"green\",\"green\",\"green\",\"green\",\"green\",\"green\",\"green\",\"green\",\"green\",\"green\",\"green\",\"green\",\"green\",\"green\",\"green\",\"green\",\"green\",\"green\",\"green\",\"green\",\"green\",\"green\",\"green\",\"green\",\"green\",\"green\",\"green\",\"green\",\"green\",\"green\",\"green\",\"green\",\"green\",\"green\",\"green\",\"green\",\"green\",\"green\",\"green\",\"green\",\"green\",\"green\",\"green\",\"green\",\"green\",\"green\",\"green\",\"green\",\"green\",\"green\",\"green\",\"green\",\"green\",\"green\",\"green\",\"green\",\"green\",\"green\",\"green\",\"green\",\"green\",\"green\",\"green\",\"green\",\"green\",\"green\",\"green\",\"green\",\"green\",\"green\",\"green\",\"green\",\"green\",\"green\",\"green\",\"green\",\"green\",\"green\",\"green\",\"green\",\"green\",\"green\",\"green\",\"green\",\"green\",\"green\",\"green\",\"green\",\"green\",\"green\",\"green\",\"green\",\"green\",\"green\",\"green\",\"green\",\"green\",\"green\",\"green\",\"green\",\"green\",\"green\",\"green\",\"green\",\"green\",\"green\",\"green\",\"green\",\"green\",\"green\",\"green\",\"green\",\"green\",\"green\",\"green\",\"green\",\"green\",\"green\",\"green\",\"green\",\"green\",\"green\",\"green\",\"green\",\"green\",\"green\",\"green\",\"green\",\"green\",\"green\",\"green\",\"green\",\"green\",\"green\",\"green\",\"green\",\"green\",\"green\",\"green\",\"green\",\"green\",\"green\",\"green\",\"green\",\"green\",\"green\",\"green\",\"green\",\"green\",\"green\",\"green\",\"green\",\"green\",\"green\",\"green\",\"green\",\"green\",\"green\",\"green\",\"green\",\"green\",\"green\",\"green\",\"green\",\"green\",\"green\",\"green\",\"green\",\"green\",\"green\",\"green\",\"green\",\"green\",\"green\",\"green\",\"green\",\"green\",\"green\",\"green\",\"green\",\"green\",\"green\",\"green\",\"green\",\"green\",\"green\",\"green\",\"green\",\"green\",\"green\",\"green\",\"green\",\"green\",\"green\",\"green\",\"green\",\"green\",\"green\",\"green\",\"green\",\"green\",\"green\",\"green\",\"green\",\"green\",\"green\",\"green\",\"green\",\"green\",\"green\",\"green\",\"green\",\"green\",\"green\",\"green\",\"green\",\"green\",\"green\",\"green\",\"green\",\"green\",\"green\",\"green\",\"green\",\"green\",\"green\",\"green\",\"green\",\"green\",\"green\",\"green\",\"green\",\"green\",\"green\",\"green\",\"green\",\"green\",\"green\",\"green\",\"green\",\"green\",\"green\",\"green\",\"green\",\"green\",\"green\",\"green\",\"green\",\"green\",\"green\",\"green\",\"green\",\"green\",\"green\",\"green\",\"green\",\"green\",\"green\",\"green\",\"green\",\"green\",\"green\",\"green\",\"green\",\"green\",\"green\",\"green\",\"green\",\"green\",\"green\",\"green\",\"green\",\"green\",\"green\",\"green\",\"green\",\"green\",\"green\",\"green\",\"green\",\"green\",\"green\",\"green\",\"green\",\"green\",\"green\",\"green\",\"green\",\"green\",\"green\",\"green\",\"green\",\"green\",\"green\",\"green\",\"green\",\"green\",\"green\",\"green\",\"green\",\"green\",\"green\",\"green\",\"green\",\"green\",\"green\",\"green\",\"green\",\"green\",\"green\",\"green\",\"green\",\"green\",\"green\",\"green\",\"green\",\"green\",\"green\",\"green\",\"green\",\"green\",\"green\",\"green\",\"green\",\"green\",\"green\",\"green\",\"green\",\"green\",\"green\",\"green\",\"green\",\"green\",\"green\",\"green\",\"green\",\"green\",\"green\",\"green\",\"green\",\"green\",\"green\",\"green\",\"green\",\"green\",\"green\",\"green\",\"green\",\"green\",\"green\",\"green\",\"green\",\"green\",\"green\",\"green\",\"green\",\"green\",\"green\",\"green\",\"green\",\"green\",\"green\",\"green\",\"green\",\"green\",\"green\",\"green\",\"green\",\"green\",\"green\",\"green\",\"green\",\"green\",\"green\",\"green\",\"green\",\"green\",\"green\",\"green\",\"green\",\"green\",\"green\",\"green\",\"green\",\"green\",\"green\",\"green\",\"green\",\"green\",\"green\",\"green\",\"green\",\"green\",\"green\",\"green\",\"green\",\"green\",\"green\",\"green\",\"green\",\"green\",\"green\",\"green\",\"green\",\"green\",\"green\",\"green\",\"green\",\"green\",\"green\",\"green\",\"green\",\"green\",\"green\",\"green\",\"green\",\"green\",\"green\",\"green\",\"green\",\"green\",\"green\",\"green\",\"green\",\"green\",\"green\",\"green\",\"green\",\"green\",\"green\",\"green\",\"green\",\"green\",\"green\",\"green\",\"green\",\"green\",\"green\",\"green\",\"green\",\"green\",\"green\",\"green\",\"green\",\"green\",\"green\",\"green\",\"green\",\"green\",\"green\",\"green\",\"green\",\"green\",\"green\",\"green\",\"green\",\"green\",\"green\",\"green\",\"green\",\"green\",\"green\",\"green\",\"green\",\"green\",\"green\",\"green\",\"green\",\"green\",\"green\",\"green\",\"green\",\"green\",\"green\",\"green\",\"green\",\"green\",\"green\",\"green\",\"green\",\"green\",\"green\",\"green\",\"green\",\"green\",\"green\",\"green\",\"green\",\"green\",\"green\",\"green\",\"green\",\"green\",\"green\",\"green\",\"green\",\"green\",\"green\",\"green\",\"green\",\"green\",\"green\",\"green\",\"green\",\"green\",\"green\",\"green\",\"green\",\"green\",\"green\",\"green\",\"green\",\"green\",\"green\",\"green\",\"green\",\"green\",\"green\",\"green\",\"green\",\"green\",\"green\",\"green\",\"green\",\"green\",\"green\",\"green\",\"green\",\"green\",\"green\",\"green\",\"green\",\"green\",\"green\",\"green\",\"green\",\"green\",\"green\",\"green\",\"green\",\"green\",\"green\",\"green\",\"green\",\"green\",\"green\",\"green\",\"green\",\"green\",\"green\",\"green\",\"green\",\"green\",\"green\",\"green\",\"green\",\"green\",\"green\",\"green\",\"green\",\"green\",\"green\",\"green\",\"green\",\"green\",\"green\",\"green\",\"green\",\"green\"],\"token\":[\"<user>\",\".\",\":\",\"rt\",\",\",\"<repeat>\",\"<hashtag>\",\"<number>\",\"<url>\",\"!\",\"i\",\"a\",\"\\\"\",\"the\",\"?\",\"you\",\"to\",\"(\",\"<allcaps>\",\"<elong>\",\")\",\"me\",\"de\",\"<smile>\",\"\\uff01\",\"que\",\"and\",\"\\u3002\",\"-\",\"my\",\"no\",\"\\u3001\",\"is\",\"it\",\"\\u2026\",\"in\",\"n\",\"for\",\"/\",\"of\",\"la\",\"'s\",\"*\",\"do\",\"n't\",\"that\",\"on\",\"y\",\"'\",\"e\",\"o\",\"u\",\"en\",\"this\",\"el\",\"so\",\"be\",\"'m\",\"with\",\"just\",\">\",\"your\",\"^\",\"like\",\"have\",\"te\",\"at\",\"\\uff1f\",\"love\",\"se\",\"are\",\"<\",\"m\",\"r\",\"if\",\"all\",\"b\",\"\\u30fb\",\"not\",\"but\",\"we\",\"es\",\"ya\",\"&\",\"follow\",\"up\",\"what\",\"get\",\"lol\",\"un\",\"\\u2665\",\"lo\",\"when\",\"was\",\"\\u201c\",\"\\u201d\",\"one\",\"por\",\"si\",\"out\",\"_\",\"mi\",\"can\",\"<sadface>\",\"\\u0645\\u0646\",\"\\u2661\",\"\\u00b4\",\"he\",\"con\",\"they\",\"now\",\"go\",\"\\u060c\",\"para\",\"los\",\"know\",\"haha\",\"good\",\"tu\",\"back\",\"~\",\"about\",\"new\",\";\",\"as\",\"day\",\"how\",\"who\",\"will\",\"want\",\"people\",\"yo\",\"eu\",\"from\",\"di\",\"time\",\"<heart>\",\"s\",\"aku\",\"da\",\"'re\",\"<lolface>\",\"una\",\"got\",\"las\",\"more\",\"x\",\"she\",\"today\",\"\\uff08\",\">>\",\"k\",\"by\",\"or\",\"\\u0641\\u064a\",\"\\uff65\",\"too\",\"le\",\"\\u00e9\",\"|\",\"[\",\"\\uff09\",\"]\",\"see\",\"why\",\"yg\",\"ca\",\"como\",\"her\",\"\\u2014\",\"q\",\"need\",\"an\",\"na\",\"\\u7b11\",\"there\",\"\\u03c9\",\"happy\",\"im\",\"mas\",\"je\",\"life\",\"really\",\"make\",\"yang\",\"shit\",\"think\",\"t\",\"\\u2764\",\"n\\u00e3o\",\"never\",\"some\",\"\\uff5e\",\"oh\",\"\\u2605\",\"did\",\"would\",\"del\",\"`\",\"d\",\"please\",\"via\",\"much\",\"fuck\",\"al\",\"dia\",\"$\",\"\\u0648\",\"right\",\"best\",\"c\",\"going\",\"\\u0627\\u0644\\u0644\\u0647\",\"pero\",\"only\",\"has\",\"\\u266a\",\"'ll\",\"twitter\",\"=\",\"hahaha\",\"its\",\"nn\",\"\\uff40\",\"\\u00bf\",\"am\",\"say\",\"<neutralface>\",\"them\",\"here\",\"\\u0644\\u0627\",\"off\",\"still\",\"dan\",\"+\",\"night\",\"w\",\"ada\",\"someone\",\"even\",\"then\",\"\\u2606\",\"ni\",\"come\",\"com\",\"always\",\"man\",\"'ve\",\"been\",\"his\",\"itu\",\"\\u0639\\u0644\\u0649\",\"-_-\",\"\\u263a\",\"over\",\"um\",\"\\u0645\\u0627\",\"hate\",\"girl\",\"ai\",\"had\",\"pra\",\"todo\",\"mais\",\"feel\",\"let\",\"ini\",\"because\",\"\\uff9f\",\"thanks\",\"ah\",\"way\",\"ever\",\"look\",\"tweet\",\"followers\",\"should\",\"our\",\"xd\",\"aja\",\"esta\",\"school\",\"him\",\"ser\",\"take\",\"than\",\"video\",\"em\",\"last\",\"wanna\",\"does\",\"us\",\"miss\",\"l\",\"ga\",\"better\",\"well\",\"could\",\"\\u25bd\",\"%\",\"apa\",\"cuando\",\"team\",\"\\u2714\",\"@\",\"ok\",\"\\u061f\",\"\\u2022\",\"vida\",\"quiero\",\"les\",\"being\",\"real\",\"down\",\"kamu\",\"everyone\",\"gonna\",\"live\",\"tonight\",\"yes\",\"work\",\"ass\",\"retweet\",\"nada\",\"sama\",\"first\",\"<<\",\"photo\",\"tomorrow\",\"where\",\"god\",\"son\",\"ke\",\"ta\",\"f\",\"home\",\"lagi\",\"thank\",\"birthday\",\"\\u2588\",\"ha\",\"great\",\"lmao\",\"omg\",\"morning\",\"m\\u00e1s\",\"mau\",\"baby\",\"dont\",\"\\uff61\",\"their\",\"p\",\"things\",\"game\",\"pas\",\"bad\",\"year\",\"yeah\",\"su\",\"bitch\",\"\\u0432\",\"stop\",\"hoy\",\"something\",\"meu\",\"tak\",\"gak\",\"world\",\"amor\",\"h\",\"\\\\\",\"ver\",\"\\uff1b\",\"porque\",\"give\",\"these\",\"\\u0627\\u0644\\u0644\\u0647\\u0645\",\"were\",\"hay\",\"sleep\",\"gue\",\"every\",\"friends\",\"uma\",\"tell\",\"amo\",\"vou\",\"bien\",\"\\u00a1\",\"again\",\"\\uff3e\",\"\\uff0f\",\"done\",\"after\",\"todos\",\"girls\",\"guys\",\"getting\",\"big\",\"wait\",\"justin\",\"eh\",\"\\u2192\",\"kan\",\"kita\",\"jajaja\",\"wish\",\"said\",\"fucking\",\"show\",\"thing\",\"next\",\"voc\\u00ea\",\"nos\",\"little\",\"tengo\",\"keep\",\"person\",\"''\",\"\\u2200\",\"hope\",\"\\u0643\\u0644\",\"hey\",\"bisa\",\"free\",\"made\",\"foto\",\"va\",\"everything\",\"iya\",\"nigga\",\"eso\",\"et\",\"watch\",\"music\",\"week\",\"talk\",\"ne\",\"solo\",\"gente\",\"udah\",\"\\uff1a\",\"--\",\"\\uff3c\",\"mejor\",\"facebook\",\"ma\",\"v\",\"phone\",\"most\",\"same\",\"okay\",\"ik\",\"before\",\"minha\",\"days\",\"g\",\"ti\",\"damn\",\"nice\",\"voy\",\"vai\",\"call\",\"long\",\"tapi\",\"http\",\"sin\",\"nunca\",\"doing\",\"other\",\"find\",\"il\",\"sa\",\"sorry\",\"nya\",\"orang\",\"\\u00b0\",\"hard\",\"mean\",\"die\",\"\\u0627\\u0644\\u0644\\u064a\",\"tem\",\"soy\",\"este\",\"kalo\",\"s\\u00f3\",\"th\",\"win\",\"nothing\",\"into\",\"face\",\"cute\",\"'d\",\"gracias\",\"lah\",\"\\u0438\",\"any\",\"play\",\"\\u2190\",\"ko\",\"text\",\"\\u2323\",\"estoy\",\"tau\",\"ur\",\"buat\",\"#\",\"cause\",\"\\u044f\",\"put\",\"kau\",\"siempre\",\"juga\",\"casa\",\"\\u0623\\u0646\",\"help\",\"start\",\"feliz\",\"old\",\"ir\",\"very\",\"care\",\"bir\",\"makes\",\"song\",\"check\",\"watching\",\"ahora\",\"jadi\",\"os\",\"may\",\"friend\",\"beautiful\",\"heart\",\"ka\",\"vc\",\"mundo\",\"\\u043d\\u0430\",\"sure\",\"tan\",\"pretty\",\"aqui\",\"\\u043d\\u0435\",\"house\",\"\\u0631\\u062a\\u0648\\u064a\\u062a\",\"\\u064a\\u0627\",\"ja\",\"true\",\"muy\",\"away\",\"already\",\"actually\",\"believe\",\"try\",\"many\",\"ma\\u00f1ana\",\"mis\",\"lu\",\"those\",\"hot\",\"qu\\u00e9\",\"mal\",\"\\u0639\\u0646\",\"though\",\"ask\",\"amazing\",\"bed\",\"}\",\"two\",\"mom\",\"d\\u00eda\",\"ve\",\"dari\",\"gameinsight\",\"stay\",\"fun\",\"around\",\"van\",\"cont\",\"ready\",\"money\",\"bu\",\"funny\",\"cool\",\"hair\",\"\\u00e0\",\"tho\",\"{\",\"wo\",\"hi\",\"name\",\"tiene\",\"hahahaha\",\"pa\",\"algo\",\"gotta\",\"\\u0648\\u0644\\u0627\",\"boy\",\"another\",\"c'est\",\"hari\",\"jajajaja\",\"having\",\"cara\",\"jaja\",\"dm\",\"looking\",\"top\",\"android\",\"dah\",\"wow\",\"\\u2591\",\"eres\",\"ben\",\"must\",\"news\",\"met\",\"est\\u00e1\",\"nih\",\"family\",\"black\",\"thought\",\"nak\",\"super\",\"end\",\"hace\",\"remember\",\"ama\",\"party\",\"cant\",\"vamos\",\"anything\",\"anyone\",\"\\u0641\\u0648\\u0644\\u0648\",\"perfect\",\"guy\",\"vez\",\"christmas\",\"dos\",\"bueno\",\"nao\",\"years\",\"vote\",\"dormir\",\"bro\",\"else\",\"quien\",\"untuk\",\"jangan\",\"myself\",\"head\",\"mind\",\"gua\",\"talking\",\"while\",\"dat\",\"food\",\"\\u0434\",\"coming\",\"wkwk\",\"trying\",\"saya\",\"mucho\",\"without\",\"wrong\",\"\\u2019s\",\"baru\",\"__\",\"hehe\",\"hacer\",\"lot\",\"followed\",\"crazy\",\"hell\",\"feeling\",\"des\",\"kok\",\"j\",\"stats\",\"j'\",\"\\u0627\\u0646\",\"tweets\",\"non\",\"cosas\",\"era\",\"high\",\"niggas\",\"change\",\"movie\",\"xx\",\"mad\",\"sih\",\"sometimes\",\"deh\",\"allah\",\"through\",\"pour\",\"ela\",\"soon\",\"gone\",\"playing\",\"smile\",\"bukan\",\"tv\",\"fans\",\"hasta\",\"akan\",\"y'\",\"looks\",\"isso\",\"\\u270c\",\"tired\",\"boys\",\"might\",\"dong\",\"lg\",\"use\",\"maybe\",\"until\",\"menos\",\"own\",\"dengan\",\"eat\",\"ou\",\"weekend\",\"\\u02d8\",\"class\",\"ele\",\"harry\",\"iphone\",\"friday\",\"single\",\"ff\",\"awesome\",\"bout\",\"muito\",\"hoje\",\"\\u00ac\",\"dios\",\"such\",\"estar\",\"j\\u00e1\",\"quando\",\"esa\",\"making\",\"\\u2501\",\"times\",\"lmfao\",\"gw\",\"moment\",\"yet\",\"aw\",\"smh\",\"banget\",\"masih\",\"qui\",\"quem\",\"\\u2013\",\"leave\",\"du\",\"une\",\"guess\",\"hit\",\"\\u0441\",\"pm\",\"since\",\"pues\",\"est\",\"job\",\"\\uff89\",\"mana\",\"bom\",\"siapa\",\"suka\",\"bieber\",\"mention\",\"lebih\",\"favorite\",\"bitches\",\"forever\",\"\\u0644\\u064a\",\"final\",\"read\",\"alguien\",\"open\",\"yourself\",\"ese\",\"che\",\"sex\",\"yaa\",\"car\",\"direction\",\"tidak\",\"seu\",\"gets\",\"left\",\"re\",\"jam\",\"enough\",\"\\u0625\\u0644\\u0627\",\"once\",\"\\u2019\",\"part\",\"cada\",\"\\u5b9a\\u671f\",\"\\u0644\\u0643\",\"een\",\"seen\",\"kak\",\"as\\u00ed\",\"nem\",\"\\u0639\\u0645\\u0644\",\"white\",\"told\",\"says\",\"esto\",\"sad\",\"mo\",\"fue\",\"yah\",\"summer\",\"\\u0647\",\"\\u2b55\",\"\\u00bb\",\"thats\",\"\\u0645\\u0639\",\"posted\",\"wants\",\"agora\",\"together\",\"fan\",\"men\",\"hear\",\"full\",\"\\u2600\",\"sigo\",\"pq\",\"dulu\",\"plus\",\"foi\",\"tudo\",\"\\u0647\\u0648\",\"ill\",\"\\u3042\",\"thinking\",\"wtf\",\"pagi\",\"mama\",\"kalau\",\"hati\",\"sexy\",\"sayang\",\"baik\",\"semua\",\"hola\",\"went\",\"vos\",\"tanto\",\"finally\",\"fb\",\"sea\",\"stupid\",\"tus\",\"seriously\",\"hora\",\"min\",\"pic\",\"estas\",\"turn\",\"hours\",\"excited\",\"nah\",\"buy\",\"saying\",\"mah\",\"break\",\"needs\",\"ce\",\"room\",\"choice\",\"far\",\"dead\",\"quero\",\"saw\",\"kids\",\"lil\",\"whole\",\"puede\",\"fall\",\"sus\",\"lost\",\"asi\",\"word\",\"\\u2639\",\"also\",\"\\u0631\\u064a\\u062a\\u0648\\u064a\\u062a\",\"probably\",\"everybody\",\"tarde\",\"run\",\"sei\",\"follback\",\"forget\",\"sweet\",\"welcome\",\"selamat\",\"\\uff3f\",\"sur\",\"place\",\"gusta\",\"sabe\",\"androidgames\",\"tp\",\"tiempo\",\"\\u0628\\u0633\",\"sou\",\"tuh\",\"vs\",\"eyes\",\"\\u0627\\u0646\\u0627\",\"picture\",\"das\",\"meet\",\"anak\",\"persona\",\"essa\",\"bored\",\"following\",\"nadie\",\"nobody\",\"dice\",\"alone\",\"sick\",\"red\",\"city\",\"cinta\",\"\\u6708\",\"linda\",\"dream\",\"story\",\"km\",\"het\",\"waiting\",\"^_^\",\"mine\",\"\\u0447\\u0442\\u043e\",\"reason\",\"kk\",\"\\u0644\\u0648\",\"online\",\"fast\",\"udh\",\"wanted\",\"op\",\"others\",\"gay\",\"n\\u2019t\",\"used\",\"sem\",\"understand\",\"moi\",\"sm\",\"aint\",\"donde\",\"bem\",\"which\",\"ng\",\"followback\",\"punya\",\"late\",\"anda\",\"tidur\",\"puedo\",\"early\",\"nd\",\"personas\",\"banyak\",\"\\u2705\",\"\\u278a\",\"trust\",\"noche\",\"tl\",\"\\uff1e\",\"\\u00ab\",\"af\",\"move\",\"pro\",\"bring\",\"ku\",\"called\",\"relationship\",\"idk\",\"hurt\",\"st\",\"pernah\",\"pessoas\",\"hello\",\"uno\",\"unfollowers\",\"cry\"],\"x\":{\"__ndarray__\":\"UFFSQJppNkGTg6JB1hDrQB86sUCKxIVBhC+3QajXCkKEp6tBNI2FQb/GvUEMXyLB2WxsQadIq0DHIa5A0NGKQfu4dcE2pBJCBQn9QW2GxkFoMQZC8s8cwpvBxsF1RJpBUEp6Qm18msFb/OS/MK+EQgl1n0HzNxxBrFgfwhcxgkLEo1pBfSUZwKAwsUESdThBVZ+9QWZFD8GZqAVCF43EQKJpgsHb9llB1GEKQroG4sFKzzdBZRFJP6TbFcK/qwXCZtVnQYkY5D8bUL8/FIv0QJ8x58Eily/AIKjEwTs5qsGMSixBV2jtQc4rJ8Ai9YVBTtBPQXGNn0C82fBBkQvUQKdCm0GBinfB0SzfQWo6ZEKUX7VBoChHwS7gBUIJs29B5qEzQEwoIkENEhRBcsoZwZeJt0AlE45CCqInQVflbkCFFutBY6ggwsbMOUHBg0/ADa5WQpbh+MFavoVAup7uvzMje8Dd3v7BgygFQh43l8Fs5IU/qGt9QZ/qYEGX2IBBGT0wwWaH78FqVGTB3QG4QFsmAkIcj43BUGHsQSDQmUFMMCtC5A8dQss9R0ImtBhBeynKweyCtEGcRABBf8tCwbpCVEJx17zBsC44wkXKCkHzVy1BzRGIQRuwNMEAAlhCB28UQvSAE8HVIrZBnW0gQaZPvcF1GtZBSRsnQUZp1UF3upFBz0yVwWcrbcHQ7C7C4tUewoZTGsAo8oQ/NGpQQJud1EGzeJa/WyUSQC6qGEAUSB9C7GFdQTXTvMH+mKdA6CJawsXxGcHhKU3A+uW6Qc/2o0HG3IxCWQ2RQdWdKMH1vcLAteeRwFMeSELCJYRCmq45QdobRcIisTTCP+zGQb99EkKQ5JJC2a0kQnwpdcA8fBxBKydcQWLTEsL3DWLCxDGDQXADQUEs6VbBsiaLwdZeAkEssgXBakBbQgfc5T7bSntCsHL7QWp8DUJfzyPBb1CCwrayDkK+tmlB9Mjrwcx1YEGa/tDB0TeawDsyE79jyvtBpyowwoSNvUBw4FTBmBh1Qic70EAJsWpCdVeNQRlKtUEcL7LB3dg3Qk/il78OnT1CILuiQZ4d5MCuIOTBfNymwZGHVUD/66hBWmE/QhjHG0HUMXlBtkbRwCJbOsAL+VBCM5AgwtJG8z8dobtA0txVQjv4LMHO3llC1RjkQWoJ6EA3Ay3A3NDoQR3YXkJuYh7CMoAPQgFkaMF8tMlBnO9XwMvrg0Akj3NCKFwFwvjLNkFN+VJBRB8HQpGA30HcUs5AUd0uQXHqxsHswEPC2UfdPaiYbEKn34TAQV6BwT6sEcJO+rlASfdEQEO7ikE8jWNBo9EIQY1cFsFOb05CCuCdQXuO8kEHeEPC6McHwoHOL0IbbE/CyCZrQaUAHcKGRZNBBu7ewehwrcFS1D3CW0IQwvQFi8HkVJFBinMcQLobgEJehQhC+gOKQGtVosOjydhA9h+gwPA/U0I34VdCByGYQW3klj72hKBACGPdQQV99MGkCcdBJFu+QJXIfsEncKfBbmcOwTnnekHVPPXBxx09QZzDzsFqKyhBQKqsPrlqx0G3nmdAgy8JQgA9C8Fr9TBBXdjLQco9PEJTTe9BtVUyQZ2ZPsL9gGxCMv3FQQeyJ0IWZEZBiCRIQh5CCUJxT7DBEWU1whQSXsIu7OtAXuigwYwoKUL8V9FBmBzkwYl9kcBkUNdAjLO7Qe4KKUGG5O7AR2AawlBCTUJyrH/BE3kFQtgcxkBuW3ZBDM7zQcX9pEEuVM4/U/2SwEkOZsKtedg+aoIjwhk2zkCoHE/BQxiMQcAV7kGvgQdCSa67Qepnv8BDLoVBvFIkwVtGAcBL889BM9ZkwoVct0E2Mz9BtIgNwpe7ekIZ1ha/ITgiwcbAF8IjUAPAI4t8wnR5E8KEAJVBkQ0mQeKdq8F6EQLC1ldqQmsv0MFcfyLC91LjwcRzB8IvyQvAiguyQf2RJ0K3T6vBwQOgwBfyBUL0Qa3B085uQkEQvkGJBb3BIIDYwIC0MkIpqeZBYzgbwqZfw8F7JxhCFs+DQMfgxUGpDifChKGRwaoWUMEEE/vBCBwiwo6tG8Kiq1hBWH96Ql2alUII9XNBfQEhQa1QG8K3/LFBOhLkQSVRyj/ADKk/gJDmP0NwsMEFC4U+ZydBQtNY5UFuGJhAdhASwhJvrkGi4KZB6Hv4wUeSs0DhgCHB3qfbQL5wMMI7HgDCsX1WwBR9SsIcZ/bBtUz9QCkvFEEoAG1CuSOgQao7MELmB7VBtVfNQcvJwEEuGMnApsuDPeXPI8K2E93BAGehQcwLDMKyy4tD7FB0wmn8ucBfC8FBTQKJQRAmpMGd33lBlhOrwZb7WsHwQfpBvKKaQjL3skHxP5BCy14rwtRWWkI1nyTCpHDJvx1AdMEEnZrAg6NEQMiIgEGda7TBPsIHQblYKMKErbtBlAFPwMwwfcFMVbnBgGFYQb+eLcLsQwbC5BOEwQpYYMGuE2dBlUJ6QaEIBMKjg7XBdWYdwamCD8F580/BhAM7wrg4QcEoe4FB1YZAQcWeYEFz/CZCQvxVwk1PzsDss3LBHVM6Qv71HMI1kUzCAuXpwUYQ50HFkxrCq4NDQSffrr8sC83BTIZGwmXOKMF08JNAE0jyQZtIYMKzJZtAs9paQrxpS8FG/KfAqE1SQvaFlMAH2VzBv3wdQpr7O8LSi1pBwG7nQHGsoUAS4qlBNSogwvqZeUJDy9vBWxp+wNnaRsKigdZBme73wblQdkKlAUVC8g0GwNv4esGP3udBvx/VwfOxsUAF7dPBGs7TQCBQdsFvReVBluO2QRCBJMF2ciPCIGeyQeo0CMIRdWxBpLGdQVi8i0Drt0PCKwaqPqkBJMJP0XjBtQBNQreNTUHGDFjCEHcoQL/zBMIBqmZCtMBzwZSTzEGD4DFCUTpBwNfmhsAbPUzCw7dnweH6N0E31bBBgQ7JwB+il8Gxa9rAvCIjwvfYb8IwmhZC9snDwKOUxkAjMwnCn/kOwt7DWkKrME1AeO6YwcwMOUGxJq7BaAkYQsh4CMHX5ZNBWl44wucHhkDGE4tBGFWSP+43AsKyYKlBQPEjwjUg5MEZd21BjSi4QCm/KsF49RxBH4aGwbE9X0E3WBPBZ/6MwuZNHcGi5SFCU9d2wUha8EFnBbpAPegLwuuNfEC/D9zAtp+Swc3t38F18mpCoTEYQQaq0j/8nWfC2CaPQfecJcLCF+2/BNsbQIyQJcI6MS1CX6zewHCZB0GNRdm/duQOQF6zKkBs15lBjsFOwp4fjEGMNqVB15KsQSuIhMGKQ+zBhT6ZQWe06UHPhTXBbj6+QSk1D7/QXRFBEwMcwVr1AcICVaXBNyP4QGGpDUKlzAXCL88MwsQCt8F9SZ7BNFnyQTc3BUECxylBM3rAwRBk/EF0xOTBOfwkwicILMI/4atBTlRQQirQD8JMf/ZAVB3JwabpGMKAgYhAellbQaZp8cH0phnCCmsMwuN7EELegYLBd/aMwTLyy8FjXrM/WBdfQvh95kBD2KFBU/eMwfQKsEA5YsPBLMCPwSvU1sEplY5BxHw/QZqC6kEUeTVBP/sPwpYuJMEpkyJCULzEwdJyrcFMVgPC1J51wplcrUG5NsnA8EI8QhL1f8LOjWFCvkppQh5ZJMJ7jWvCkLLrwBCCB8LZzxLCuGsQwrHFlcC7eGk/TCLBwYA8xUHQehvCYofAQf1r8L94jknCYYOGwgLRDMJZ1C1BstDnwRciBsGIFlDCT6WGQUXpqUDLFYrA5LtJwqdx20CoSjXC5BFVwOoAPsLiw/pByxHawffM10Hi+/dBa9fSQV3/tkE/mYNBHPTuQYBVYkFx5IvB9hOQwGcLmD/9N0TA+Ikuwu5UsEEm8ChCJyWVQSaPBsKWopDBlPN6wHfA3EGh3YnBZv4KQZf8gEEk3xnC5ehWwg4UyMG7PV9BUGxowtcU0UAz7cLB/tPxwYaMNsKuA+vBfEwowfwdXkIVvUtAu+1CwS71EEJ4qljBycKmwHZtnUBMOXrBz0f3QcZZ0kFTOlTCOQMnwiXAmUGgjoTBBDuFwhLQecL8VJZAY8yxwYZlaEL1VBxC/910QfJmHcIvrGHCmSDfwNIkYEJizHxADJ9fwsKEE0GrvklBBYyMwWy+NEJWdKpBmg+NQZ9+EMI2OevBjyQZQhVkMUDqrUNCI1ESwqvFVUJaVAPC9nzewcVnFsK+vR9Bsb+GQaQu6cEFo6DB9qUqQZhPB8KDM2JARngewUuhTsI1UcdBhCWLweHzekKdcxpBWemCQbCePcH++LrBWsZkQpNsDEIpzbfBw+38QYday0HTgETCEqgZwihgBEIdDzLBah2iQTvsx0GBYgjCLCAnwt8a/sBPgxbCVKKfQRYD5EE4u0NCJyfeQcN/00E8zDXAONhhQuJz/kHFtgpCFYz8wZl1BMJKS8nAlL/Yv+vEycEz1upA28YJQsI0K8KOwBnCkCBGQUJVh8KpqMbBvfBKwgLwTkKji03BE+tXQpud6cF2hpfA44OBQROZeEFVJgVBZaauQYKQMT89Fv1Bt3W6QarQmEAiq03CjLgNwP2FPsIleITB2TsaQRvYQ0JsblXCFnrswWIAZcJvtqZBtJfwwXpRxkFZug5C7BNDwqzH18EhaLFBWOazQLI36kAZAJDBfQCNwRcj9UFSG2rAesYZQi06XsJEKo7BBTRYQrDXO8ISraHBm20Dwn5B80H9e+9B0qEfwgY5u79ILB/CecFYwsxsVcKkOChAzGA/woGrVcKf68dBQnRZQT8z1UGF8dRBkizywTpeDcKdLavBj309wg8g/0H9kMXBJJqNQSno+UElJVBBnhiIQuYSfsKQGqHBfLkCwqacUcGYAUPAUsllQfcM2sH9VjxCYXg/wlgSjUF7aQ1AAgBVwtPtKUIYdRRC3bfswerBKUIpGzlBz3b5we43P8Joh8jBJTY5QjSGGsK56OrB6W7wwT+c4MHHWgDCer+WwMixDEFt485BeLKMQi4BEcHvbhZC234DwQXGk0FNyeDBsZ8kwLan10FFGR3ARs5pQlUYAMLR3Z9AxrQgQgEce0FZBJ/BCIwCQubRGkKhJrnBVf5+wWDe1sBarPDBwSKIQcc8IcJZ1RbCwOF6wpzbGkKg0P7B9UAswmvsY8Ir6OdAn7gmwXEkcEJXVoxB8dDaQVMFrEDKcHlB090xwpbTykHsf1NBCL5wwtHeNkEwE7dBWDKuQc/PEcJLlyfCRWZJQjNaiEKBNbJB4/+mwb5Nw8HpqILBMt1qwWYRpcAPWlBBINaXQTYN2D8xlCbCNSxWQS8cs0HVuU7CK7/bQWPNzcHewUJCmooWwg==\",\"dtype\":\"float32\",\"order\":\"little\",\"shape\":[1000]},\"y\":{\"__ndarray__\":\"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\",\"dtype\":\"float32\",\"order\":\"little\",\"shape\":[1000]}},\"selected\":{\"id\":\"1526\"},\"selection_policy\":{\"id\":\"1527\"}},\"id\":\"1445\",\"type\":\"ColumnDataSource\"},{\"attributes\":{},\"id\":\"1463\",\"type\":\"PanTool\"},{\"attributes\":{},\"id\":\"1447\",\"type\":\"DataRange1d\"},{\"attributes\":{\"bottom_units\":\"screen\",\"fill_alpha\":0.5,\"fill_color\":\"lightgrey\",\"left_units\":\"screen\",\"level\":\"overlay\",\"line_alpha\":1.0,\"line_color\":\"black\",\"line_dash\":[4,4],\"line_width\":2,\"right_units\":\"screen\",\"top_units\":\"screen\"},\"id\":\"1469\",\"type\":\"BoxAnnotation\"},{\"attributes\":{},\"id\":\"1453\",\"type\":\"LinearScale\"},{\"attributes\":{\"formatter\":{\"id\":\"1522\"},\"ticker\":{\"id\":\"1456\"}},\"id\":\"1455\",\"type\":\"LinearAxis\"},{\"attributes\":{},\"id\":\"1467\",\"type\":\"ResetTool\"},{\"attributes\":{},\"id\":\"1456\",\"type\":\"BasicTicker\"},{\"attributes\":{\"formatter\":{\"id\":\"1524\"},\"ticker\":{\"id\":\"1460\"}},\"id\":\"1459\",\"type\":\"LinearAxis\"},{\"attributes\":{\"overlay\":{\"id\":\"1469\"}},\"id\":\"1465\",\"type\":\"BoxZoomTool\"},{\"attributes\":{\"axis\":{\"id\":\"1455\"},\"ticker\":null},\"id\":\"1458\",\"type\":\"Grid\"}],\"root_ids\":[\"1446\"]},\"title\":\"Bokeh Application\",\"version\":\"2.2.3\"}};\n",
       "  var render_items = [{\"docid\":\"c43696a7-4c21-4fba-bb60-ed313503ecd7\",\"root_ids\":[\"1446\"],\"roots\":{\"1446\":\"d22b7f81-0d88-4451-9619-aecaba6e9d51\"}}];\n",
       "  root.Bokeh.embed.embed_items_notebook(docs_json, render_items);\n",
       "\n",
       "  }\n",
       "  if (root.Bokeh !== undefined) {\n",
       "    embed_document(root);\n",
       "  } else {\n",
       "    var attempts = 0;\n",
       "    var timer = setInterval(function(root) {\n",
       "      if (root.Bokeh !== undefined) {\n",
       "        clearInterval(timer);\n",
       "        embed_document(root);\n",
       "      } else {\n",
       "        attempts++;\n",
       "        if (attempts > 100) {\n",
       "          clearInterval(timer);\n",
       "          console.log(\"Bokeh: ERROR: Unable to run BokehJS code because BokehJS library is missing\");\n",
       "        }\n",
       "      }\n",
       "    }, 10, root)\n",
       "  }\n",
       "})(window);"
      ],
      "application/vnd.bokehjs_exec.v0+json": ""
     },
     "metadata": {
      "application/vnd.bokehjs_exec.v0+json": {
       "id": "1446"
      }
     },
     "output_type": "display_data"
    },
    {
     "data": {
      "text/html": [
       "<div style=\"display: table;\"><div style=\"display: table-row;\"><div style=\"display: table-cell;\"><b title=\"bokeh.plotting.figure.Figure\">Figure</b>(</div><div style=\"display: table-cell;\">id&nbsp;=&nbsp;'1446', <span id=\"1575\" style=\"cursor: pointer;\">&hellip;)</span></div></div><div class=\"1574\" style=\"display: none;\"><div style=\"display: table-cell;\"></div><div style=\"display: table-cell;\">above&nbsp;=&nbsp;[],</div></div><div class=\"1574\" style=\"display: none;\"><div style=\"display: table-cell;\"></div><div style=\"display: table-cell;\">align&nbsp;=&nbsp;'start',</div></div><div class=\"1574\" style=\"display: none;\"><div style=\"display: table-cell;\"></div><div style=\"display: table-cell;\">aspect_ratio&nbsp;=&nbsp;None,</div></div><div class=\"1574\" style=\"display: none;\"><div style=\"display: table-cell;\"></div><div style=\"display: table-cell;\">aspect_scale&nbsp;=&nbsp;1,</div></div><div class=\"1574\" style=\"display: none;\"><div style=\"display: table-cell;\"></div><div style=\"display: table-cell;\">background&nbsp;=&nbsp;None,</div></div><div class=\"1574\" style=\"display: none;\"><div style=\"display: table-cell;\"></div><div style=\"display: table-cell;\">background_fill_alpha&nbsp;=&nbsp;1.0,</div></div><div class=\"1574\" style=\"display: none;\"><div style=\"display: table-cell;\"></div><div style=\"display: table-cell;\">background_fill_color&nbsp;=&nbsp;'#ffffff',</div></div><div class=\"1574\" style=\"display: none;\"><div style=\"display: table-cell;\"></div><div style=\"display: table-cell;\">below&nbsp;=&nbsp;[LinearAxis(id='1455', ...)],</div></div><div class=\"1574\" style=\"display: none;\"><div style=\"display: table-cell;\"></div><div style=\"display: table-cell;\">border_fill_alpha&nbsp;=&nbsp;1.0,</div></div><div class=\"1574\" style=\"display: none;\"><div style=\"display: table-cell;\"></div><div style=\"display: table-cell;\">border_fill_color&nbsp;=&nbsp;'#ffffff',</div></div><div class=\"1574\" style=\"display: none;\"><div style=\"display: table-cell;\"></div><div style=\"display: table-cell;\">center&nbsp;=&nbsp;[Grid(id='1458', ...), Grid(id='1462', ...)],</div></div><div class=\"1574\" style=\"display: none;\"><div style=\"display: table-cell;\"></div><div style=\"display: table-cell;\">css_classes&nbsp;=&nbsp;[],</div></div><div class=\"1574\" style=\"display: none;\"><div style=\"display: table-cell;\"></div><div style=\"display: table-cell;\">disabled&nbsp;=&nbsp;False,</div></div><div class=\"1574\" style=\"display: none;\"><div style=\"display: table-cell;\"></div><div style=\"display: table-cell;\">extra_x_ranges&nbsp;=&nbsp;{},</div></div><div class=\"1574\" style=\"display: none;\"><div style=\"display: table-cell;\"></div><div style=\"display: table-cell;\">extra_y_ranges&nbsp;=&nbsp;{},</div></div><div class=\"1574\" style=\"display: none;\"><div style=\"display: table-cell;\"></div><div style=\"display: table-cell;\">frame_height&nbsp;=&nbsp;None,</div></div><div class=\"1574\" style=\"display: none;\"><div style=\"display: table-cell;\"></div><div style=\"display: table-cell;\">frame_width&nbsp;=&nbsp;None,</div></div><div class=\"1574\" style=\"display: none;\"><div style=\"display: table-cell;\"></div><div style=\"display: table-cell;\">height&nbsp;=&nbsp;None,</div></div><div class=\"1574\" style=\"display: none;\"><div style=\"display: table-cell;\"></div><div style=\"display: table-cell;\">height_policy&nbsp;=&nbsp;'auto',</div></div><div class=\"1574\" style=\"display: none;\"><div style=\"display: table-cell;\"></div><div style=\"display: table-cell;\">hidpi&nbsp;=&nbsp;True,</div></div><div class=\"1574\" style=\"display: none;\"><div style=\"display: table-cell;\"></div><div style=\"display: table-cell;\">js_event_callbacks&nbsp;=&nbsp;{},</div></div><div class=\"1574\" style=\"display: none;\"><div style=\"display: table-cell;\"></div><div style=\"display: table-cell;\">js_property_callbacks&nbsp;=&nbsp;{},</div></div><div class=\"1574\" style=\"display: none;\"><div style=\"display: table-cell;\"></div><div style=\"display: table-cell;\">left&nbsp;=&nbsp;[LinearAxis(id='1459', ...)],</div></div><div class=\"1574\" style=\"display: none;\"><div style=\"display: table-cell;\"></div><div style=\"display: table-cell;\">lod_factor&nbsp;=&nbsp;10,</div></div><div class=\"1574\" style=\"display: none;\"><div style=\"display: table-cell;\"></div><div style=\"display: table-cell;\">lod_interval&nbsp;=&nbsp;300,</div></div><div class=\"1574\" style=\"display: none;\"><div style=\"display: table-cell;\"></div><div style=\"display: table-cell;\">lod_threshold&nbsp;=&nbsp;2000,</div></div><div class=\"1574\" style=\"display: none;\"><div style=\"display: table-cell;\"></div><div style=\"display: table-cell;\">lod_timeout&nbsp;=&nbsp;500,</div></div><div class=\"1574\" style=\"display: none;\"><div style=\"display: table-cell;\"></div><div style=\"display: table-cell;\">margin&nbsp;=&nbsp;(0, 0, 0, 0),</div></div><div class=\"1574\" style=\"display: none;\"><div style=\"display: table-cell;\"></div><div style=\"display: table-cell;\">match_aspect&nbsp;=&nbsp;False,</div></div><div class=\"1574\" style=\"display: none;\"><div style=\"display: table-cell;\"></div><div style=\"display: table-cell;\">max_height&nbsp;=&nbsp;None,</div></div><div class=\"1574\" style=\"display: none;\"><div style=\"display: table-cell;\"></div><div style=\"display: table-cell;\">max_width&nbsp;=&nbsp;None,</div></div><div class=\"1574\" style=\"display: none;\"><div style=\"display: table-cell;\"></div><div style=\"display: table-cell;\">min_border&nbsp;=&nbsp;5,</div></div><div class=\"1574\" style=\"display: none;\"><div style=\"display: table-cell;\"></div><div style=\"display: table-cell;\">min_border_bottom&nbsp;=&nbsp;None,</div></div><div class=\"1574\" style=\"display: none;\"><div style=\"display: table-cell;\"></div><div style=\"display: table-cell;\">min_border_left&nbsp;=&nbsp;None,</div></div><div class=\"1574\" style=\"display: none;\"><div style=\"display: table-cell;\"></div><div style=\"display: table-cell;\">min_border_right&nbsp;=&nbsp;None,</div></div><div class=\"1574\" style=\"display: none;\"><div style=\"display: table-cell;\"></div><div style=\"display: table-cell;\">min_border_top&nbsp;=&nbsp;None,</div></div><div class=\"1574\" style=\"display: none;\"><div style=\"display: table-cell;\"></div><div style=\"display: table-cell;\">min_height&nbsp;=&nbsp;None,</div></div><div class=\"1574\" style=\"display: none;\"><div style=\"display: table-cell;\"></div><div style=\"display: table-cell;\">min_width&nbsp;=&nbsp;None,</div></div><div class=\"1574\" style=\"display: none;\"><div style=\"display: table-cell;\"></div><div style=\"display: table-cell;\">name&nbsp;=&nbsp;None,</div></div><div class=\"1574\" style=\"display: none;\"><div style=\"display: table-cell;\"></div><div style=\"display: table-cell;\">outline_line_alpha&nbsp;=&nbsp;1.0,</div></div><div class=\"1574\" style=\"display: none;\"><div style=\"display: table-cell;\"></div><div style=\"display: table-cell;\">outline_line_cap&nbsp;=&nbsp;'butt',</div></div><div class=\"1574\" style=\"display: none;\"><div style=\"display: table-cell;\"></div><div style=\"display: table-cell;\">outline_line_color&nbsp;=&nbsp;'#e5e5e5',</div></div><div class=\"1574\" style=\"display: none;\"><div style=\"display: table-cell;\"></div><div style=\"display: table-cell;\">outline_line_dash&nbsp;=&nbsp;[],</div></div><div class=\"1574\" style=\"display: none;\"><div style=\"display: table-cell;\"></div><div style=\"display: table-cell;\">outline_line_dash_offset&nbsp;=&nbsp;0,</div></div><div class=\"1574\" style=\"display: none;\"><div style=\"display: table-cell;\"></div><div style=\"display: table-cell;\">outline_line_join&nbsp;=&nbsp;'bevel',</div></div><div class=\"1574\" style=\"display: none;\"><div style=\"display: table-cell;\"></div><div style=\"display: table-cell;\">outline_line_width&nbsp;=&nbsp;1,</div></div><div class=\"1574\" style=\"display: none;\"><div style=\"display: table-cell;\"></div><div style=\"display: table-cell;\">output_backend&nbsp;=&nbsp;'canvas',</div></div><div class=\"1574\" style=\"display: none;\"><div style=\"display: table-cell;\"></div><div style=\"display: table-cell;\">plot_height&nbsp;=&nbsp;400,</div></div><div class=\"1574\" style=\"display: none;\"><div style=\"display: table-cell;\"></div><div style=\"display: table-cell;\">plot_width&nbsp;=&nbsp;600,</div></div><div class=\"1574\" style=\"display: none;\"><div style=\"display: table-cell;\"></div><div style=\"display: table-cell;\">renderers&nbsp;=&nbsp;[GlyphRenderer(id='1480', ...)],</div></div><div class=\"1574\" style=\"display: none;\"><div style=\"display: table-cell;\"></div><div style=\"display: table-cell;\">reset_policy&nbsp;=&nbsp;'standard',</div></div><div class=\"1574\" style=\"display: none;\"><div style=\"display: table-cell;\"></div><div style=\"display: table-cell;\">right&nbsp;=&nbsp;[],</div></div><div class=\"1574\" style=\"display: none;\"><div style=\"display: table-cell;\"></div><div style=\"display: table-cell;\">sizing_mode&nbsp;=&nbsp;None,</div></div><div class=\"1574\" style=\"display: none;\"><div style=\"display: table-cell;\"></div><div style=\"display: table-cell;\">subscribed_events&nbsp;=&nbsp;[],</div></div><div class=\"1574\" style=\"display: none;\"><div style=\"display: table-cell;\"></div><div style=\"display: table-cell;\">tags&nbsp;=&nbsp;[],</div></div><div class=\"1574\" style=\"display: none;\"><div style=\"display: table-cell;\"></div><div style=\"display: table-cell;\">title&nbsp;=&nbsp;Title(id='1520', ...),</div></div><div class=\"1574\" style=\"display: none;\"><div style=\"display: table-cell;\"></div><div style=\"display: table-cell;\">title_location&nbsp;=&nbsp;'above',</div></div><div class=\"1574\" style=\"display: none;\"><div style=\"display: table-cell;\"></div><div style=\"display: table-cell;\">toolbar&nbsp;=&nbsp;Toolbar(id='1470', ...),</div></div><div class=\"1574\" style=\"display: none;\"><div style=\"display: table-cell;\"></div><div style=\"display: table-cell;\">toolbar_location&nbsp;=&nbsp;'right',</div></div><div class=\"1574\" style=\"display: none;\"><div style=\"display: table-cell;\"></div><div style=\"display: table-cell;\">toolbar_sticky&nbsp;=&nbsp;True,</div></div><div class=\"1574\" style=\"display: none;\"><div style=\"display: table-cell;\"></div><div style=\"display: table-cell;\">visible&nbsp;=&nbsp;True,</div></div><div class=\"1574\" style=\"display: none;\"><div style=\"display: table-cell;\"></div><div style=\"display: table-cell;\">width&nbsp;=&nbsp;None,</div></div><div class=\"1574\" style=\"display: none;\"><div style=\"display: table-cell;\"></div><div style=\"display: table-cell;\">width_policy&nbsp;=&nbsp;'auto',</div></div><div class=\"1574\" style=\"display: none;\"><div style=\"display: table-cell;\"></div><div style=\"display: table-cell;\">x_range&nbsp;=&nbsp;DataRange1d(id='1447', ...),</div></div><div class=\"1574\" style=\"display: none;\"><div style=\"display: table-cell;\"></div><div style=\"display: table-cell;\">x_scale&nbsp;=&nbsp;LinearScale(id='1451', ...),</div></div><div class=\"1574\" style=\"display: none;\"><div style=\"display: table-cell;\"></div><div style=\"display: table-cell;\">y_range&nbsp;=&nbsp;DataRange1d(id='1449', ...),</div></div><div class=\"1574\" style=\"display: none;\"><div style=\"display: table-cell;\"></div><div style=\"display: table-cell;\">y_scale&nbsp;=&nbsp;LinearScale(id='1453', ...))</div></div></div>\n",
       "<script>\n",
       "(function() {\n",
       "  var expanded = false;\n",
       "  var ellipsis = document.getElementById(\"1575\");\n",
       "  ellipsis.addEventListener(\"click\", function() {\n",
       "    var rows = document.getElementsByClassName(\"1574\");\n",
       "    for (var i = 0; i < rows.length; i++) {\n",
       "      var el = rows[i];\n",
       "      el.style.display = expanded ? \"none\" : \"table-row\";\n",
       "    }\n",
       "    ellipsis.innerHTML = expanded ? \"&hellip;)\" : \"&lsaquo;&lsaquo;&lsaquo;\";\n",
       "    expanded = !expanded;\n",
       "  });\n",
       "})();\n",
       "</script>\n"
      ],
      "text/plain": [
       "Figure(id='1446', ...)"
      ]
     },
     "execution_count": 91,
     "metadata": {},
     "output_type": "execute_result"
    }
   ],
   "source": [
    "draw_vectors(word_vectors_tsne[:, 0], word_vectors_tsne[:, 1], color='green', token=words)"
   ]
  },
  {
   "cell_type": "code",
   "execution_count": null,
   "metadata": {},
   "outputs": [],
   "source": []
  }
 ],
 "metadata": {
  "kernelspec": {
   "display_name": "Python 3 (ipykernel)",
   "language": "python",
   "name": "python3"
  },
  "language_info": {
   "codemirror_mode": {
    "name": "ipython",
    "version": 3
   },
   "file_extension": ".py",
   "mimetype": "text/x-python",
   "name": "python",
   "nbconvert_exporter": "python",
   "pygments_lexer": "ipython3",
   "version": "3.10.12"
  }
 },
 "nbformat": 4,
 "nbformat_minor": 4
}
